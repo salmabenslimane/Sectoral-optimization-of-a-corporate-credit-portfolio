{
  "nbformat": 4,
  "nbformat_minor": 0,
  "metadata": {
    "colab": {
      "provenance": [],
      "collapsed_sections": [
        "bW1US2Q88DCx",
        "xm_rfFhL6bOV",
        "I144qwZR4Ir5",
        "Ru5TEgzcINb_",
        "kEN_PbK9l4KU",
        "8ygiagDGImdw",
        "6KB4KaS2Imdx",
        "xls3uJcNCgic",
        "VfTS96E_IX39",
        "tIm4d1TUImdy",
        "FfgkYrABI-oi",
        "EpxnTSAdsefv",
        "oFuLY_Basefx",
        "Js1KyyzQBKBS",
        "KlrA9BIKBsw4",
        "e7b48F_6sefw",
        "uzA6BuWSu8ex",
        "0GvRwqOo9-Ou",
        "znLHBd929-PL",
        "rrYyrO8Z9-PM",
        "fctWHav79-PO",
        "L0tjF4Al9-PQ",
        "aXW4I6Zb9-PU",
        "w0hIYdvc9-PU",
        "4aQzn8FG9-PV",
        "7FUZXa_89-PV",
        "aACj4p8e5iZK",
        "tioVgKDk5iZc",
        "e2VVFpe_5iZc",
        "5GEW0k4ZqmQX",
        "pAc3thaMWIG6"
      ]
    },
    "kernelspec": {
      "name": "python3",
      "display_name": "Python 3"
    },
    "language_info": {
      "name": "python"
    }
  },
  "cells": [
    {
      "cell_type": "markdown",
      "source": [
        "#Mini projet: Optimisation"
      ],
      "metadata": {
        "id": "MbGnIL90mulf"
      }
    },
    {
      "cell_type": "markdown",
      "source": [
        "# **Optimisation sectorielle d'un portefeuille de crédit aux entreprises**\n",
        "\n",
        "### Membres du projet 20 :\n",
        "  1. BENSLIMANE Salma\n",
        "  2. NAHLI Ghita\n",
        "  3. SAADIOUI Badreddine\n",
        "  4. SALEHI Abderrahmane\n",
        "  5. SELLAKH Jaafar"
      ],
      "metadata": {
        "id": "-5c0jLps1Xm8"
      }
    },
    {
      "cell_type": "markdown",
      "source": [
        "# **Introduction**"
      ],
      "metadata": {
        "id": "bW1US2Q88DCx"
      }
    },
    {
      "cell_type": "markdown",
      "source": [
        "Une banque est une entreprise spécialisée dans les opérations financières. Les principales activités des banques traditionnelles incluent la collecte de dépôts et la distribution de crédits. La collecte de dépôts permet aux banques d'agir en tant qu'intermédiaires financiers en empruntant à court terme aux personnes disposant d'un excédent de financement (sous forme de dépôts) et en prêtant à long terme aux personnes ayant besoin de financement.\n",
        "\n",
        "En plus de la distribution de crédits, les banques proposent également une variété de services. Par exemple, elles offrent la gestion de comptes bancaires, ce qui inclut la réalisation de virements et la possibilité d'ouvrir un livret A, entre autres. Elles proposent également des assurances adaptées aux besoins de leurs clients et offrent différents moyens de paiement tels que les cartes Visa. En outre, les banques peuvent offrir des services de gestion de compte spécifiquement destinés à leurs clients les plus importants.\n",
        "La mise en place d'un modèle d'allocation d'actifs pour obtenir une répartition optimale d'un portefeuille de crédit destiné aux grandes entreprises est essentielle pour assurer un développement réussi de l'activité bancaire, tout en gérant les risques inhérents à cette activité. Cela permet à la banque de garantir un niveau de risque approprié, en tenant compte des contraintes réglementaires, tout en visant une rentabilité satisfaisante pour rémunérer les actionnaires en fonction de leur investissement.\n",
        "\n",
        "Pour mettre en place un modèle d'allocation d'actifs, plusieurs éléments doivent être pris en compte. Tout d'abord, il est important d'analyser les caractéristiques des différentes entreprises clientes, telles que leur secteur d'activité, leur taille, leur historique de crédit, leur capacité de remboursement, etc. Cela permet d'évaluer les risques associés à chaque entreprise et d'identifier les opportunités de rendement potentiel.\n",
        "\n",
        "Ensuite, il est nécessaire de considérer les contraintes réglementaires spécifiques applicables à l'activité de prêt aux grandes entreprises. Les réglementations peuvent varier en fonction du pays et peuvent imposer des exigences en termes de ratios de capital, de limites d'exposition, de réserves de liquidité, etc. Il est important de s'assurer que la répartition du portefeuille de crédit respecte ces contraintes pour se conformer aux règles établies.\n",
        "\n",
        "Un autre aspect crucial est l'utilisation d'outils et de modèles analytiques robustes pour évaluer le risque de crédit des emprunteurs potentiels et pour optimiser la répartition du portefeuille de crédit. Ces modèles prennent en compte divers facteurs tels que le profil financier de l'entreprise, les indicateurs économiques pertinents, les données historiques sur le remboursement des prêts, etc. Ils permettent d'évaluer le risque associé à chaque emprunteur et de déterminer la répartition optimale du portefeuille pour atteindre un équilibre entre risque et rendement.\n",
        "\n",
        "En résumé, mettre en place un modèle d'allocation d'actifs efficace pour un portefeuille de crédit aux grandes entreprises nécessite une analyse approfondie des caractéristiques des clients, la prise en compte des contraintes réglementaires et l'utilisation d'outils analytiques avancés. Cela permet d'atteindre un équilibre entre le niveau de risque, la rentabilité et les objectifs de rémunération des actionnaires.\n",
        "\n",
        "Ainsi, notre probématique se formule alors de la manière suivante: Comment mettre en place un modèle d’allocation d’actif qui donne une répartition optimale d’un tel portefeuille de crédit ?"
      ],
      "metadata": {
        "id": "um82O5LDnB4c"
      }
    },
    {
      "cell_type": "markdown",
      "source": [
        "# **A. Formulation mathématique du problème:**"
      ],
      "metadata": {
        "id": "xm_rfFhL6bOV"
      }
    },
    {
      "cell_type": "markdown",
      "source": [
        "##**A.1 Objectifs et modélisation:**"
      ],
      "metadata": {
        "id": "I144qwZR4Ir5"
      }
    },
    {
      "cell_type": "markdown",
      "source": [
        "\n",
        "L'objectif de ce mémoire est d'optimiser un portefeuille de crédit en utilisant une approche sectorielle. Le portefeuille de crédit considéré est celui des entreprises de La Banque Postale. Dans un premier temps, le portefeuille est réparti en fonction des secteurs d'activité des contreparties. Ensuite, nous cherchons à déterminer les rendements historiques et le coût du risque pour chaque secteur d'activité. En fin de compte, notre objectif est de développer un modèle d'allocation qui nous permettra de déterminer les poids optimaux à investir dans chaque secteur d'activité afin de maximiser le rendement du portefeuille tout en tenant compte des contraintes spécifiques au métier bancaire.\n",
        "\n",
        "Le modèle classique d'allocation utilisé est le modèle de Markowitz. Ce modèle permet de trouver les poids optimaux qui maximisent le rendement d'un portefeuille tout en minimisant sa volatilité. Dans notre cas, nous utilisons le modèle de Markowitz comme base pour construire notre propre modèle, en y ajoutant une contrainte métier spécifique dans l'algorithme d'optimisation. On expliquera par la suite en détails le modèle de Markowitz.\n",
        "\n",
        "Mathématiquement, le problème d'optimisation que nous cherchons à résoudre peut être formulé de la manière suivante :\n",
        "\\begin{cases}\n",
        "\\min_{\\omega} \\quad & \\omega^TΣ \\omega \\\\\n",
        "\\text{sous contrainte} \\quad &\\sum_t \\omega_t R_t \\leq M \\\\\n",
        "\\text{sous contrainte} \\quad & \\omega^T \\mu = \\mu_P \\\\\n",
        "\\text{sous contrainte} \\quad & \\omega^T e = 1 \\\\\n",
        "\\end{cases}\n",
        "\n",
        "\n",
        "\n",
        "— $ω$ désigne le vecteur de poids des actifs composant le portefeuille\n",
        "\n",
        "— $µ$ le vecteur des rentabilités des actifs\n",
        "\n",
        "— $µ_P$ le rendement cible du portefeuille\n",
        "\n",
        "-$Σ$\n",
        "la matrice de variance-covariance des rentabilités des actifs, symétrique et définie\n",
        "positive\n",
        "\n",
        "— $e = (1, 1, ..., 1)^T$\n",
        "\n",
        "— $M$est une constante qui est une combinanison linéaire de la contrainte coût du\n",
        "risque qu’on ne veut pas dépasser sur chaque secteur d’activité et des poids optimaux.\n",
        "\n",
        " -$R$ est le coût du risque."
      ],
      "metadata": {
        "id": "naYyIDdG4nfw"
      }
    },
    {
      "cell_type": "markdown",
      "source": [
        "##**A.2 Défintion de la fonction coût : $f: E  → F$**"
      ],
      "metadata": {
        "id": "Ru5TEgzcINb_"
      }
    },
    {
      "cell_type": "markdown",
      "source": [
        "\n",
        "Définition de la fonction coût : f: E → F\n",
        "Dans cette partie, nous allons définir la fonction coût qui sera utilisée dans notre approche d'optimisation pour trouver les poids optimaux du portefeuille de crédit. La fonction coût, notée f, est une fonction qui prend en entrée un ensemble E de poids des actifs et renvoie un ensemble F de coûts associés à ces poids.\n",
        "\n",
        "Mathématiquement, la fonction coût peut être définie comme suit :\n",
        "\n",
        "$f:E→F$\n",
        "\n",
        "où :\n",
        "\n",
        "E représente l'espace des poids des actifs composant le portefeuille. Il s'agit d'un ensemble de vecteurs de poids $\\omega$ tels que $w^T \\cdot e = 1$, où $e^T = (1, 1, \\ldots, 1)$ est un vecteur de ones.\n",
        "F représente l'espace des coûts associés aux poids des actifs. Il s'agit d'un ensemble de coûts associés à chaque vecteur de poids $\\omega$.\n",
        "La fonction coût f associe à chaque vecteur de poids $\\omega$ dans E un coût correspondant dans F. Ce coût peut être défini en fonction de plusieurs critères, tels que le rendement attendu, la volatilité, le coût du risque ou d'autres contraintes métiers spécifiques.\n",
        "\n",
        "Dans notre approche d'optimisation pour l'allocation du portefeuille de crédit, la fonction coût sera définie en utilisant le modèle de Markowitz. Nous cherchons à maximiser le rendement du portefeuille tout en minimisant sa volatilité. Ainsi, la fonction coût sera définie comme la volatilité du portefeuille, représentée par la matrice de variance-covariance $\\sum$, multipliée par le vecteur de poids $\\omega$.\n",
        "\n",
        "$f(\\omega) = \\omega^T \\cdot \\sum \\cdot \\omega$\n",
        "\n",
        "\n",
        "L'objectif de notre approche d'optimisation sera donc de trouver les poids optimaux $\\omega$ qui minimisent la fonction coût f, tout en respectant les contraintes métiers telles que le rendement cible du portefeuille.\n",
        "\n",
        "En résumé, la fonction coût f que nous avons définie représente la volatilité du portefeuille de crédit et sera utilisée dans notre modèle d'allocation pour trouver les poids optimaux."
      ],
      "metadata": {
        "id": "wd35Oem8rueC"
      }
    },
    {
      "cell_type": "markdown",
      "source": [
        "## **Comment avons-nous posé le problème?**"
      ],
      "metadata": {
        "id": "kEN_PbK9l4KU"
      }
    },
    {
      "cell_type": "markdown",
      "source": [
        "La théorie moderne du portefeuille, développée par Markowitz, propose un modèle d'allocation d'actifs qui vise à optimiser le compromis entre le rendement et le risque d'un portefeuille boursier. Ce modèle met en évidence l'importance de la diversification (Diversifier son portefeuille bourse est indispensable pour réduire son risque sur les marchés financiers. La diversification est la pour protéger votre capital et pour vous aider à pérenniser la rentabilité de vos investissements en bourse) dans la construction d'un portefeuille.\n",
        "\n",
        "Selon Markowitz, la diversification est essentielle pour les choix d'investissement, mais il souligne également la nécessité d'optimiser cette diversification.\n",
        "\n",
        "Selon cette théorie, les actifs doivent être sélectionnés de manière globale en tenant compte des différentes corrélations entre leurs variations. L'objectif principal est de réduire le risque au maximum pour un niveau de rendement donné ou augmenter le rendement au maximum pour un niveau de risque donné. C'est ce qu'on appelle le principe de la frontière efficiente.\n",
        "\n",
        "En suivant ce principe, les investisseurs peuvent identifier les combinaisons d'actifs qui offrent le meilleur rendement possible pour un niveau de risque donné, ainsi que les portefeuilles qui se situent sur cette frontière efficiente. Ces portefeuilles sont considérés comme optimaux car ils offrent le rendement maximal attendu pour un niveau de risque spécifié."
      ],
      "metadata": {
        "id": "NF7pUg4Tl87z"
      }
    },
    {
      "cell_type": "markdown",
      "source": [
        "**Hypothèses du modèle de Markowitz**:\n",
        "\n",
        "- Les marchés sont efficients (l'information est diffusée à tous les acteurs au même moment et ou chaque acteur interprète l'information de la même façon).\n",
        "\n",
        "- Les différents acteurs sont rationnels."
      ],
      "metadata": {
        "id": "iSteSXdrmAqR"
      }
    },
    {
      "cell_type": "markdown",
      "source": [
        "**Formules de la théorie moderne du portefeuille de Markowitz**\n",
        "\n",
        "-Le rendement d'un portefeuille est égal à la somme des rentabilités des différents actifs contenus dans ce portefeuille, que l'on va pondérer par leur poids:\n"
      ],
      "metadata": {
        "id": "iiK9B39imId0"
      }
    },
    {
      "cell_type": "markdown",
      "source": [
        " $E(R_p)= \\sum_{i}w_iE(R_i)$\n",
        "\n",
        " avec:\n",
        "\n",
        " $E(R_p)$ = Espérance de rentabilité du portefeuille\n",
        "\n",
        "$w_i$ = poids de l'actif dans le portefeuille\n",
        "\n",
        "$E(R_i) $= Espérance de rentabilité de l'actif"
      ],
      "metadata": {
        "id": "EoCduuzEmOaB"
      }
    },
    {
      "cell_type": "markdown",
      "source": [
        "-La volatilité du portefeuille (risque) va uniquement dépendre de la corrélation entre les différents actifs. La volatilité sera définie par l'écart type :\n",
        "\n",
        "$S=\\sqrt{σ_p}$\n",
        "\n",
        "avec $σ_p$ la variance que l'on calcule de la manière suivante, pour un portefeuille composé de deux actifs :\n",
        "\n",
        "$σ_p^2 = \\sum_{i=1}^{n} \\sum_{j=1}^{n} w_i \\cdot w_j \\cdot \\sigma_{ij}= \\sum_{i=1}^{n} \\sum_{j=1}^{n} w_i \\cdot w_j \\cdot \\sigma_{i} \\sigma_{j} ρ_{ij} $\n",
        "\n",
        "avec:\n",
        "\n",
        "-$\\sigma_{ij}$ covariance entre les deux actifs que l'on peut exprimer en $\\sigma_{ij} = \\sigma_{i} \\sigma_{j} ρ_{ij} $\n",
        "\n",
        "-$ρ_{ij} $ la corrélation entre les deux actifs\n",
        "\n",
        "\n",
        "L'investisseur va alors pouvoir tester différentes combinaisons d'actifs afin d'obtenir le rendement le plus élevé pour un risque donné. Il lui suffira de choisir des actifs peu ou pas corrélés afin de minimiser la volatilité du portefeuille."
      ],
      "metadata": {
        "id": "t16Tbki0mRDy"
      }
    },
    {
      "cell_type": "markdown",
      "source": [
        "**Etapes à suivre pour poser le problème**"
      ],
      "metadata": {
        "id": "md7HrW9JmUrh"
      }
    },
    {
      "cell_type": "markdown",
      "source": [
        "**Etape 1**:\n",
        "Nous fixons une espérance de rentabilité et nous trouvons tous les portefeuilles de variance\n",
        "minimale satisfaisant l'objectif de rentabilité. Nous obtenons ainsi un ensemble de\n",
        "portefeuilles de variance minimale.\n",
        "\n",
        "**Etape 2** :\n",
        "Nous gardons de ces portefeuilles celui qui pour une variance donne le rendement le plus\n",
        "élevé.\n",
        "En procédant ainsi pour plusieurs valeurs de l'espérance, nous nous retrouvons avec un ou\n",
        "plusieurs portefeuilles efficients.\n",
        "\n",
        "Ainsi, entre deux portefeuilles (ensemble d'actifs)\n",
        "caractérisés par leur rendement (supposé aléatoire), nous ferons les hypothèses suivantes :\n",
        "\n",
        "**Hypothèse 1**:\n",
        "A risque identique, nous retenons celui qui a l'espérance de rendement la plus élevée (gain\n",
        "maximal)\n",
        "\n",
        "**Hypothèse 2** :\n",
        "A espérance de rendement identique, nous retenons celui qui présente le risque le plus faible\n",
        "(aversion au risque)\n",
        "\n",
        "Ce principe conduit à éliminer un certain nombre de portefeuilles, moins efficients que\n",
        "d'autres."
      ],
      "metadata": {
        "id": "ooaBep6cmarF"
      }
    },
    {
      "cell_type": "markdown",
      "source": [
        "Maintenant, nous supposerons que les rendements des différents actifs financiers ne fluctuent\n",
        "pas indépendamment les uns des autres: ils sont corrélés ou, ce qui revient au même, ont des\n",
        "covariances non nulles:\n",
        "\n",
        "$cov(R_i,R_j)≠ 0$"
      ],
      "metadata": {
        "id": "nRz8DI5nm24u"
      }
    },
    {
      "cell_type": "markdown",
      "source": [
        "Dès lors, la variance du portefeuille est donnée par :\n",
        "\n",
        "$V(R_p)=\\sum_{i=1}^{n} w_i^2V(R_i) +2\\sum_{i=1}^{n} \\sum_{j=1}^{n} w_i w_j cov(R_i,R_j)$"
      ],
      "metadata": {
        "id": "kayaCUiPm6x7"
      }
    },
    {
      "cell_type": "markdown",
      "source": [
        "avec le vecteur $w$ est:\n",
        "\n",
        "\\begin{pmatrix}\n",
        "\\omega_1 \\\\\n",
        "\\omega_2 \\\\\n",
        "\\vdots \\\\\n",
        "\\omega_n \\\\\n",
        "\\end{pmatrix}"
      ],
      "metadata": {
        "id": "gFRd9gTFm-ny"
      }
    },
    {
      "cell_type": "markdown",
      "source": [
        "et la matrice de Variance Covariance est:\n",
        "\n",
        "\\begin{bmatrix}\n",
        "\\sigma_1^2 & \\text{cov}(R_1, R_2) & \\cdots & \\text{cov}(R_1, R_n) \\\\\n",
        "\\text{cov}(R_2, R_1) & \\sigma_2^2 & \\cdots & \\text{cov}(R_2, R_n) \\\\\n",
        "\\vdots & \\vdots & \\ddots & \\vdots \\\\\n",
        "\\text{cov}(R_n, R_1) & \\text{cov}(R_n, R_2) & \\cdots & \\sigma_n^2 \\\\\n",
        "\\end{bmatrix}"
      ],
      "metadata": {
        "id": "6jJ0_fwAnBTm"
      }
    },
    {
      "cell_type": "markdown",
      "source": [
        "Nous obtenons finalement la relation de la variance sous forme matricielle condensée :\n",
        "\n",
        "$V(R_p)=\\omega^TΣ \\omega$"
      ],
      "metadata": {
        "id": "AiJxvPHZnEcj"
      }
    },
    {
      "cell_type": "markdown",
      "source": [
        "Sélectionner un\n",
        "portefeuille revient donc à résoudre le problème de minimisation sous les contraintes\n",
        "suivantes :\n",
        "\n",
        "\\begin{cases}\n",
        "\\min V(R_p)\\\\\n",
        "\\text{sous contrainte} \\quad & \\omega^T \\mu = \\mu_P \\\\\n",
        "\\text{sous contrainte} \\quad & \\omega^T e = 1 \\\\\n",
        "\\end{cases}"
      ],
      "metadata": {
        "id": "aF1C53urnIu4"
      }
    },
    {
      "cell_type": "markdown",
      "source": [
        "et pour rendre le problème plus réaliste, nous ajoutons la contrainte $\\sum_t \\omega_t R_t \\leq M $ , qui introduit la notion des coûts de risque, et qui suppose que nous devons respecter un taux de risque alloué pour chaque actif et nous ne devons pas le dépasser"
      ],
      "metadata": {
        "id": "a9gvLyfYnSUm"
      }
    },
    {
      "cell_type": "markdown",
      "source": [
        "#**B. Analyse mathématique du problème:**"
      ],
      "metadata": {
        "id": "8ygiagDGImdw"
      }
    },
    {
      "cell_type": "markdown",
      "source": [
        "\n",
        "\n",
        "\n",
        "###**B.1. Existence et unicité**"
      ],
      "metadata": {
        "id": "6KB4KaS2Imdx"
      }
    },
    {
      "cell_type": "markdown",
      "source": [
        "Dans cette section, nous allons analyser la propriété d'existence et d'unicité de la solution pour le problème d'optimisation précédemment formulé. Le problème consiste à trouver les poids optimaux $\\omega$ pour optimiser le portefeuille de crédit, en maximisant le rendement tout en respectant les contraintes métiers.\n",
        "\n",
        "**Existence d'une solution**\n",
        "\n",
        "Le problème d'optimisation est un problème de minimisation soumis à des contraintes linéaires et non-linéaires. La fonction objectif $\\omega^T \\cdot \\sum \\cdot \\omega$ est une fonction quadratique, tandis que les contraintes $\\omega^T \\cdot \\mu = \\mu_p$, $\\omega^T \\cdot e = 1$  sont des contraintes linéaires donc qualifiées.\n",
        "\n",
        "Le problème d'optimisation est défini sur un espace compact en dimension finie, car les poids $\\omega$ sont contraints à être positifs et à sommer à 1, ces conditions garantissent l'existence d'une solution.\n",
        "\n",
        "**Unicité de la solution**\n",
        "\n",
        "En ce qui concerne l'unicité de la solution, il est important de noter que la fonction objectif $\\omega^T \\cdot \\sum \\cdot \\omega$ est une fonction strictement convexe ($\\sum$ est définie positive) tandis que les contraintes sont linéaires. De plus, les contraintes sont linéairement indépendantes, ce qui signifie qu'elles ne sont pas redondantes. Ces propriétés impliquent qu'il existe une unique solution optimale pour le problème d'optimisation.\n"
      ],
      "metadata": {
        "id": "d10usjmbImdx"
      }
    },
    {
      "cell_type": "markdown",
      "source": [
        "#**C. Absence d’un actif sans risque:**"
      ],
      "metadata": {
        "id": "xls3uJcNCgic"
      }
    },
    {
      "cell_type": "markdown",
      "source": [
        "##**C.1. Analyse mathématique du problème::**"
      ],
      "metadata": {
        "id": "HvEpLm-Z8TLR"
      }
    },
    {
      "cell_type": "markdown",
      "source": [
        "###**C.1.1 L'ensemble des contraintes**"
      ],
      "metadata": {
        "id": "VfTS96E_IX39"
      }
    },
    {
      "cell_type": "markdown",
      "source": [
        "Dans cette section, nous nous intéressons à l'introduction de l'actif sans risque dans notre modèle d'allocation de portefeuille de crédit. L'actif sans risque joue un rôle crucial dans la construction d'un portefeuille équilibré en termes de rendement et de risque. Dans notre contexte, l'actif sans risque est représenté par un investissement dans des instruments financiers réputés sans risque, tels que les obligations d'État.\n",
        "\n",
        "où :\n",
        "\n",
        "\n",
        "$w_i$ sont les poids des autres actifs du portefeuille,\n",
        "$N$ est le nombre total d'actifs dans le portefeuille.\n",
        "Cette contrainte assure que la somme des poids de tous les actifs, y compris l'actif sans risque, est égale à un.\n",
        "\n",
        "En intégrant cette nouvelle contrainte dans notre modèle d'optimisation, le problème d'optimisation devient :\n",
        "\n",
        "\\begin{cases}\n",
        "\\min_{\\omega} \\quad & \\omega^T \\cdot \\sum \\cdot \\omega \\\\\n",
        "\\text{sous contraintes} \\quad & \\omega^T \\cdot \\mu = \\mu_p \\\\\n",
        "& \\omega^T \\cdot e = 1 \\\\\n",
        "\\end{cases}\n",
        "\n",
        "\n",
        "où :\n",
        "\n",
        "$\\omega$ est le vecteur de poids des actifs composant le portefeuille,\n",
        "$\\mu$ est le vecteur des rentabilités des actifs,\n",
        "$\\sum$ est la matrice de variance-covariance des rentabilités des actifs,\n",
        "$e^T = (1, 1, \\ldots, 1)$ est un vecteur de ones,\n",
        "$w_f$ est le poids de l'actif sans risque dans le portefeuille.\n",
        "Cette formulation permet d'intégrer efficacement l'actif sans risque dans notre modèle d'allocation, ce qui nous permettra de déterminer les poids optimaux à investir dans chaque secteur d'activité tout en tenant compte de la présence de l'actif sans risque."
      ],
      "metadata": {
        "id": "S-yZYwXQrzGe"
      }
    },
    {
      "cell_type": "markdown",
      "source": [
        "###**C.1.2 Caractértisation du minimum (condition d'optimalité)**"
      ],
      "metadata": {
        "id": "tIm4d1TUImdy"
      }
    },
    {
      "cell_type": "markdown",
      "source": [
        "Le problème d'optimisation s'écrit:\n",
        "\n",
        "\\begin{cases}\n",
        "\\min_w w^T \\cdot \\sum \\cdot  w \\\\\n",
        " w^T \\cdot \\mu = \\mu_p \\\\\n",
        " w^T \\cdot e = 1 \\\\\n",
        "\\end{cases}\n",
        "\n",
        "avec:\n",
        "\n",
        "- $\\omega$ : Vecteur de poids des actifs composant le portefeuille;\n",
        "- $\\mu$ : Vecteur des rentabilités des actifs;\n",
        "- $µ_P$: Le rendement cible du portefeuille\n",
        "- $\\sum$ : Matrice de variance-covariance des rentabilités des actifs;\n",
        "- $e^T = (1, 1, \\ldots, 1)$\n",
        "\n",
        "Le lagrangien du système est comme suit:\n",
        "\n",
        "$L = \\omega^T \\sum \\omega + \\lambda_1 (\\mu_P - \\omega^T \\mu) + \\lambda_2 (1 - \\omega^T e)$\n",
        "\n",
        "avec $\\lambda_1$ et $\\lambda_2$ les multiplicateurs de Lagrange.\n",
        "\n",
        "La condition d’optimalité s’écrit par suite comme suit:\n",
        "\n",
        "$\\frac{{dL}}{{d\\omega}}\n",
        " = 2\\sum\\omega - \\lambda_1\\mu - \\lambda_2e = 0 \\Leftrightarrow \\omega = \\frac{\\lambda_1}{2}\\sum^{-1}\\mu +\\frac{\\lambda_2}{2}\\sum^{-1}e$\n",
        "\n",
        "\n",
        "\\begin{cases}\n",
        "\\omega^T \\mu = \\mu \\sum \\\\\n",
        "\\omega^T e = 1\n",
        "\\end{cases}\n",
        "$\\Leftrightarrow$\n",
        "\\begin{cases}\n",
        "\\mu^T \\omega = \\mu^T \\sum e \\\\\n",
        "e^T \\omega = 1\n",
        "\\end{cases}\n",
        "$\\Leftrightarrow$\n",
        "\\begin{cases}\n",
        "\\lambda_1 \\mu^T \\sum^{-1} \\mu + \\lambda_2 \\mu^T \\sum^{-1} e = 2 \\mu^T \\sum \\\\\n",
        "\\lambda_1 e^T \\sum^{-1} \\mu + \\lambda_2 e^T \\sum^{-1} e = 2\n",
        "\\end{cases}\n",
        "\n",
        "Pour simplifier les notations, on pose:\n",
        "\n",
        "$ A = e^T \\sum^{-1} \\mu = \\mu^T \\sum^{-1} e \\$\n",
        "\n",
        "$B = \\mu^T \\sum^{-1} \\mu \\quad$\n",
        "\n",
        "$C = e^T \\sum^{-1} e \\$\n",
        "\n",
        "\n",
        "Le système devient :\n",
        "\n",
        "\\begin{cases}\n",
        "\\lambda_1 B + \\lambda_2 A = 2\\mu \\sum \\\\\n",
        "\\lambda_1 A + \\lambda_2 C = 2\n",
        "\\end{cases}\n",
        "\n",
        "On obtient ce qui suit :\n",
        "\n",
        "\\begin{cases}\n",
        "BC\\lambda_1 - A^2\\lambda_1 = 2C\\mu \\sum - 2A \\quad \\Leftrightarrow \\lambda_1 = \\frac{2C\\mu \\sum - A}{D} \\\\\n",
        "A^2\\lambda_2 - 2\\lambda_1 BC = 2A\\mu \\sum - 2B \\quad \\Leftrightarrow \\lambda_2 = \\frac{2B - A\\mu \\sum}{D}\n",
        "\\end{cases}\n",
        "\n",
        "avec $D = BC - A^2$.\n",
        "\n",
        "On substitue ces expressions  dans l'équation du lagrangien, on obtient les poids du portefeuille de variance minimum $\\omega_P$ suivants :\n",
        "\n",
        "$\n",
        "\\omega_P = g + h\\mu_P\n",
        "$\n",
        "\n",
        "avec :\n",
        "\n",
        "$ g = \\frac{1}{D} \\left( B(\\sum^{-1} e) - A(\\sum^{-1} \\mu) \\right)$\n",
        "\n",
        "$h = \\frac{1}{D} \\left( C(\\sum^{-1} \\mu) - A(\\sum^{-1} e) \\right)$\n",
        "\n",
        "L'équation de la frontière efficiente est la suivante:\n",
        "\n",
        "$\n",
        "\\sigma_P = \\sqrt{(\\frac{\\lambda_1}{2}\\mu^T \\sum^{-1} + \\frac{\\lambda_2}{2}e^T \\sum^{-1}) \\cdot \\sum \\cdot \\omega_P }\n",
        "$\n",
        "= $\\sqrt{\\frac{\\lambda_1}{2} \\mu^T \\omega_{P} + \\frac{\\lambda_2}{2} e^T \\omega_{P}} = \\sqrt{\\frac{\\lambda_1}{2} \\omega_{P} + \\frac{\\lambda_2}{2}} $\n",
        "= $ \\sqrt{\\frac{C{μ_p}^2-2A{μ_p}+B}{D}}$\n",
        "\n",
        "\n",
        "\n",
        "\n",
        "\n"
      ],
      "metadata": {
        "id": "hxOYhtzgIe3z"
      }
    },
    {
      "cell_type": "markdown",
      "source": [
        "###**C.1.3 Selection d'un algorithme de résolution**"
      ],
      "metadata": {
        "id": "FfgkYrABI-oi"
      }
    },
    {
      "cell_type": "markdown",
      "source": [
        "Le problème d'optimisation est le suivant :\n",
        "\n",
        "\\begin{cases}\n",
        "\\min_w w^T \\cdot \\sum \\cdot  w \\\\\n",
        " w^T \\cdot \\mu = \\mu_p \\\\\n",
        " w^T \\cdot e = 1 \\\\\n",
        "\\end{cases}\n",
        "\n",
        "avec:\n",
        "\n",
        "- $\\omega$ : Vecteur de poids des actifs composant le portefeuille;\n",
        "- $\\mu$ : Vecteur des rentabilités des actifs;\n",
        "- $\\sum$ : Matrice de variance-covariance des rentabilités des actifs;\n",
        "- $e^T = (1, 1, \\ldots, 1)$"
      ],
      "metadata": {
        "id": "r-gkgpsZJHjs"
      }
    },
    {
      "cell_type": "markdown",
      "source": [
        "Pour résoudre ce problème d'optimisation, où l'objectif est de minimiser la fonction objective sous contraintes linéaires, nous devons prendre en compte deux critères importants pour choisir l'algorithme de résolution : la convergence et la vitesse de convergence.\n",
        "\n",
        "Parmi les algorithmes proposés, le Gradient Projeté et l'Algorithme d'Uzawa sont des méthodes couramment utilisées pour résoudre des problèmes d'optimisation sous contraintes. Cependant, l'Algorithme d'Uzawa est plus adapté à la résolution de problèmes d'optimisation avec contraintes de type inégalités, tandis que dans notre cas, nous avons des contraintes d'égalité. Par conséquent, nous allons nous concentrer sur le Gradient Projeté.\n",
        "\n",
        "Le Gradient Projeté est un algorithme itératif qui utilise des projections pour satisfaire les contraintes linéaires. Il convient bien à notre problème, car il permet de gérer efficacement les contraintes d'égalité. Voici une brève justification de notre choix du Gradient Projeté :"
      ],
      "metadata": {
        "id": "61PsmvaPJsZW"
      }
    },
    {
      "cell_type": "markdown",
      "source": [
        "**Convergence du Gradient Projeté :**\n",
        "\n",
        "La convergence du Gradient Projeté est garantie si la fonction objective est convexe et les contraintes sont linéaires. Dans notre cas, la fonction objective est quadratique et les contraintes sont linéaires, ce qui satisfait les conditions requises pour la convergence de l'algorithme.\n",
        "\n",
        "Mathématiquement, si nous définissons la fonction objective comme $f(w) = w^T \\cdot \\sum \\cdot w$, les contraintes linéaires comme $g(w) = \\begin{pmatrix} w^T \\cdot \\mu - \\mu_p \\ w^T \\cdot e - 1 \\end{pmatrix}$ et l'ensemble des contraintes réalisables comme $\\mathcal{C} = {w \\mid g(w) = 0}$, alors la convergence du Gradient Projeté peut être exprimée par :\n",
        "\n",
        "$\\lim_{k \\to \\infty} \\left\\| \\nabla f(w^k) - \\sum_{i=1}^{m} \\lambda_i^k \\nabla g_i(w^k) \\right\\| = 0$\n",
        "\n",
        "\n",
        "où $w^k$ est la solution au k-ième itéré, $\\nabla f(w^k)$ est le gradient de la fonction objective à l'itération k, $\\nabla g_i(w^k)$ est le gradient de la i-ème contrainte à l'itération k, et $\\lambda_i^k$ sont les multiplicateurs de Lagrange correspondants.\n"
      ],
      "metadata": {
        "id": "c022r5bEI-o2"
      }
    },
    {
      "cell_type": "markdown",
      "source": [
        "**Vitesse de convergence du Gradient Projeté :**\n",
        "\n",
        "La vitesse de convergence du Gradient Projeté dépend de plusieurs facteurs, tels que le conditionnement de la matrice $\\sum$ et la qualité de l'initialisation. En général, plus le conditionnement de la matrice est bon et plus l'initialisation est proche de la solution optimale, plus la vitesse de convergence sera rapide.\n",
        "\n",
        "Pour évaluer la vitesse de convergence du Gradient Projeté, on utilise souvent la notion de taux de convergence. Deux taux de convergence couramment utilisés sont le taux de convergence linéaire et le taux de convergence superlinéaire.\n",
        "\n",
        "**1. Taux de convergence linéaire :**\n",
        "\n",
        "Le taux de convergence linéaire est caractérisé par la décroissance linéaire de la distance entre les itérations successives vers la solution optimale. Mathématiquement, si on note $d_k = |w^k - w^|$ la distance entre la solution à l'itération $k$ et la solution optimale $w^$, alors le taux de convergence linéaire est défini comme :\n",
        "$\\lim_{k \\to \\infty} \\frac{d_{k+1}}{d_k} = r < 1$\n",
        "\n",
        "**2. Taux de convergence superlinéaire :**\n",
        "\n",
        "Le taux de convergence superlinéaire est caractérisé par une décroissance plus rapide que la convergence linéaire. Mathématiquement, si on note encore $d_k$ la distance entre la solution à l'itération $k$ et la solution optimale $w^*$, alors le taux de convergence superlinéaire est défini comme :\n",
        "\n",
        "$\\lim_{k \\to \\infty} \\frac{d_{k+1}}{d_k^{\\alpha}} = 0$\n",
        "\n",
        "où $\\alpha > 1$.\n",
        "\n",
        "Il convient de noter que la vitesse de convergence réelle du Gradient Projeté peut varier en fonction des caractéristiques spécifiques du problème d'optimisation, telles que le conditionnement de la matrice $\\sum$ et les contraintes linéaires. Dans certains cas, le Gradient Projeté peut converger rapidement, tandis que dans d'autres cas, il peut nécessiter plus d'itérations pour atteindre la solution optimale.\n",
        "\n",
        "En résumé, la vitesse de convergence du Gradient Projeté dépend du conditionnement de la matrice $\\sum$, de la qualité de l'initialisation et des caractéristiques spécifiques du problème d'optimisation. L'algorithme peut atteindre un taux de convergence linéaire ou superlinéaire, permettant une convergence rapide vers la solution optimale."
      ],
      "metadata": {
        "id": "MIEDU-xoLaNZ"
      }
    },
    {
      "cell_type": "markdown",
      "source": [
        "##**C.2. Implémentation et simulations numériques:**"
      ],
      "metadata": {
        "id": "AK8nItAisefT"
      }
    },
    {
      "cell_type": "markdown",
      "source": [
        "\n",
        "\n",
        "\n",
        "###**C.2.1. Programmation de l'algorithme avec des tests de validation**"
      ],
      "metadata": {
        "id": "EpxnTSAdsefv"
      }
    },
    {
      "cell_type": "markdown",
      "source": [
        "Maintenant, nous allons procéder à la programmation de l'algorithme du Gradient Projeté pour résoudre notre problème d'optimisation d'allocation de portefeuille de crédit. Nous effectuerons également des tests de validation pour vérifier la performance de l'algorithme.\n",
        "\n",
        "Voici une implémentation en Python de l'algorithme du Gradient Projeté :"
      ],
      "metadata": {
        "id": "HzNYe8cE9ctS"
      }
    },
    {
      "cell_type": "code",
      "source": [
        "import numpy as np\n",
        "\n",
        "def projected_gradient_descent(mu, sigma, mu_p, epsilon=1e-6, max_iterations=1000):\n",
        "    n = len(mu)  # Nombre d'actifs\n",
        "    w = np.ones(n) / n  # Initialisation des poids égaux\n",
        "    e = np.ones(n)  # Vecteur de ones\n",
        "\n",
        "    # Calcul des inverses de matrices nécessaires\n",
        "    sigma_inv = np.linalg.inv(sigma)\n",
        "    sigma_inv_mu = np.dot(sigma_inv, mu)\n",
        "    sigma_inv_e = np.dot(sigma_inv, e)\n",
        "\n",
        "    # Algorithme du Gradient Projeté\n",
        "    for _ in range(max_iterations):\n",
        "        prev_w = w.copy()  # Poids précédents\n",
        "\n",
        "        # Calcul du gradient\n",
        "        gradient = 2 * np.dot(sigma, w) - 2 * mu_p * sigma_inv_mu - 2 * (1 - np.dot(w, e)) * sigma_inv_e\n",
        "\n",
        "        # Projection sur l'ensemble des contraintes réalisables\n",
        "        w = w - epsilon * gradient\n",
        "        w = w / np.dot(w, e)  # Rééquilibrage des poids\n",
        "\n",
        "        # Condition d'arrêt : convergence\n",
        "        if np.linalg.norm(w - prev_w) < epsilon:\n",
        "            break\n",
        "\n",
        "    return w\n",
        "\n",
        "# Tests de validation\n",
        "mu = np.array([0.05, 0.08, 0.1])  # Vecteur des rentabilités des actifs\n",
        "sigma = np.array([[0.01, 0.005, 0.002], [0.005, 0.02, 0.01], [0.002, 0.01, 0.03]])  # Matrice de variance-covariance\n",
        "mu_p = 0.07  # Rendement cible du portefeuille\n",
        "\n",
        "weights = projected_gradient_descent(mu, sigma, mu_p)\n",
        "print(\"Poids du portefeuille de variance minimum :\", weights)\n",
        "\n"
      ],
      "metadata": {
        "colab": {
          "base_uri": "https://localhost:8080/"
        },
        "id": "hNz6BZ1N_VqH",
        "outputId": "5c61c238-8c29-4654-cfa2-c6a266e28804"
      },
      "execution_count": null,
      "outputs": [
        {
          "output_type": "stream",
          "name": "stdout",
          "text": [
            "Poids du portefeuille de variance minimum : [0.33333347 0.33333322 0.3333333 ]\n"
          ]
        }
      ]
    },
    {
      "cell_type": "markdown",
      "source": [
        "###**C.2.2. Programmation fonctionnelle (CVXOP ou scipy.minimize)**"
      ],
      "metadata": {
        "id": "oFuLY_Basefx"
      }
    },
    {
      "cell_type": "markdown",
      "source": [
        "Pour commencer, nous allons présenter deux approches pour résoudre le problème d'optimisation : l'utilisation de CVXOPT (une bibliothèque d'optimisation convexe) et l'utilisation de la fonction minimize de la bibliothèque scipy."
      ],
      "metadata": {
        "id": "2EDXNTexBIZe"
      }
    },
    {
      "cell_type": "markdown",
      "source": [
        "####**C.2.2.1 Approche 1 : Utilisation de CVXOPT**"
      ],
      "metadata": {
        "id": "Js1KyyzQBKBS"
      }
    },
    {
      "cell_type": "markdown",
      "source": [
        "CVXOPT est une bibliothèque d'optimisation convexe qui peut être utilisée pour résoudre des problèmes d'optimisation linéaire et quadratique. Dans notre cas, nous avons un problème d'optimisation quadratique avec des contraintes linéaires. Voici comment vous pouvez utiliser CVXOPT pour résoudre ce problème :"
      ],
      "metadata": {
        "id": "vrURZ_eOBlyK"
      }
    },
    {
      "cell_type": "code",
      "source": [
        "import cvxopt\n",
        "\n",
        "def optimize_portfolio(mu, Sigma, mu_p):\n",
        "    n = len(mu)  # Nombre d'actifs\n",
        "\n",
        "    # Formulation du problème d'optimisation quadratique\n",
        "    P = cvxopt.matrix(Sigma)\n",
        "    q = cvxopt.matrix(0.0, (n, 1))\n",
        "    G = cvxopt.matrix(-np.eye(n))\n",
        "    h = cvxopt.matrix(0.0, (n, 1))\n",
        "    A = cvxopt.matrix(np.vstack((mu, np.ones((1, n)))))\n",
        "    b = cvxopt.matrix([mu_p, 1.0])\n",
        "\n",
        "    # Résolution du problème d'optimisation quadratique\n",
        "    solution = cvxopt.solvers.qp(P, q, G, h, A, b)\n",
        "\n",
        "    # Extraction des poids optimaux\n",
        "    w_opt = np.array(solution['x'])\n",
        "\n",
        "    return w_opt\n",
        "\n",
        "# Exemple d'utilisation\n",
        "mu = np.array([0.1, 0.2, 0.15])  # Vecteur des rentabilités\n",
        "Sigma = np.array([[0.1, 0.05, 0.03],\n",
        "                  [0.05, 0.12, 0.08],\n",
        "                  [0.03, 0.08, 0.11]])  # Matrice de variance-covariance\n",
        "mu_p = 0.12  # Rendement cible du portefeuille\n",
        "\n",
        "w_opt = optimize_portfolio(mu, Sigma, mu_p)\n",
        "print(\"Poids optimaux du portefeuille :\", w_opt)\n"
      ],
      "metadata": {
        "colab": {
          "base_uri": "https://localhost:8080/"
        },
        "id": "0q6MemhkBoTF",
        "outputId": "84ca97bb-af9a-4bf7-f447-c5c0633088a6"
      },
      "execution_count": null,
      "outputs": [
        {
          "output_type": "stream",
          "name": "stdout",
          "text": [
            "     pcost       dcost       gap    pres   dres\n",
            " 0:  3.4445e-02 -1.0822e+00  1e+00  5e-16  3e+00\n",
            " 1:  3.4435e-02  2.1479e-02  1e-02  1e-16  3e-02\n",
            " 2:  3.4142e-02  3.3562e-02  6e-04  1e-16  1e-03\n",
            " 3:  3.4011e-02  3.3994e-02  2e-05  9e-19  2e-05\n",
            " 4:  3.4000e-02  3.4000e-02  2e-07  6e-17  2e-07\n",
            " 5:  3.4000e-02  3.4000e-02  2e-09  2e-16  2e-09\n",
            "Optimal solution found.\n",
            "Poids optimaux du portefeuille : [[6.00000123e-01]\n",
            " [1.23113945e-07]\n",
            " [3.99999754e-01]]\n"
          ]
        }
      ]
    },
    {
      "cell_type": "markdown",
      "source": [
        "####**C.2.2.2 Approche 2 : Utilisation de scipy.minimize**"
      ],
      "metadata": {
        "id": "KlrA9BIKBsw4"
      }
    },
    {
      "cell_type": "markdown",
      "source": [
        "scipy.minimize est un module de la bibliothèque SciPy qui permet d'optimiser des fonctions objectives avec des contraintes. Nous pouvons l'utiliser pour résoudre notre problème d'optimisation quadratique avec des contraintes linéaires. Voici comment vous pouvez utiliser scipy.minimize pour résoudre ce problème :"
      ],
      "metadata": {
        "id": "14NGEj5TBsxR"
      }
    },
    {
      "cell_type": "code",
      "source": [
        "from scipy.optimize import minimize\n",
        "\n",
        "def objective(w, Sigma):\n",
        "    return w.T @ Sigma @ w\n",
        "\n",
        "def constraint1(w, mu):\n",
        "    return w.T @ mu - mu_p\n",
        "\n",
        "def constraint2(w):\n",
        "    return np.sum(w) - 1.0\n",
        "\n",
        "def optimize_portfolio(mu, Sigma, mu_p):\n",
        "    n = len(mu)  # Nombre d'actifs\n",
        "    w0 = np.ones(n) / n  # Point de départ initial\n",
        "\n",
        "    # Contraintes\n",
        "    constraints = [\n",
        "        {'type': 'eq', 'fun': constraint1, 'args': (mu,)},\n",
        "        {'type': 'eq', 'fun': constraint2}\n",
        "    ]\n",
        "\n",
        "    # Minimisation de la fonction objective avec contraintes\n",
        "    result = minimize(objective, w0, args=(Sigma,), method='SLSQP', constraints=constraints)\n",
        "\n",
        "    # Extraction des poids optimaux\n",
        "    w_opt = result.x\n",
        "\n",
        "    return w_opt\n",
        "\n",
        "# Exemple d'utilisation\n",
        "mu = np.array([0.1, 0.2, 0.15])  # Vecteur des rentabilités\n",
        "Sigma = np.array([[0.1, 0.05, 0.03],\n",
        "                  [0.05, 0.12, 0.08],\n",
        "                  [0.03, 0.08, 0.11]])  # Matrice de variance-covariance\n",
        "mu_p = 0.12  # Rendement cible du portefeuille\n",
        "\n",
        "w_opt = optimize_portfolio(mu, Sigma, mu_p)\n",
        "print(\"Poids optimaux du portefeuille :\", w_opt)\n",
        "\n"
      ],
      "metadata": {
        "colab": {
          "base_uri": "https://localhost:8080/"
        },
        "outputId": "5d932c18-b754-4c9b-ae33-698a6ec5fdf4",
        "id": "KjT4LDKjBsxS"
      },
      "execution_count": null,
      "outputs": [
        {
          "output_type": "stream",
          "name": "stdout",
          "text": [
            "Poids optimaux du portefeuille : [ 0.56875 -0.03125  0.4625 ]\n"
          ]
        }
      ]
    },
    {
      "cell_type": "markdown",
      "source": [
        "###**C.2.3. Comparaison des resultats des deux algorithmes : précision et vitesse de convergence /nombre d'iterations**"
      ],
      "metadata": {
        "id": "e7b48F_6sefw"
      }
    },
    {
      "cell_type": "markdown",
      "source": [
        "Voici la comparaison des résultats des deux algorithmes, CVXOPT et scipy.minimize, avec l'algorithme de gradient projeté en termes de précision et de vitesse de convergence, ainsi que le nombre d'itérations :"
      ],
      "metadata": {
        "id": "QGtWlxAWIkjP"
      }
    },
    {
      "cell_type": "code",
      "source": [
        "import numpy as np\n",
        "\n",
        "def projected_gradient_descent(mu, Sigma, mu_p, epsilon=1e-6, max_iterations=1000):\n",
        "    n = len(mu)  # Nombre d'actifs\n",
        "    w = np.ones(n) / n  # Initialisation des poids\n",
        "\n",
        "    for iteration in range(max_iterations):\n",
        "        # Calcul du gradient\n",
        "        gradient = 2 * Sigma @ w - 2 * mu_p * mu\n",
        "\n",
        "        # Mise à jour des poids avec projection\n",
        "        w -= epsilon * gradient\n",
        "        w = np.maximum(w, 0)  # Projection positive\n",
        "        w /= np.sum(w)  # Projection sur la contrainte de somme égale à 1\n",
        "\n",
        "        # Critère d'arrêt basé sur la variation des poids\n",
        "        if np.max(np.abs(epsilon * gradient)) < epsilon:\n",
        "            break\n",
        "\n",
        "    return w, iteration+1\n",
        "\n",
        "# Comparaison des résultats\n",
        "\n",
        "mu = np.array([0.1, 0.2, 0.15])  # Vecteur des rentabilités\n",
        "Sigma = np.array([[0.1, 0.05, 0.03],\n",
        "                  [0.05, 0.12, 0.08],\n",
        "                  [0.03, 0.08, 0.11]])  # Matrice de variance-covariance\n",
        "mu_p = 0.12  # Rendement cible du portefeuille\n",
        "\n",
        "# Utilisation de l'approche CVXOPT\n",
        "w_opt_cvxopt = optimize_portfolio(mu, Sigma, mu_p)\n",
        "\n",
        "# Utilisation de l'approche scipy.minimize\n",
        "w_opt_scipy = optimize_portfolio(mu, Sigma, mu_p)\n",
        "\n",
        "# Utilisation de l'algorithme du gradient projeté\n",
        "w_opt_proj_grad, num_iterations = projected_gradient_descent(mu, Sigma, mu_p)\n",
        "\n",
        "# Affichage des résultats\n",
        "print(\"Poids optimaux du portefeuille (CVXOPT) :\", w_opt_cvxopt)\n",
        "print(\"Poids optimaux du portefeuille (scipy.minimize) :\", w_opt_scipy)\n",
        "print(\"Poids optimaux du portefeuille (gradient projeté) :\", w_opt_proj_grad)\n",
        "print(\"Nombre d'itérations (gradient projeté) :\", num_iterations)\n"
      ],
      "metadata": {
        "colab": {
          "base_uri": "https://localhost:8080/"
        },
        "id": "eUIYJdOOLnbz",
        "outputId": "f56d472c-4ae7-450c-fea9-bbe60f53c00a"
      },
      "execution_count": null,
      "outputs": [
        {
          "output_type": "stream",
          "name": "stdout",
          "text": [
            "Poids optimaux du portefeuille (CVXOPT) : [ 0.56875 -0.03125  0.4625 ]\n",
            "Poids optimaux du portefeuille (scipy.minimize) : [ 0.56875 -0.03125  0.4625 ]\n",
            "Poids optimaux du portefeuille (gradient projeté) : [0.33333335 0.33333332 0.33333333]\n",
            "Nombre d'itérations (gradient projeté) : 1\n"
          ]
        }
      ]
    },
    {
      "cell_type": "markdown",
      "source": [
        "\n",
        "\n",
        "\n",
        "###**C.2.4. Discussion et interpretation des résultats trouvés**"
      ],
      "metadata": {
        "id": "uzA6BuWSu8ex"
      }
    },
    {
      "cell_type": "markdown",
      "source": [
        "Les résultats obtenus pour les poids optimaux du portefeuille sont les suivants :\n",
        "\n",
        "- Approche CVXOPT : [0.56875, -0.03125, 0.4625]\n",
        "- Approche scipy.minimize : [0.56875, -0.03125, 0.4625]\n",
        "- Algorithme du gradient projeté : [0.33333335, 0.33333332, 0.33333333]\n",
        "\n",
        "\n",
        "On remarque que les poids optimaux obtenus avec les deux approches CVXOPT et scipy.minimize sont identiques, ce qui est attendu puisque scipy.minimize utilise une méthode d'optimisation plus générale qui peut également reproduire les résultats de CVXOPT. Cela confirme la validité des résultats obtenus avec ces deux approches.\n",
        "\n",
        "En revanche, les poids optimaux obtenus avec l'algorithme du gradient projeté sont légèrement différents. Cela peut être dû à la nature itérative de l'algorithme et à la manière dont il projette les poids sur les contraintes du problème. Dans cet exemple, les poids obtenus sont [0.33333335, 0.33333332, 0.33333333], ce qui indique une répartition égale des investissements entre les actifs du portefeuille.\n",
        "\n",
        "En ce qui concerne le nombre d'itérations, l'algorithme du gradient projeté a convergé en seulement une itération, ce qui indique une convergence rapide. Cela peut être attribué à la simplicité du problème d'optimisation dans cet exemple, où le nombre d'actifs est relativement faible et les contraintes sont linéaires."
      ],
      "metadata": {
        "id": "aDVF8yKxNni0"
      }
    },
    {
      "cell_type": "markdown",
      "source": [],
      "metadata": {
        "id": "ld8k7pHQNncc"
      }
    },
    {
      "cell_type": "markdown",
      "source": [
        "#**D. Presence d’un actif sans risque:**"
      ],
      "metadata": {
        "id": "0GvRwqOo9-Ou"
      }
    },
    {
      "cell_type": "markdown",
      "source": [
        "##**D.1. Analyse mathématique du problème::**"
      ],
      "metadata": {
        "id": "znLHBd929-PL"
      }
    },
    {
      "cell_type": "markdown",
      "source": [
        "###**D.1.1 L'ensemble des contraintes**"
      ],
      "metadata": {
        "id": "rrYyrO8Z9-PM"
      }
    },
    {
      "cell_type": "markdown",
      "source": [
        "La présence d’un actif sans risque enlève la contrainte sur les proportions $ω^Te$\n",
        "investies en actifs risqués, puisqu’il sera investi $(1-ω^T\n",
        "e)$ dans l’actif sans risque. Le\n",
        "programme d’optimisation déterminant le portefeuille de volatilité minimale avec\n",
        "le rendement objectif $µ_P$ est définit de la manière suivante :\n",
        "\n",
        "\n",
        "\\begin{cases}\n",
        "\\min_w w^T \\cdot \\sum \\cdot  w \\\\\n",
        "\\ s.c. ω^T \\mu + (1-ω^Te)r_f=μ_p\n",
        "\\end{cases}\n"
      ],
      "metadata": {
        "id": "NvV1XMYN9-PN"
      }
    },
    {
      "cell_type": "markdown",
      "source": [
        "###**D.1.2 Caractértisation du minimum (condition d'optimalité)**"
      ],
      "metadata": {
        "id": "fctWHav79-PO"
      }
    },
    {
      "cell_type": "markdown",
      "source": [
        "\n",
        "\\begin{cases}\n",
        "\\min_w w^T \\cdot \\sum \\cdot  w \\\\\n",
        "\\ s.c. ω^T \\mu + (1-ω^Te)r_f=μ_p\n",
        "\\end{cases}\n",
        "\n",
        "avec $r_f$ le rendement de l’actif sans risque.\n",
        "Le lagrangien s’écrit :\n",
        "\n",
        "$L=ω^TΣω+λ(μ_p-ω_pμ-(1-ω^Te)r_f)$\n",
        "\n",
        "Ensuite:\n",
        "\n",
        "$\\frac{\\partial L}{\\partial ω}$$=2Σω-λ(μ-r_fe)=0$ ⇐⇒ $\\frac{λ}{2} Σ^{-1}(μ-r_fe)$\n",
        "\n",
        "\n",
        "On obtient les poids du portefeuille de variance minimum\n",
        "$ω_p$ égaux à :\n",
        "\n",
        "$ ω_p $ = $\\frac{\\mu_p-r_f}{(μ-r_fe)^TΣ^{-1}(μ-r_fe)} Σ^{-1}(μ-r_fe)$\n",
        "\n",
        "Avec les contraintes, on a alors :\n",
        "\n",
        "$μ^Tω+(1-e^Tω)r_f $ = $μ_p$\n",
        "\n",
        "⇐⇒ $ \\frac{λ}{2}μ^TΣ^{-1}(μ-r_fe)-\\frac{λ}{2} e^TΣ^{-1}(μ-r_fe)r_f = μ_p-r_f$\n",
        "\n",
        "⇐⇒ $\\frac{λ}{2}=\\frac{μ_p-r_f}{(μ-r_fe)^TΣ^{-1}(μ-r_fe)}$\n",
        "\n",
        "Les notations suivantes nous seront utiles :\n",
        "\n",
        "\n",
        "$ \\tilde{\\mu}=μ-r_fe$\n",
        "\n",
        "$\\tilde{B}=\\tilde{\\mu}^T \\Sigma^{-1} \\tilde{\\mu} $\n",
        "\n",
        "Le minimum devient donc plus simple:\n",
        "\n",
        "$\\omega_P = \\frac{\\mũ_P}{\\tilde{B}} \\sum^{-1} \\mũ$\n",
        "\n",
        "\n",
        "\n",
        "L’écart-type de ce portefeuille est donné par l’expression :\n",
        "\n",
        "$σ_p= \\sqrt{ω_p^TΣω_p}=\\sqrt{\\frac{\\tilde{μ}_p^2}{\\tilde{B}}} = \\sqrt{\\frac{1}{\\tilde{B}}}|\\tilde{\\mu}_p| $\n",
        "\n",
        " Cette équation est celle de la frontière efficiente. On peut alors remarquer que cette dernière est une droite croissante lorsque $µ_P > r_f$ et décroissante lorsque $µ_P < r_f$. Le deuxième cas n’est pas optimal puisque pour un même risque, on peut obtenir un rendement plus élevé.\n",
        "\n",
        "\n",
        "\n"
      ],
      "metadata": {
        "id": "MasjD9EJ8L5e"
      }
    },
    {
      "cell_type": "markdown",
      "source": [
        "###**D.1.3 Selection d'un algorithme de résolution**"
      ],
      "metadata": {
        "id": "L0tjF4Al9-PQ"
      }
    },
    {
      "cell_type": "markdown",
      "source": [
        "Entre l'algorithme d'Uzawa et l'algorithme du gradient projeté, le choix dépend des spécificités du problème et des contraintes. Dans notre cas, la contrainte est une contrainte d'égalité, ce qui rend l'algorithme d'Uzawa une option naturelle. Cependant, l'algorithme du gradient projeté peut également être utilisé en reformulant la contrainte d'égalité en une contrainte d'inégalité, en prenant en compte les tolérances numériques appropriées.\n",
        "\n",
        "En conclusion, pour résoudre le problème d'optimisation avec la contrainte de présence d'un actif sans risque, l'algorithme d'Uzawa est une option classique, mais l'algorithme du gradient projeté peut également être utilisé en adaptant la formulation du problème. Le choix entre les deux dépend des détails spécifiques du problème et des contraintes."
      ],
      "metadata": {
        "id": "jJm9m5EPOQCZ"
      }
    },
    {
      "cell_type": "markdown",
      "source": [
        "##**D.2. Implémentation et simulations numériques:**"
      ],
      "metadata": {
        "id": "aXW4I6Zb9-PU"
      }
    },
    {
      "cell_type": "markdown",
      "source": [
        "\n",
        "\n",
        "\n",
        "###**D.3.1. Programmation de l'algorithme avec des tests de validation**"
      ],
      "metadata": {
        "id": "w0hIYdvc9-PU"
      }
    },
    {
      "cell_type": "markdown",
      "source": [
        "Voici l'implémentation de l'algorithme de résolution du problème d'optimisation avec la contrainte de présence d'un actif sans risque, en utilisant l'algorithme d'Uzawa :"
      ],
      "metadata": {
        "id": "MXDqi0_4Oi3k"
      }
    },
    {
      "cell_type": "code",
      "source": [
        "import numpy as np\n",
        "from scipy.optimize import minimize\n",
        "\n",
        "def uzawa_algorithm(mu, Sigma, mu_p, rf, epsilon=1e-6, max_iterations=1000):\n",
        "    n = len(mu)  # Nombre d'actifs\n",
        "    e = np.ones(n)  # Vecteur colonne de taille n avec des 1\n",
        "\n",
        "    # Initialisation des variables\n",
        "    omega = np.ones(n) / n  # Vecteur colonne de taille n avec des 1/n\n",
        "    lambd = 0  # Initialisation du multiplicateur de Lagrange\n",
        "\n",
        "    # Calcul de tilde_mu et tilde_B\n",
        "    tilde_mu = mu - rf * e\n",
        "    tilde_B = tilde_mu.T @ np.linalg.inv(Sigma) @ tilde_mu\n",
        "\n",
        "    # Algorithme d'Uzawa\n",
        "    for _ in range(max_iterations):\n",
        "        omega_previous = omega.copy()  # Sauvegarde des poids précédents\n",
        "\n",
        "        # Mise à jour des poids du portefeuille\n",
        "        omega = tilde_mu / tilde_B @ np.linalg.inv(Sigma)  # Mise à jour des poids\n",
        "\n",
        "        # Mise à jour du multiplicateur de Lagrange\n",
        "        lambd = (mu_p - rf) / (2 * tilde_mu.T @ np.linalg.inv(Sigma) @ tilde_mu)\n",
        "\n",
        "        # Vérification de la convergence\n",
        "        if np.linalg.norm(omega - omega_previous) < epsilon:\n",
        "            break\n",
        "\n",
        "    return omega\n",
        "\n",
        "# Tests de validation\n",
        "mu = np.array([0.05, 0.1, 0.15])  # Rendements moyens des actifs\n",
        "Sigma = np.array([[0.1, 0.04, 0.02], [0.04, 0.08, 0.05], [0.02, 0.05, 0.12]])  # Matrice de covariance\n",
        "mu_p = 0.12  # Rendement cible du portefeuille\n",
        "rf = 0.03  # Rendement de l'actif sans risque\n",
        "\n",
        "omega_uzawa = uzawa_algorithm(mu, Sigma, mu_p, rf)\n",
        "print(\"Poids optimaux du portefeuille (Uzawa) :\", omega_uzawa)\n"
      ],
      "metadata": {
        "colab": {
          "base_uri": "https://localhost:8080/"
        },
        "id": "ucDQ8mwEOj36",
        "outputId": "8f488da1-b5a9-46ba-e78d-1fdfd7552e35"
      },
      "execution_count": null,
      "outputs": [
        {
          "output_type": "stream",
          "name": "stdout",
          "text": [
            "Poids optimaux du portefeuille (Uzawa) : [-1.04740904  3.19735391  6.64277839]\n"
          ]
        }
      ]
    },
    {
      "cell_type": "markdown",
      "source": [
        "###**D.3.2. Programmation fonctionnelle (CVXOP ou scipy.minimize)**"
      ],
      "metadata": {
        "id": "4aQzn8FG9-PV"
      }
    },
    {
      "cell_type": "markdown",
      "source": [
        "Pour résoudre le problème d'optimisation avec la contrainte de présence d'un actif sans risque en utilisant la programmation fonctionnelle, nous pouvons utiliser la bibliothèque CVXOPT ou la fonction minimize de la bibliothèque scipy.\n",
        "\n",
        "Voici l'implémentation utilisant la fonction minimize de scipy :"
      ],
      "metadata": {
        "id": "liprzEtVPCRR"
      }
    },
    {
      "cell_type": "code",
      "source": [
        "import numpy as np\n",
        "from scipy.optimize import minimize\n",
        "\n",
        "def objective_function(omega, Sigma):\n",
        "    return omega.T @ Sigma @ omega\n",
        "\n",
        "def constraint_function(omega, mu, e, rf, mu_p):\n",
        "    return omega.T @ mu + (1 - omega.T @ e) * rf - mu_p\n",
        "\n",
        "def optimize_portfolio_with_rf(mu, Sigma, mu_p, rf):\n",
        "    n = len(mu)  # Nombre d'actifs\n",
        "    e = np.ones(n)  # Vecteur colonne de taille n avec des 1\n",
        "\n",
        "    # Contrainte : omega.T @ mu + (1 - omega.T @ e) * rf = mu_p\n",
        "    constraint = {'type': 'eq', 'fun': constraint_function, 'args': (mu, e, rf, mu_p)}\n",
        "\n",
        "    # Contraintes des limites des poids (0 <= omega <= 1)\n",
        "    bounds = [(0, 1) for _ in range(n)]\n",
        "\n",
        "    # Initialisation des poids initiaux\n",
        "    omega_initial = np.ones(n) / n\n",
        "\n",
        "    # Utilisation de la fonction minimize de scipy\n",
        "    result = minimize(objective_function, omega_initial, args=(Sigma,), method='SLSQP', bounds=bounds,\n",
        "                      constraints=constraint)\n",
        "\n",
        "    if result.success:\n",
        "        optimal_weights = result.x\n",
        "        return optimal_weights\n",
        "    else:\n",
        "        raise ValueError(\"La résolution n'a pas abouti.\")\n",
        "\n",
        "# Tests de validation\n",
        "mu = np.array([0.05, 0.1, 0.15])  # Rendements moyens des actifs\n",
        "Sigma = np.array([[0.1, 0.04, 0.02], [0.04, 0.08, 0.05], [0.02, 0.05, 0.12]])  # Matrice de covariance\n",
        "mu_p = 0.12  # Rendement cible du portefeuille\n",
        "rf = 0.03  # Rendement de l'actif sans risque\n",
        "\n",
        "omega_optimal = optimize_portfolio_with_rf(mu, Sigma, mu_p, rf)\n",
        "print(\"Poids optimaux du portefeuille (scipy.minimize) :\", omega_optimal)\n"
      ],
      "metadata": {
        "colab": {
          "base_uri": "https://localhost:8080/"
        },
        "id": "dVd6yJNlPDQz",
        "outputId": "c34ea303-b36e-47eb-a6c2-40e9256e4550"
      },
      "execution_count": null,
      "outputs": [
        {
          "output_type": "stream",
          "name": "stdout",
          "text": [
            "Poids optimaux du portefeuille (scipy.minimize) : [2.47187861e-17 2.39999965e-01 6.10000020e-01]\n"
          ]
        }
      ]
    },
    {
      "cell_type": "markdown",
      "source": [
        "###**D.3.3. Comparaison des resultats des deux algorithmes : précision et vitesse de convergence /nombre d'iterations**"
      ],
      "metadata": {
        "id": "7FUZXa_89-PV"
      }
    },
    {
      "cell_type": "markdown",
      "source": [
        "On implémente la bibliothèque temps pour calculer la vitesse de convergence de chaque algorithme."
      ],
      "metadata": {
        "id": "X7VeKHSHd9Xx"
      }
    },
    {
      "cell_type": "code",
      "source": [
        "import numpy as np\n",
        "from scipy.optimize import minimize\n",
        "import time\n",
        "\n",
        "def uzawa_algorithm(mu, Sigma, mu_p, rf, epsilon=1e-6, max_iterations=1000):\n",
        "    n = len(mu)  # Nombre d'actifs\n",
        "    e = np.ones(n)  # Vecteur colonne de taille n avec des 1\n",
        "\n",
        "    # Initialisation des variables\n",
        "    omega = np.ones(n) / n  # Vecteur colonne de taille n avec des 1/n\n",
        "    lambd = 0  # Initialisation du multiplicateur de Lagrange\n",
        "\n",
        "    # Calcul de tilde_mu et tilde_B\n",
        "    tilde_mu = mu - rf * e\n",
        "    tilde_B = tilde_mu.T @ np.linalg.inv(Sigma) @ tilde_mu\n",
        "\n",
        "    # Algorithme d'Uzawa\n",
        "    for _ in range(max_iterations):\n",
        "        omega_previous = omega.copy()  # Sauvegarde des poids précédents\n",
        "\n",
        "        # Mise à jour des poids du portefeuille\n",
        "        omega = tilde_mu / tilde_B @ np.linalg.inv(Sigma)  # Mise à jour des poids\n",
        "\n",
        "        # Mise à jour du multiplicateur de Lagrange\n",
        "        lambd = (mu_p - rf) / (2 * tilde_mu.T @ np.linalg.inv(Sigma) @ tilde_mu)\n",
        "\n",
        "        # Vérification de la convergence\n",
        "        if np.linalg.norm(omega - omega_previous) < epsilon:\n",
        "            break\n",
        "\n",
        "    return omega\n",
        "\n",
        "# Tests de validation\n",
        "mu = np.array([0.05, 0.1, 0.15])  # Rendements moyens des actifs\n",
        "Sigma = np.array([[0.1, 0.04, 0.02], [0.04, 0.08, 0.05], [0.02, 0.05, 0.12]])  # Matrice de covariance\n",
        "mu_p = 0.12  # Rendement cible du portefeuille\n",
        "rf = 0.03  # Rendement de l'actif sans risque\n",
        "start_time = time.time()\n",
        "omega_uzawa = uzawa_algorithm(mu, Sigma, mu_p, rf)\n",
        "end_time = time.time()\n",
        "\n",
        "print(\"Poids optimaux du portefeuille (Uzawa) :\", omega_uzawa)\n",
        "print(\"Temps d'exécution (Uzawa) :\", end_time - start_time)"
      ],
      "metadata": {
        "colab": {
          "base_uri": "https://localhost:8080/"
        },
        "id": "2b7FjK7HdCFx",
        "outputId": "a6a3d81a-2518-4931-9e0c-5b05bb4c4daa"
      },
      "execution_count": null,
      "outputs": [
        {
          "output_type": "stream",
          "name": "stdout",
          "text": [
            "Poids optimaux du portefeuille (Uzawa) : [-1.04740904  3.19735391  6.64277839]\n",
            "Temps d'exécution (Uzawa) : 0.011520147323608398\n"
          ]
        }
      ]
    },
    {
      "cell_type": "code",
      "source": [
        "import numpy as np\n",
        "from scipy.optimize import minimize\n",
        "import time\n",
        "\n",
        "def objective_function(omega, Sigma):\n",
        "    return omega.T @ Sigma @ omega\n",
        "\n",
        "def constraint_function(omega, mu, e, rf, mu_p):\n",
        "    return omega.T @ mu + (1 - omega.T @ e) * rf - mu_p\n",
        "\n",
        "def optimize_portfolio_with_rf(mu, Sigma, mu_p, rf):\n",
        "    n = len(mu)  # Nombre d'actifs\n",
        "    e = np.ones(n)  # Vecteur colonne de taille n avec des 1\n",
        "\n",
        "    # Contrainte : omega.T @ mu + (1 - omega.T @ e) * rf = mu_p\n",
        "    constraint = {'type': 'eq', 'fun': constraint_function, 'args': (mu, e, rf, mu_p)}\n",
        "\n",
        "    # Contraintes des limites des poids (0 <= omega <= 1)\n",
        "    bounds = [(0, 1) for _ in range(n)]\n",
        "\n",
        "    # Initialisation des poids initiaux\n",
        "    omega_initial = np.ones(n) / n\n",
        "\n",
        "    # Utilisation de la fonction minimize de scipy\n",
        "    result = minimize(objective_function, omega_initial, args=(Sigma,), method='SLSQP', bounds=bounds,\n",
        "                      constraints=constraint)\n",
        "\n",
        "    if result.success:\n",
        "        optimal_weights = result.x\n",
        "        return optimal_weights\n",
        "    else:\n",
        "        raise ValueError(\"La résolution n'a pas abouti.\")\n",
        "\n",
        "# Tests de validation\n",
        "mu = np.array([0.05, 0.1, 0.15])  # Rendements moyens des actifs\n",
        "Sigma = np.array([[0.1, 0.04, 0.02], [0.04, 0.08, 0.05], [0.02, 0.05, 0.12]])  # Matrice de covariance\n",
        "mu_p = 0.12  # Rendement cible du portefeuille\n",
        "rf = 0.03  # Rendement de l'actif sans risque\n",
        "start_time = time.time()\n",
        "omega_optimal = optimize_portfolio_with_rf(mu, Sigma, mu_p, rf)\n",
        "end_time = time.time()\n",
        "print(\"Poids optimaux du portefeuille (scipy.minimize) :\", omega_optimal)\n",
        "print(\"Temps d'exécution (scipy.minimize) :\",end_time-start_time)\n"
      ],
      "metadata": {
        "colab": {
          "base_uri": "https://localhost:8080/"
        },
        "id": "1bbJVSwMdd2t",
        "outputId": "d70bdf8a-272b-482e-ded5-c18b1739da63"
      },
      "execution_count": null,
      "outputs": [
        {
          "output_type": "stream",
          "name": "stdout",
          "text": [
            "Poids optimaux du portefeuille (scipy.minimize) : [2.47187861e-17 2.39999965e-01 6.10000020e-01]\n",
            "Temps d'exécution (scipy.minimize) : 0.009423255920410156\n"
          ]
        }
      ]
    },
    {
      "cell_type": "markdown",
      "source": [
        "On en déduit que l'algorithme se basant sur scipy.minimize converge **plus rapidement** que l'algorithme d'Uzawa.\n"
      ],
      "metadata": {
        "id": "GSK7hzVbeLGq"
      }
    },
    {
      "cell_type": "markdown",
      "source": [
        "#**E. Probleme avec risque:**"
      ],
      "metadata": {
        "id": "aACj4p8e5iZK"
      }
    },
    {
      "cell_type": "markdown",
      "source": [
        "##**E.1. Analyse mathématique du problème::**"
      ],
      "metadata": {
        "id": "C0AClWnG9-PW"
      }
    },
    {
      "cell_type": "markdown",
      "source": [
        "**avec risque: caracterisation du minimum**\n",
        "\n",
        "Nous avons le problème d'optimisation suivant :\n",
        "\n",
        "\\begin{cases}\n",
        "\\min_{\\boldsymbol{\\omega}} \\quad & \\boldsymbol{\\omega}^T \\boldsymbol{\\Sigma} \\boldsymbol{\\omega} \\\\\n",
        "\\text{sous contrainte} \\quad & \\sum_{t} \\omega_t R_t \\leq M \\\\\n",
        "\\text{sous contrainte} \\quad & \\boldsymbol{\\omega}^T \\boldsymbol{\\mu} = \\mu_P \\\\\n",
        "\\text{sous contrainte} \\quad & \\boldsymbol{\\omega}^T \\mathbf{1} = 1 \\\\\n",
        "\\end{cases}\n",
        "\n",
        "\n",
        "\n"
      ],
      "metadata": {
        "id": "80BcaDLS2iBR"
      }
    },
    {
      "cell_type": "markdown",
      "source": [
        "###**E.1.1 L'ensemble des contraintes**"
      ],
      "metadata": {
        "id": "tioVgKDk5iZc"
      }
    },
    {
      "cell_type": "markdown",
      "source": [
        "Nous avons le problème d'optimisation suivant :\n",
        "\n",
        "\\begin{cases}\n",
        "\\min_{\\boldsymbol{\\omega}} \\quad & \\boldsymbol{\\omega}^T \\boldsymbol{\\Sigma} \\boldsymbol{\\omega} \\\\\n",
        "\\text{sous contrainte} \\quad & \\sum_{t} \\omega_t R_t \\leq M \\\\\n",
        "\\text{sous contrainte} \\quad & \\boldsymbol{\\omega}^T \\boldsymbol{\\mu} = \\mu_P \\\\\n",
        "\\text{sous contrainte} \\quad & \\boldsymbol{\\omega}^T \\mathbf{1} = 1 \\\\\n",
        "\\end{cases}\n",
        "\n",
        "On ajoute à ce qui précède la contrainte des coûts de risque $R_t$"
      ],
      "metadata": {
        "id": "GMg0IC2f5iZc"
      }
    },
    {
      "cell_type": "markdown",
      "source": [
        "###**E.1.2 Caractértisation du minimum (condition d'optimalité)**"
      ],
      "metadata": {
        "id": "e2VVFpe_5iZc"
      }
    },
    {
      "cell_type": "markdown",
      "source": [
        "Le lagrangien est le suivant:\n",
        "\n",
        "$\n",
        "L(\\boldsymbol{\\omega}, \\lambda_1, \\lambda_2, \\lambda_3) = \\boldsymbol{\\omega}^T \\boldsymbol{\\Sigma} \\boldsymbol{\\omega} + \\lambda_1 \\left(\\sum_{t} \\omega_t R_t - M\\right) + \\lambda_2 \\left(\\boldsymbol{\\omega}^T \\boldsymbol{\\mu} - \\mu_P\\right) + \\lambda_3 \\left(\\boldsymbol{\\omega}^T \\mathbf{1} - 1\\right)\n",
        "$\n",
        "\n",
        "Les dérivées partielles du lagrangien par rapport à chaque variable sont données par:\n",
        "\n",
        "$\n",
        "\\frac{\\partial L}{\\partial \\boldsymbol{\\omega}} = 2 \\boldsymbol{\\Sigma} \\boldsymbol{\\omega} + \\lambda_1 \\boldsymbol{R} + \\lambda_2 \\boldsymbol{\\mu} + \\lambda_3 \\mathbf{1} = \\boldsymbol{0}\n",
        "$\n",
        "\n",
        "$\n",
        "\\frac{\\partial L}{\\partial \\lambda_1} = \\sum_{t} \\omega_t R_t - M = 0\n",
        "$\n",
        "\n",
        "$\n",
        "\\frac{\\partial L}{\\partial \\lambda_2} = \\boldsymbol{\\omega}^T \\boldsymbol{\\mu} - \\mu_P = 0\n",
        "$\n",
        "\n",
        "$\n",
        "\\frac{\\partial L}{\\partial \\lambda_3} = \\boldsymbol{\\omega}^T \\mathbf{1} - 1 = 0\n",
        "$\n",
        "\n",
        "On obtient le système suivant:\n",
        "\n",
        "\n",
        "\\begin{cases}\n",
        "2 \\boldsymbol{\\Sigma} \\boldsymbol{\\omega} + \\lambda_1 \\boldsymbol{R} + \\lambda_2 \\boldsymbol{\\mu} + \\lambda_3 \\mathbf{1} &= \\boldsymbol{0} \\\\\n",
        "\\sum_{t} \\omega_t R_t - M &= 0 \\\\\n",
        "\\boldsymbol{\\omega}^T \\boldsymbol{\\mu} - \\mu_P &= 0 \\\\\n",
        "\\boldsymbol{\\omega}^T \\mathbf{1} - 1 &= 0 \\\\\n",
        "\\end{cases}\n",
        "\n",
        "\n",
        "On pourrait résoudre ce système umériquement pour déterminer les valeurs optimales de $\\boldsymbol{\\omega}$ ainsi que les multiplicateurs de Lagrange $\\lambda_1$, $\\lambda_2$ et $\\lambda_3$.\n",
        "\n"
      ],
      "metadata": {
        "id": "rMyQxOfM5iZd"
      }
    },
    {
      "cell_type": "markdown",
      "source": [
        "#**F. Frontière efficiente de Markowitz ( cas réel )**:"
      ],
      "metadata": {
        "id": "5GEW0k4ZqmQX"
      }
    },
    {
      "cell_type": "markdown",
      "source": [
        "Markowitz a également introduit la notion de frontière efficiente. Chaque actif possède un couple risque/rendement qu'il est possible de représenter graphiquement. Pour chaque rendement, il existe un portefeuille qui minimise le risque. À l'inverse, pour chaque niveau de risque, on peut trouver un portefeuille maximisant le rendement attendu. L'ensemble de ces portefeuilles est appelé frontière efficiente. Appliquons ceci à un portfeuille de 6 actions."
      ],
      "metadata": {
        "id": "yqRa_UyUGX1-"
      }
    },
    {
      "cell_type": "code",
      "source": [
        "import pandas as pd\n",
        "import numpy as np\n",
        "\n",
        "from tqdm import tqdm\n",
        "\n",
        "import plotly\n",
        "import plotly.graph_objects as go\n",
        "from plotly.subplots import make_subplots\n",
        "import plotly.express as px\n",
        "import plotly.figure_factory as ff"
      ],
      "metadata": {
        "id": "hSNT75TIMpbY"
      },
      "execution_count": null,
      "outputs": []
    },
    {
      "cell_type": "markdown",
      "source": [
        "\n",
        "Nos données comprennent les rendements quotidiens d'un univers de six actions, comme indiqué ci-dessous. Les rendements couvrent la période allant du début de l'année 2000 jusqu'à la fin de 2018."
      ],
      "metadata": {
        "id": "RulSaQepQakI"
      }
    },
    {
      "cell_type": "code",
      "source": [
        "daily_returns = pd.read_csv('daily_returns.csv', index_col=0)\n",
        "daily_returns.head()"
      ],
      "metadata": {
        "colab": {
          "base_uri": "https://localhost:8080/",
          "height": 206
        },
        "id": "v2M7d8rnM09I",
        "outputId": "97fa8ef3-9712-4b16-c052-b5b1fe6ea652"
      },
      "execution_count": null,
      "outputs": [
        {
          "output_type": "execute_result",
          "data": {
            "text/plain": [
              "            ATTIJARI     SAHAM   LAFARGE  LABELVIE   COSUMAR    ADDOHA\n",
              "2000-01-03  0.088754 -0.061947 -0.033454 -0.018723 -0.001606  0.047867\n",
              "2000-01-04 -0.084310 -0.027444 -0.037418 -0.043365 -0.033780 -0.076465\n",
              "2000-01-05  0.014634 -0.006173 -0.020408 -0.022665  0.010544  0.034409\n",
              "2000-01-06 -0.086538  0.014197  0.010913 -0.047310 -0.033498  0.016632\n",
              "2000-01-07  0.047368  0.018373  0.075564  0.051607  0.013068  0.112474"
            ],
            "text/html": [
              "\n",
              "  <div id=\"df-f79b4c93-90cb-41f6-b68e-aca816241977\">\n",
              "    <div class=\"colab-df-container\">\n",
              "      <div>\n",
              "<style scoped>\n",
              "    .dataframe tbody tr th:only-of-type {\n",
              "        vertical-align: middle;\n",
              "    }\n",
              "\n",
              "    .dataframe tbody tr th {\n",
              "        vertical-align: top;\n",
              "    }\n",
              "\n",
              "    .dataframe thead th {\n",
              "        text-align: right;\n",
              "    }\n",
              "</style>\n",
              "<table border=\"1\" class=\"dataframe\">\n",
              "  <thead>\n",
              "    <tr style=\"text-align: right;\">\n",
              "      <th></th>\n",
              "      <th>ATTIJARI</th>\n",
              "      <th>SAHAM</th>\n",
              "      <th>LAFARGE</th>\n",
              "      <th>LABELVIE</th>\n",
              "      <th>COSUMAR</th>\n",
              "      <th>ADDOHA</th>\n",
              "    </tr>\n",
              "  </thead>\n",
              "  <tbody>\n",
              "    <tr>\n",
              "      <th>2000-01-03</th>\n",
              "      <td>0.088754</td>\n",
              "      <td>-0.061947</td>\n",
              "      <td>-0.033454</td>\n",
              "      <td>-0.018723</td>\n",
              "      <td>-0.001606</td>\n",
              "      <td>0.047867</td>\n",
              "    </tr>\n",
              "    <tr>\n",
              "      <th>2000-01-04</th>\n",
              "      <td>-0.084310</td>\n",
              "      <td>-0.027444</td>\n",
              "      <td>-0.037418</td>\n",
              "      <td>-0.043365</td>\n",
              "      <td>-0.033780</td>\n",
              "      <td>-0.076465</td>\n",
              "    </tr>\n",
              "    <tr>\n",
              "      <th>2000-01-05</th>\n",
              "      <td>0.014634</td>\n",
              "      <td>-0.006173</td>\n",
              "      <td>-0.020408</td>\n",
              "      <td>-0.022665</td>\n",
              "      <td>0.010544</td>\n",
              "      <td>0.034409</td>\n",
              "    </tr>\n",
              "    <tr>\n",
              "      <th>2000-01-06</th>\n",
              "      <td>-0.086538</td>\n",
              "      <td>0.014197</td>\n",
              "      <td>0.010913</td>\n",
              "      <td>-0.047310</td>\n",
              "      <td>-0.033498</td>\n",
              "      <td>0.016632</td>\n",
              "    </tr>\n",
              "    <tr>\n",
              "      <th>2000-01-07</th>\n",
              "      <td>0.047368</td>\n",
              "      <td>0.018373</td>\n",
              "      <td>0.075564</td>\n",
              "      <td>0.051607</td>\n",
              "      <td>0.013068</td>\n",
              "      <td>0.112474</td>\n",
              "    </tr>\n",
              "  </tbody>\n",
              "</table>\n",
              "</div>\n",
              "      <button class=\"colab-df-convert\" onclick=\"convertToInteractive('df-f79b4c93-90cb-41f6-b68e-aca816241977')\"\n",
              "              title=\"Convert this dataframe to an interactive table.\"\n",
              "              style=\"display:none;\">\n",
              "        \n",
              "  <svg xmlns=\"http://www.w3.org/2000/svg\" height=\"24px\"viewBox=\"0 0 24 24\"\n",
              "       width=\"24px\">\n",
              "    <path d=\"M0 0h24v24H0V0z\" fill=\"none\"/>\n",
              "    <path d=\"M18.56 5.44l.94 2.06.94-2.06 2.06-.94-2.06-.94-.94-2.06-.94 2.06-2.06.94zm-11 1L8.5 8.5l.94-2.06 2.06-.94-2.06-.94L8.5 2.5l-.94 2.06-2.06.94zm10 10l.94 2.06.94-2.06 2.06-.94-2.06-.94-.94-2.06-.94 2.06-2.06.94z\"/><path d=\"M17.41 7.96l-1.37-1.37c-.4-.4-.92-.59-1.43-.59-.52 0-1.04.2-1.43.59L10.3 9.45l-7.72 7.72c-.78.78-.78 2.05 0 2.83L4 21.41c.39.39.9.59 1.41.59.51 0 1.02-.2 1.41-.59l7.78-7.78 2.81-2.81c.8-.78.8-2.07 0-2.86zM5.41 20L4 18.59l7.72-7.72 1.47 1.35L5.41 20z\"/>\n",
              "  </svg>\n",
              "      </button>\n",
              "      \n",
              "  <style>\n",
              "    .colab-df-container {\n",
              "      display:flex;\n",
              "      flex-wrap:wrap;\n",
              "      gap: 12px;\n",
              "    }\n",
              "\n",
              "    .colab-df-convert {\n",
              "      background-color: #E8F0FE;\n",
              "      border: none;\n",
              "      border-radius: 50%;\n",
              "      cursor: pointer;\n",
              "      display: none;\n",
              "      fill: #1967D2;\n",
              "      height: 32px;\n",
              "      padding: 0 0 0 0;\n",
              "      width: 32px;\n",
              "    }\n",
              "\n",
              "    .colab-df-convert:hover {\n",
              "      background-color: #E2EBFA;\n",
              "      box-shadow: 0px 1px 2px rgba(60, 64, 67, 0.3), 0px 1px 3px 1px rgba(60, 64, 67, 0.15);\n",
              "      fill: #174EA6;\n",
              "    }\n",
              "\n",
              "    [theme=dark] .colab-df-convert {\n",
              "      background-color: #3B4455;\n",
              "      fill: #D2E3FC;\n",
              "    }\n",
              "\n",
              "    [theme=dark] .colab-df-convert:hover {\n",
              "      background-color: #434B5C;\n",
              "      box-shadow: 0px 1px 3px 1px rgba(0, 0, 0, 0.15);\n",
              "      filter: drop-shadow(0px 1px 2px rgba(0, 0, 0, 0.3));\n",
              "      fill: #FFFFFF;\n",
              "    }\n",
              "  </style>\n",
              "\n",
              "      <script>\n",
              "        const buttonEl =\n",
              "          document.querySelector('#df-f79b4c93-90cb-41f6-b68e-aca816241977 button.colab-df-convert');\n",
              "        buttonEl.style.display =\n",
              "          google.colab.kernel.accessAllowed ? 'block' : 'none';\n",
              "\n",
              "        async function convertToInteractive(key) {\n",
              "          const element = document.querySelector('#df-f79b4c93-90cb-41f6-b68e-aca816241977');\n",
              "          const dataTable =\n",
              "            await google.colab.kernel.invokeFunction('convertToInteractive',\n",
              "                                                     [key], {});\n",
              "          if (!dataTable) return;\n",
              "\n",
              "          const docLinkHtml = 'Like what you see? Visit the ' +\n",
              "            '<a target=\"_blank\" href=https://colab.research.google.com/notebooks/data_table.ipynb>data table notebook</a>'\n",
              "            + ' to learn more about interactive tables.';\n",
              "          element.innerHTML = '';\n",
              "          dataTable['output_type'] = 'display_data';\n",
              "          await google.colab.output.renderOutput(dataTable, element);\n",
              "          const docLink = document.createElement('div');\n",
              "          docLink.innerHTML = docLinkHtml;\n",
              "          element.appendChild(docLink);\n",
              "        }\n",
              "      </script>\n",
              "    </div>\n",
              "  </div>\n",
              "  "
            ]
          },
          "metadata": {},
          "execution_count": 5
        }
      ]
    },
    {
      "cell_type": "code",
      "source": [
        "daily_returns.head(3)"
      ],
      "metadata": {
        "colab": {
          "base_uri": "https://localhost:8080/",
          "height": 143
        },
        "id": "k3wJ7o11NYyt",
        "outputId": "5176555f-13fc-4b11-ab02-5780bdef0bbb"
      },
      "execution_count": null,
      "outputs": [
        {
          "output_type": "execute_result",
          "data": {
            "text/plain": [
              "            ATTIJARI     SAHAM   LAFARGE  LABELVIE   COSUMAR    ADDOHA\n",
              "2000-01-03  0.088754 -0.061947 -0.033454 -0.018723 -0.001606  0.047867\n",
              "2000-01-04 -0.084310 -0.027444 -0.037418 -0.043365 -0.033780 -0.076465\n",
              "2000-01-05  0.014634 -0.006173 -0.020408 -0.022665  0.010544  0.034409"
            ],
            "text/html": [
              "\n",
              "  <div id=\"df-2d2499c2-9065-4f01-80ef-b4d0d0d38e53\">\n",
              "    <div class=\"colab-df-container\">\n",
              "      <div>\n",
              "<style scoped>\n",
              "    .dataframe tbody tr th:only-of-type {\n",
              "        vertical-align: middle;\n",
              "    }\n",
              "\n",
              "    .dataframe tbody tr th {\n",
              "        vertical-align: top;\n",
              "    }\n",
              "\n",
              "    .dataframe thead th {\n",
              "        text-align: right;\n",
              "    }\n",
              "</style>\n",
              "<table border=\"1\" class=\"dataframe\">\n",
              "  <thead>\n",
              "    <tr style=\"text-align: right;\">\n",
              "      <th></th>\n",
              "      <th>ATTIJARI</th>\n",
              "      <th>SAHAM</th>\n",
              "      <th>LAFARGE</th>\n",
              "      <th>LABELVIE</th>\n",
              "      <th>COSUMAR</th>\n",
              "      <th>ADDOHA</th>\n",
              "    </tr>\n",
              "  </thead>\n",
              "  <tbody>\n",
              "    <tr>\n",
              "      <th>2000-01-03</th>\n",
              "      <td>0.088754</td>\n",
              "      <td>-0.061947</td>\n",
              "      <td>-0.033454</td>\n",
              "      <td>-0.018723</td>\n",
              "      <td>-0.001606</td>\n",
              "      <td>0.047867</td>\n",
              "    </tr>\n",
              "    <tr>\n",
              "      <th>2000-01-04</th>\n",
              "      <td>-0.084310</td>\n",
              "      <td>-0.027444</td>\n",
              "      <td>-0.037418</td>\n",
              "      <td>-0.043365</td>\n",
              "      <td>-0.033780</td>\n",
              "      <td>-0.076465</td>\n",
              "    </tr>\n",
              "    <tr>\n",
              "      <th>2000-01-05</th>\n",
              "      <td>0.014634</td>\n",
              "      <td>-0.006173</td>\n",
              "      <td>-0.020408</td>\n",
              "      <td>-0.022665</td>\n",
              "      <td>0.010544</td>\n",
              "      <td>0.034409</td>\n",
              "    </tr>\n",
              "  </tbody>\n",
              "</table>\n",
              "</div>\n",
              "      <button class=\"colab-df-convert\" onclick=\"convertToInteractive('df-2d2499c2-9065-4f01-80ef-b4d0d0d38e53')\"\n",
              "              title=\"Convert this dataframe to an interactive table.\"\n",
              "              style=\"display:none;\">\n",
              "        \n",
              "  <svg xmlns=\"http://www.w3.org/2000/svg\" height=\"24px\"viewBox=\"0 0 24 24\"\n",
              "       width=\"24px\">\n",
              "    <path d=\"M0 0h24v24H0V0z\" fill=\"none\"/>\n",
              "    <path d=\"M18.56 5.44l.94 2.06.94-2.06 2.06-.94-2.06-.94-.94-2.06-.94 2.06-2.06.94zm-11 1L8.5 8.5l.94-2.06 2.06-.94-2.06-.94L8.5 2.5l-.94 2.06-2.06.94zm10 10l.94 2.06.94-2.06 2.06-.94-2.06-.94-.94-2.06-.94 2.06-2.06.94z\"/><path d=\"M17.41 7.96l-1.37-1.37c-.4-.4-.92-.59-1.43-.59-.52 0-1.04.2-1.43.59L10.3 9.45l-7.72 7.72c-.78.78-.78 2.05 0 2.83L4 21.41c.39.39.9.59 1.41.59.51 0 1.02-.2 1.41-.59l7.78-7.78 2.81-2.81c.8-.78.8-2.07 0-2.86zM5.41 20L4 18.59l7.72-7.72 1.47 1.35L5.41 20z\"/>\n",
              "  </svg>\n",
              "      </button>\n",
              "      \n",
              "  <style>\n",
              "    .colab-df-container {\n",
              "      display:flex;\n",
              "      flex-wrap:wrap;\n",
              "      gap: 12px;\n",
              "    }\n",
              "\n",
              "    .colab-df-convert {\n",
              "      background-color: #E8F0FE;\n",
              "      border: none;\n",
              "      border-radius: 50%;\n",
              "      cursor: pointer;\n",
              "      display: none;\n",
              "      fill: #1967D2;\n",
              "      height: 32px;\n",
              "      padding: 0 0 0 0;\n",
              "      width: 32px;\n",
              "    }\n",
              "\n",
              "    .colab-df-convert:hover {\n",
              "      background-color: #E2EBFA;\n",
              "      box-shadow: 0px 1px 2px rgba(60, 64, 67, 0.3), 0px 1px 3px 1px rgba(60, 64, 67, 0.15);\n",
              "      fill: #174EA6;\n",
              "    }\n",
              "\n",
              "    [theme=dark] .colab-df-convert {\n",
              "      background-color: #3B4455;\n",
              "      fill: #D2E3FC;\n",
              "    }\n",
              "\n",
              "    [theme=dark] .colab-df-convert:hover {\n",
              "      background-color: #434B5C;\n",
              "      box-shadow: 0px 1px 3px 1px rgba(0, 0, 0, 0.15);\n",
              "      filter: drop-shadow(0px 1px 2px rgba(0, 0, 0, 0.3));\n",
              "      fill: #FFFFFF;\n",
              "    }\n",
              "  </style>\n",
              "\n",
              "      <script>\n",
              "        const buttonEl =\n",
              "          document.querySelector('#df-2d2499c2-9065-4f01-80ef-b4d0d0d38e53 button.colab-df-convert');\n",
              "        buttonEl.style.display =\n",
              "          google.colab.kernel.accessAllowed ? 'block' : 'none';\n",
              "\n",
              "        async function convertToInteractive(key) {\n",
              "          const element = document.querySelector('#df-2d2499c2-9065-4f01-80ef-b4d0d0d38e53');\n",
              "          const dataTable =\n",
              "            await google.colab.kernel.invokeFunction('convertToInteractive',\n",
              "                                                     [key], {});\n",
              "          if (!dataTable) return;\n",
              "\n",
              "          const docLinkHtml = 'Like what you see? Visit the ' +\n",
              "            '<a target=\"_blank\" href=https://colab.research.google.com/notebooks/data_table.ipynb>data table notebook</a>'\n",
              "            + ' to learn more about interactive tables.';\n",
              "          element.innerHTML = '';\n",
              "          dataTable['output_type'] = 'display_data';\n",
              "          await google.colab.output.renderOutput(dataTable, element);\n",
              "          const docLink = document.createElement('div');\n",
              "          docLink.innerHTML = docLinkHtml;\n",
              "          element.appendChild(docLink);\n",
              "        }\n",
              "      </script>\n",
              "    </div>\n",
              "  </div>\n",
              "  "
            ]
          },
          "metadata": {},
          "execution_count": 6
        }
      ]
    },
    {
      "cell_type": "markdown",
      "source": [
        "\n",
        "Nous pouvons immédiatement obtenir les rendements annuels attendus, la variance et la matrice de covariance en utilisant deux lignes de code à partir de ces données. Nous notons qu'en utilisant des données passées de cette manière, nous supposons que l'avenir suivra les tendances passées. Il s'agit d'une hypothèse très controversée sur les marchés financiers, mais cela fera l'affaire pour le moment."
      ],
      "metadata": {
        "id": "cebCzX-pQmrF"
      }
    },
    {
      "cell_type": "code",
      "source": [
        "#-- Get annualised mean returns\n",
        "mus = (1+daily_returns.mean())**252 - 1\n",
        "\n",
        "#-- Get covariances\n",
        "#- Multiply by 252 to annualise it (square root time for volatility but no square root for variance)\n",
        "#- Note: 252 trading days in a year\n",
        "\n",
        "cov = daily_returns.cov()*252"
      ],
      "metadata": {
        "id": "hoto-K_tNdd1"
      },
      "execution_count": null,
      "outputs": []
    },
    {
      "cell_type": "markdown",
      "source": [
        "\n",
        "Obtenir les portefeuilles - Version simplifiée\n",
        "\n",
        "Sans utiliser d'autres bibliothèques que numpy, nous pouvons rapidement et facilement créer un graphique de moyenne-variance en utilisant le code suivant. Un graphique de moyenne-variance nous permet de visualiser le compromis entre le risque et le rendement pour chaque portefeuille.\n",
        "\n",
        "On utilise les formules qu'on a donné auparavant pour calculer les espérances et les variances des portfeuilles"
      ],
      "metadata": {
        "id": "TW80M7bEQtFQ"
      }
    },
    {
      "cell_type": "code",
      "source": [
        "#- Combien d'actifs inclure dans chaque portefeuille\n",
        "n_assets = 5\n",
        "#-- Combien de portefeuilles générer\n",
        "n_portfolios = 1000\n",
        "\n",
        "#-- Initialiser une liste vide pour stocker les paires moyenne-variance pour le tracé\n",
        "mean_variance_pairs = []\n",
        "\n",
        "np.random.seed(75)\n",
        "#-- Parcourir et générer de nombreux portefeuilles aléatoires\n",
        "for i in range(n_portfolios):\n",
        "    #- Choisir des actifs aléatoirement sans remplacement\n",
        "    actifs = np.random.choice(list(daily_returns.columns), n_assets, replace=False)\n",
        "    #- Choisir des poids aléatoires\n",
        "    poids = np.random.rand(n_assets)\n",
        "    #- S'assurer que la somme des poids est égale à 1\n",
        "    poids = poids/sum(poids)\n",
        "\n",
        "    #-- Parcourir les paires d'actifs et calculer le rendement et la variance du portefeuille\n",
        "\n",
        "    portfolio_E_Variance = 0\n",
        "    portfolio_E_Retour = 0\n",
        "    for i in range(len(actifs)):\n",
        "        portfolio_E_Retour += poids[i] * mus.loc[actifs[i]]\n",
        "        for j in range(len(actifs)):\n",
        "            #-- Ajouter la variance/covariance pour chaque paire d'actifs\n",
        "            #- Notez que lorsque i == j, cela ajoute la variance\n",
        "            portfolio_E_Variance += poids[i] * poids[j] * cov.loc[actifs[i], actifs[j]]\n",
        "\n",
        "    #-- Ajouter les paires moyenne-variance à une liste pour le tracé\n",
        "    mean_variance_pairs.append([portfolio_E_Retour, portfolio_E_Variance])\n"
      ],
      "metadata": {
        "id": "1FrPvjoXN5BW"
      },
      "execution_count": null,
      "outputs": []
    },
    {
      "cell_type": "code",
      "source": [
        "#-- Tracer le risque par rapport au rendement des portefeuilles générés aléatoirement\n",
        "#-- Convertir la liste précédente en un tableau pour un tracé facile\n",
        "mean_variance_pairs = np.array(mean_variance_pairs)\n",
        "\n",
        "risk_free_rate = 0  #-- Inclure le taux sans risque ici\n",
        "\n",
        "fig = go.Figure()\n",
        "fig.add_trace(go.Scatter(x=mean_variance_pairs[:,1]**0.5, y=mean_variance_pairs[:,0],\n",
        "                      marker=dict(color=(mean_variance_pairs[:,0]-risk_free_rate)/(mean_variance_pairs[:,1]**0.5),\n",
        "                                  showscale=True,\n",
        "                                  size=7,\n",
        "                                  line=dict(width=1),\n",
        "                                  colorscale=\"RdBu\",\n",
        "                                  colorbar=dict(title=\"Ratio de Sharpe\")\n",
        "                                 ),\n",
        "                      mode='markers'))\n",
        "fig.update_layout(template='plotly_white',\n",
        "                  xaxis=dict(title='Risque annuel (volatilité)'),\n",
        "                  yaxis=dict(title='Rendement annuel'),\n",
        "                  title='Exemple de portefeuilles aléatoires',\n",
        "                  width=850,\n",
        "                  height=500)\n",
        "fig.update_xaxes(range=[0.18, 0.32])\n",
        "fig.update_yaxes(range=[0.02,0.27])\n",
        "fig.update_layout(coloraxis_colorbar=dict(title=\"Ratio de Sharpe\"))\n"
      ],
      "metadata": {
        "colab": {
          "base_uri": "https://localhost:8080/",
          "height": 517
        },
        "id": "EuoNhqD0OMi_",
        "outputId": "a93c3184-b797-485b-c846-ea6fb4761818"
      },
      "execution_count": null,
      "outputs": [
        {
          "output_type": "display_data",
          "data": {
            "text/html": [
              "<html>\n",
              "<head><meta charset=\"utf-8\" /></head>\n",
              "<body>\n",
              "    <div>            <script src=\"https://cdnjs.cloudflare.com/ajax/libs/mathjax/2.7.5/MathJax.js?config=TeX-AMS-MML_SVG\"></script><script type=\"text/javascript\">if (window.MathJax && window.MathJax.Hub && window.MathJax.Hub.Config) {window.MathJax.Hub.Config({SVG: {font: \"STIX-Web\"}});}</script>                <script type=\"text/javascript\">window.PlotlyConfig = {MathJaxConfig: 'local'};</script>\n",
              "        <script src=\"https://cdn.plot.ly/plotly-2.18.2.min.js\"></script>                <div id=\"272300cc-2e16-4e5b-a41f-a80fb1871114\" class=\"plotly-graph-div\" style=\"height:500px; width:850px;\"></div>            <script type=\"text/javascript\">                                    window.PLOTLYENV=window.PLOTLYENV || {};                                    if (document.getElementById(\"272300cc-2e16-4e5b-a41f-a80fb1871114\")) {                    Plotly.newPlot(                        \"272300cc-2e16-4e5b-a41f-a80fb1871114\",                        [{\"marker\":{\"color\":[0.4546086024884472,0.7297779574836402,0.6902865732050806,0.6463071766429194,0.6492110792703325,0.6119946302760834,0.5345162994941615,0.7044169978497332,0.4368358929357491,0.6015697869246344,0.5254814927304481,0.4293907468947898,0.7394597792762692,0.8260412432398729,0.3856442414079314,0.625034160310404,0.6339149319719882,0.7234458152922596,0.5899570234639935,0.5955275493711774,0.7390192073621306,0.6957274722177754,0.4476937230365361,0.5435615118649498,0.43837847883309716,0.3598978069108053,0.7720750151339325,0.38060996230351335,0.4249201972032978,0.35490069225939713,0.6051150318425864,0.5572092861789002,0.44969415088329906,0.6441205812271901,0.6942681504983055,0.7209312842983941,0.5519511777371586,0.6141288451927571,0.41216838458100546,0.7146750100083903,0.6706515356726083,0.7654506687758491,0.5056943868195369,0.6305230623618381,0.6128598692928243,0.785158453059565,0.6574195009647534,0.43509835050482504,0.5554999499150673,0.7280342566534954,0.4760665079905671,0.4415084516111889,0.4423478931628974,0.6949409753318798,0.6539859778608302,0.645240042478651,0.7802446385758163,0.4821168345028178,0.7283361767756209,0.39672275262451867,0.7351418783692478,0.7108187988534287,0.6097542647067878,0.6930341744369575,0.6820017295679922,0.5091577631018871,0.5291839473710458,0.5247654535874462,0.4186964317104013,0.4296694414317649,0.5230308197931325,0.5897244836138095,0.6021069964275167,0.36250285522770853,0.4603988973194669,0.47603545415881376,0.6260672443803256,0.5560410070128546,0.5316960311070801,0.7406648780304121,0.44875303405978223,0.6240309878046538,0.8148701631086718,0.5297992236207527,0.42650259735252705,0.5037376775310287,0.46286401977946884,0.42868068075038634,0.41955256083317416,0.6806188976174523,0.6097786120851414,0.7481029683755298,0.5317746495466121,0.4441462155071355,0.5446986743146691,0.6278202475644312,0.5252913308440035,0.3765058647008092,0.3618341938603787,0.4167131508445994,0.6791773953877969,0.42097299940145844,0.7311965335305276,0.6471861063215307,0.40925297090840235,0.7224954643533932,0.5211814685187911,0.43154617433387693,0.40484643640733436,0.5832217772631777,0.4365020082204125,0.3839056912625978,0.6735545026246521,0.6411573321959184,0.4256423850856626,0.5000005259098478,0.654191880680594,0.6723619587782617,0.6963467190105883,0.44838868589437275,0.7005595965057949,0.5514127134254819,0.6604432038506887,0.8073861256643581,0.6973391006910925,0.7100645830968204,0.5010568835200002,0.664720688088233,0.6234809145093901,0.7302507012458203,0.5921624156445098,0.6395413765597255,0.5158008461614974,0.460440462450805,0.7020476377846507,0.7222398177403272,0.7174135080399406,0.5498749280205739,0.4957761284462694,0.4831992984215577,0.4318547473535639,0.3199904507397792,0.5951122785120736,0.6538297797137462,0.4449023668857424,0.6637515866499534,0.6605396967519654,0.4616601063632683,0.48182165562432666,0.3973645853281835,0.49385185306131596,0.6021733287148359,0.7024412412196528,0.7661318534130778,0.45086624502602246,0.5764104423327099,0.6815162316336223,0.43005020090304963,0.4543461074118928,0.6280542835300668,0.7130625809485068,0.48766138157427763,0.6448863051705509,0.5591516880973493,0.5888722994961896,0.6457768011160625,0.4257072623610662,0.4357875853736282,0.6889046747145042,0.43115432086722055,0.3883897068567134,0.6653399098424991,0.4683189271578038,0.6087321405320814,0.5669692179880628,0.5483367437794003,0.6582729477902518,0.4964502457717358,0.5605238740159503,0.7144479875346839,0.7825806972898945,0.7053313574055976,0.5703568431221735,0.6135228462293936,0.49722822549864343,0.5376941853663222,0.642753705932496,0.7487152894031164,0.44632238322701223,0.6232176541244565,0.3866293740889784,0.5743563642440913,0.6958301208102669,0.4712036044906167,0.42125824662927036,0.6521752233815382,0.7055938188709285,0.5505747072411104,0.47343275808278584,0.7906014902748566,0.7515977039027327,0.44161526468316215,0.6782444174477554,0.6830810941492051,0.6588035134052712,0.7573646907509114,0.4148816968121219,0.8106426646388636,0.545224298087271,0.5693642426632362,0.765629089542913,0.3981384211359232,0.7181381036325307,0.4189067374548592,0.7234579475437666,0.6771439750957828,0.6916266326293031,0.40826563452641684,0.677643072178087,0.5115553914330118,0.6477240102183847,0.7147918285487589,0.507964816334667,0.4280226955744667,0.5847891689049773,0.7755414989446936,0.40275805085844457,0.4128610724060999,0.47727082995056097,0.7606300219263269,0.7716147898884433,0.6459230288916323,0.3803804186040033,0.4454940624172347,0.7767485852296836,0.45259501005903013,0.587543402481773,0.6908233829651083,0.8420861481864202,0.7529008982619176,0.5428788802143447,0.7218752752499449,0.4307016291263638,0.6057221979971785,0.5132512108703126,0.46536767304055027,0.459610396623259,0.44632493837119,0.6140346837040007,0.6221688275712741,0.4033570470993589,0.5869701111735977,0.5402771184475657,0.42011479491219694,0.698422908190374,0.4406287203154541,0.6200350755537992,0.3497146354580335,0.6599271486605676,0.5925950724729812,0.682224534040445,0.44008517398399555,0.5669525476822916,0.7493053772258409,0.6518972480801605,0.3747093475097406,0.7447630371398031,0.4215682238876816,0.8037321220251993,0.7465717336149205,0.4257990906214235,0.4467504123456247,0.37829407764490686,0.6762722732050535,0.8229620173169344,0.4275786870524935,0.6711223672681027,0.6858388787477498,0.6673499615516034,0.5609601684400446,0.6253920997698303,0.3729238689700548,0.6827125348833195,0.6461714399815751,0.521900340080353,0.6451690781843643,0.674837192429456,0.5417427819785858,0.4157369875138745,0.6511401621797379,0.5115846843903318,0.6846848507504212,0.5379199143152599,0.6690495367346506,0.5124950686431081,0.6974375237163322,0.4753487938012462,0.47296965961865844,0.39977614607794604,0.554395723506663,0.45516389706869653,0.5620624679070487,0.7660524774448597,0.6562924438476385,0.6154942859098291,0.6248631374942991,0.6942097015710251,0.5102617364160194,0.6068041603005312,0.4091341681147933,0.6832809564808021,0.7223806546605429,0.689188449065107,0.5547476249944859,0.4855139708368368,0.7426399097431801,0.5535429257175702,0.5141186868533,0.7666733415594678,0.6035814649514265,0.5460461716580433,0.4046907988342757,0.37673617400832315,0.744458412519343,0.44057009193747,0.5872165269979723,0.7480568465444469,0.7284683847627565,0.6582620661320879,0.7162067761358608,0.6269907533811441,0.6100881636010289,0.5792089562674955,0.7335790541802917,0.49283444558129247,0.7461479998661552,0.38492127778342144,0.5692343058518762,0.8043636455642286,0.3939642884731619,0.7222365774579166,0.44808514899509505,0.6864698857043788,0.42711367230647557,0.6751443194709915,0.42088112690741813,0.3869316506185699,0.5145986060853445,0.64729398918763,0.5899326706328143,0.6289959282054225,0.4039035765957203,0.617673300678183,0.6341224161619524,0.653436972596138,0.7370464344332757,0.7531835218799494,0.6387488251212372,0.615071655347847,0.6459594567959358,0.601389786174647,0.5397420517719794,0.43486376797020326,0.7531479394790593,0.4379534227597767,0.4332593295141119,0.3709860318317108,0.6846024241922238,0.4244492912994001,0.42604262307974233,0.6414642447874292,0.5391828517334945,0.6540175323951523,0.6409760725141624,0.37227046842649286,0.7095013456937287,0.7703281381221149,0.7306732827608228,0.4122945135638647,0.6499927904826653,0.687543586330628,0.7245944380743882,0.6527689026180553,0.8015283596609025,0.6392255541485792,0.6570558643663255,0.4311947344960403,0.6480496025143343,0.7290850016449114,0.7049500192001432,0.3901545065279856,0.6670635538027849,0.4918455687996657,0.49705152132670016,0.7039257233056964,0.6426990846629327,0.4275645176677751,0.5293362971735418,0.43168242549449176,0.6281628623935519,0.7008161666489944,0.6812112187416447,0.45814811795403826,0.5632953667243386,0.7574978288575864,0.45019577940816513,0.6854026837882979,0.6998463773244549,0.42356208464071005,0.6616285815812594,0.7120998293069714,0.5563591344206386,0.391142418255036,0.7022778452241342,0.6893228230763622,0.5912950588099544,0.7552372964088923,0.5866733686668593,0.45342627189109125,0.6461312011591664,0.6588588729069479,0.39159177343485857,0.7094469939487826,0.6006077796284824,0.5101019334779016,0.698383987566898,0.6759392679711888,0.6735679412948136,0.6910937375203601,0.6724512028491989,0.6177900717519663,0.5355810273928298,0.654780818331404,0.6277511686272021,0.7000987461024957,0.8367556579499204,0.5363329273930099,0.4862483925688012,0.671609013666759,0.4216725254569431,0.3881903067499722,0.6219277734367153,0.5570747224560256,0.668189981706075,0.3690746697335504,0.7022540949108741,0.660917227284595,0.41675018824029625,0.4240122221499138,0.42495511242983675,0.4735870762629431,0.45299869782584645,0.3863043936983582,0.4643108192681677,0.4938375556390486,0.4251684205293502,0.6976508085001847,0.6348733156743817,0.752674973140302,0.5143420366552047,0.6931392803115431,0.7165089989108206,0.6646362184882336,0.43819243207898223,0.4764339387195485,0.6287933055348767,0.41387174946356947,0.6434837484677359,0.5314593239860962,0.6353753776549539,0.6554273681862205,0.49723347775347326,0.6465960174538231,0.5283590409956329,0.42382319451703687,0.4436619565881216,0.6062105243059323,0.6201763606556309,0.5909538332653904,0.6108581220476226,0.6524774137426868,0.6431798655811675,0.6053810030241386,0.6597796263491089,0.7573342504570869,0.3993685405300428,0.4048107385252538,0.5467277037919797,0.4273115212867616,0.5916152240441288,0.699049890196994,0.6351412486686692,0.7256672337116135,0.7971341469464663,0.5838090355627035,0.49855030156883456,0.7232531713304076,0.4346797556944863,0.5756483050617166,0.7194604279922666,0.5001836723030157,0.7688191439748694,0.6049201104713254,0.5033509145320731,0.44211734582343404,0.6015125723738244,0.41213981143587486,0.5782014678454086,0.6602000702174604,0.6485417830466577,0.534015644431468,0.6630454919315226,0.5995552522426558,0.5958336076174034,0.42253485613916547,0.3800362705663069,0.4140043032429933,0.39319439894492697,0.71219073567274,0.4228437983224891,0.7930841100598057,0.6308593644448482,0.5283809803499218,0.41465787261110193,0.6538400172849885,0.7362858083067303,0.40342817010399973,0.6995746022947561,0.5871915958232964,0.46666056193659566,0.4212902397209412,0.42751807051368346,0.7433327645992789,0.5863193058533134,0.603438647261948,0.5319935214927437,0.4952756665689341,0.7321673667598746,0.39854896195088424,0.6983838043938972,0.5265103543683406,0.6697528142403891,0.5711049340124341,0.6045461693973178,0.37212995458493886,0.4453619519029928,0.724349945080406,0.5131684617240766,0.38254492301684884,0.7535242596671168,0.5628689092747446,0.7315576109077851,0.7519468382207066,0.4405305888238477,0.44413369567157285,0.7036094709761939,0.6615539786087482,0.4371434061419571,0.45204195192069946,0.5348794996144586,0.44013154730260584,0.5512990499890881,0.47900243682579247,0.49734412190678134,0.6999379914654348,0.6976819204870628,0.6200480834003006,0.44472175252983054,0.7729650582253146,0.44107743147719997,0.47049676829373743,0.5870397877490564,0.3864817347522455,0.6242629309378337,0.4885746433125525,0.6254712189775852,0.43499703257173433,0.7364058911005883,0.6871234791590775,0.5623656618852204,0.5771494782891932,0.6968633629360168,0.7459518749856371,0.7410894394528709,0.46612360153226123,0.7198383345442712,0.3914401537950448,0.5684529946367483,0.7959632558703827,0.648109782337479,0.7015396682055529,0.4360994360440012,0.6706710042219328,0.4023948007740194,0.5849375063309398,0.6296836998426993,0.4087033126211261,0.71445973814095,0.6868642628534054,0.6042519600305315,0.46238852292859467,0.4399812665344179,0.6591461146750774,0.4338012854034911,0.6503291604683331,0.7436430592403275,0.4838001770388379,0.4969645934279372,0.5425691157772434,0.3517949736959488,0.627801484940813,0.7741818702309177,0.4257743046065296,0.7005675528851394,0.6160045637615699,0.6427792525376599,0.5623509906102099,0.6856035392169412,0.5250113754150848,0.5108306595868428,0.4854354489489237,0.8177939938106285,0.38518401099991106,0.841472616713047,0.7337441541204618,0.42637019823071376,0.5531786879588094,0.7354770632405091,0.5532181399076945,0.7868585943808954,0.4619125142723409,0.6374440567198205,0.764347095590881,0.43386890608738166,0.4312244917763728,0.44353700659364803,0.4580965213170148,0.7024908676425092,0.6269999420976242,0.7339086376224083,0.710774438292066,0.4221802033665262,0.5182204197580178,0.6798847996012749,0.7266379216207403,0.4129145571223168,0.43154042623245026,0.5219868399721048,0.6863630025014584,0.5340958028419922,0.7237057036801907,0.7061324705127154,0.7165284796042811,0.3632838196109489,0.6491151562433359,0.4938406713432286,0.7370612715606804,0.42097985729974235,0.6678060358867662,0.6036138452166033,0.7034319884943449,0.4179559615475223,0.7261795184525249,0.4013166744544849,0.6111518829634961,0.4132308186170898,0.6853815349609604,0.43464368721377655,0.6460943815172905,0.5968044582990486,0.8562269846474294,0.6140479069447653,0.450646625229978,0.5659173335132457,0.6912980161307329,0.7392438411269165,0.4373904108859491,0.5772686266408246,0.5762758713242027,0.7299180968438348,0.43218446114988585,0.511226435510834,0.6798512116964208,0.7184691649135528,0.6759040116672611,0.49791178912138956,0.3756242768573578,0.572906414748907,0.620289087911699,0.5845137541053012,0.42757684799369494,0.4213235171951871,0.5864366382568081,0.5129068462144156,0.5017192936838952,0.5357637107032261,0.4724581681022172,0.6711571943837027,0.6436292925113682,0.5049747926831429,0.812708719159679,0.5050906855068108,0.47758826801318416,0.7397124223779605,0.7765213463362024,0.6397806099774046,0.37708673879377547,0.6150732155889447,0.3842846094960361,0.6055825047728605,0.40820289407780913,0.6090369890436167,0.44232907696351914,0.5217910904997841,0.6543569511848296,0.43819463598144165,0.41707123082818714,0.43856188953357306,0.4287295886944954,0.39902988920752047,0.5915294636298255,0.49544480022548215,0.6663681332429849,0.4130395662331778,0.7176124377248306,0.5627312793664875,0.6551463458152857,0.6533871279588028,0.4859568844175274,0.7423116654945797,0.8207948721652744,0.664816051344295,0.7195075337680767,0.4031647746319855,0.4999082903975535,0.43318159138645423,0.5553002421656444,0.6141881506772818,0.7024799372116727,0.7670171834036517,0.6952767406195842,0.6839435837891135,0.802297782665057,0.8072865509382342,0.4041144726725882,0.6572632354791978,0.5095131386124386,0.7680698722154449,0.5866843063222904,0.42657596709137935,0.6692537808750355,0.6970389878195424,0.6307167448557526,0.3777975489090259,0.7391171196332839,0.41484339848013074,0.4871708402779236,0.6409357573085294,0.4160986607472871,0.4524805376406537,0.3566739119391616,0.610703616233762,0.6929439333246531,0.5623074769595301,0.42496397898920013,0.6869771418042019,0.7553869671952927,0.5616810616244972,0.8005669458170411,0.41452262416622765,0.6176524259089383,0.48946009603677126,0.41598634229953846,0.7530389282709946,0.49094695112546916,0.7164833060739798,0.6775727304089102,0.6932477735234794,0.6222057493215031,0.6367698221515296,0.738901840976965,0.41463623925681076,0.696289216077136,0.7824441285851605,0.48986660181050173,0.4327228108202296,0.366618463748927,0.5987017639048946,0.4286636923929344,0.6061666926893904,0.5155311576559154,0.7384356220717693,0.6987397628062635,0.5928894687975751,0.678415909933502,0.4683016150593553,0.8264247035834521,0.5652370526777812,0.7559311447720901,0.4204243642257351,0.4936444330332867,0.7514280406888859,0.4381206565262494,0.639264486133934,0.7820394803231544,0.7389717148490411,0.4270784896184686,0.4423929386129821,0.711866576621753,0.4442910813885972,0.41263666139712873,0.4889458373229984,0.6465069462497254,0.7393799116908776,0.6446334309253839,0.7087561139284213,0.7414840420821198,0.6743857659362683,0.4290772200785695,0.4069973487531517,0.5782944246732831,0.5084638135128756,0.6063741008711236,0.7541958666873304,0.585111893422076,0.422886662184316,0.682981214708359,0.6673198569823993,0.689074348604184,0.5433601661211502,0.6093039442872488,0.7894555861652424,0.6344987227721296,0.632913720650426,0.5122355871091262,0.7637541226251241,0.6941240492350609,0.4299945315329939,0.5843645275763544,0.6951316480354656,0.6759910454880215,0.5216778840582801,0.6179635778499569,0.4229889581643746,0.47482686501410903,0.5878700113279725,0.4912852883049524,0.4130818825332322,0.4518653573428769,0.6337299899543057,0.4193347564671445,0.3629198033015369,0.7449749155426932,0.7406778986761534,0.4289556920394283,0.41730646290982987,0.5871692595618129,0.7030337762257174,0.8142463944725247,0.6629909471575781,0.7783808604238956,0.5242730904310696,0.6020630961155363,0.436010484874915,0.49120980341461795,0.6928640040563372,0.4225280865592177,0.4470863692706963,0.6126371544803576,0.5624024822609435,0.6649828840569916,0.494088417972102,0.3999443353712406,0.7431296539566137,0.5335284875608971,0.5406893920055951,0.7155592718710582,0.6158391628758444,0.5783635748598079,0.6174341581426264,0.7111118144375882,0.5889756813800541,0.4102891194631276,0.5663503985013002,0.7234887437559111,0.7260656108533783,0.45234367105923506,0.5100128784475174,0.45799232175691673,0.4123646334164335,0.6475898832682437,0.6959728033972233,0.578684291277835,0.6861903423752806,0.425868267753897,0.6044242278372326,0.5702263976119054,0.7203031368659591,0.41352737657779226,0.619232154978391,0.6024563298806114,0.7937569721855945,0.369615158551522,0.5891665935296246,0.4460015784050014,0.4202058413006033,0.44783960476136986,0.6160632374356023,0.6082896630285727,0.5458135024849082,0.5402140790844094,0.3678774119119932,0.45605637514467706,0.4267502339863622,0.4734970225291716,0.6779061334287786,0.3712988664426451,0.7210759162649489,0.5934912652553759,0.7096308913728723,0.5020111476196994,0.47202592445313435,0.6626587982812138,0.44187205265829094,0.7788692187341737,0.46498293331737334,0.3755766229684587,0.6451420597159475,0.5287838827920367,0.7834484398156368,0.45728724955213695,0.6447663901227353,0.7726339281443811,0.6397283581366463,0.7078467921101751,0.616497749226112,0.5973037417879513,0.6168000207977318,0.500241976868895,0.4304435519121945,0.5437933983941547,0.7330113837098914,0.6445458919064132,0.5445702261246992,0.6400059081927773,0.6372441811335383,0.687598774900892,0.5740893307423037,0.578892744668464,0.44187983973489425,0.6349534749021815,0.5734330705439138,0.6182994995633859,0.4359639480113679,0.39943511366830203,0.39192061846034804,0.42884258796120694,0.6598722461783472,0.5410428351233753,0.5217997081539177,0.4137682732763386,0.6823872324595347,0.5631763355675171,0.42213837622630895,0.46361046555713453,0.7705504459111553,0.4529648668108802,0.7616878881540899,0.5311157781734425,0.5293648285114306,0.7206858195938841,0.6739225648795152,0.6997092940474123,0.3745185610644543,0.49353330846539134,0.6798061857662343,0.40760478648358534,0.6898194162433078,0.6277140850445708,0.443911574909972,0.7274525110949153,0.40783785996311095,0.6624778167051226,0.4889226435220897,0.829144113743092,0.5780177419640835,0.6196887451458315,0.5744419598065854,0.7150815392963852,0.606029178345332,0.6022773262594069,0.57412400369141,0.6989051066422126,0.7030980373600844,0.5879327964378819,0.5449418697487524,0.5171370132893013,0.4898334570691235,0.6769046601473918,0.4144018572812034],\"colorbar\":{\"title\":{\"text\":\"Ratio de Sharpe\"}},\"colorscale\":[[0.0,\"rgb(103,0,31)\"],[0.1,\"rgb(178,24,43)\"],[0.2,\"rgb(214,96,77)\"],[0.3,\"rgb(244,165,130)\"],[0.4,\"rgb(253,219,199)\"],[0.5,\"rgb(247,247,247)\"],[0.6,\"rgb(209,229,240)\"],[0.7,\"rgb(146,197,222)\"],[0.8,\"rgb(67,147,195)\"],[0.9,\"rgb(33,102,172)\"],[1.0,\"rgb(5,48,97)\"]],\"line\":{\"width\":1},\"showscale\":true,\"size\":7},\"mode\":\"markers\",\"x\":[0.23120105365810054,0.2397394071019552,0.232816011371145,0.25320552822018616,0.21458666844716526,0.21801344618355134,0.22613452536016312,0.25486857372765515,0.22581047730345188,0.22941564189516714,0.24679058757700287,0.21776979648489572,0.2561922960754314,0.29356509380545304,0.22829738484602358,0.21793815991353618,0.23383244932862152,0.23126664630157293,0.22651053251544362,0.23024290318527524,0.250298456005316,0.27573434577924866,0.22390075213947658,0.2287313054900808,0.2176901009345328,0.2673539776513694,0.2449208500154227,0.2211318865187496,0.22241745571130173,0.21114335046431795,0.255377224299726,0.26130208064106397,0.28620851574095635,0.23087958706890815,0.2581157589501445,0.25431129812228237,0.22417569265820628,0.2252108906765802,0.21250853049230917,0.23885331557761513,0.2735421880988549,0.26272816713229385,0.23950957183913485,0.26164146967304297,0.25652792189781326,0.2687084196316937,0.24257242553597758,0.2223633430582951,0.2527202734809326,0.228741171623143,0.2386374546901238,0.23600795083279483,0.22204687976664653,0.2598356751724911,0.23950601538035549,0.22975668486662978,0.26729222348994663,0.24212335567651533,0.23918922380936,0.23337660709442629,0.26233130918574266,0.24378356813734642,0.2380228116990408,0.2391967954451457,0.2608784236595429,0.2695422601845296,0.21641612301250468,0.22812934718660072,0.23167919977620924,0.2463851658481991,0.24313316368557847,0.22951374620553974,0.22039028247199705,0.21557842722336126,0.21880496366308266,0.24984584620924521,0.2206675255582136,0.2529608743846752,0.23712586173047973,0.24598420320585457,0.22241998492702092,0.25293394919912127,0.26744272423060805,0.23520032197209606,0.23149213959741366,0.2172223648752181,0.25340223028966274,0.216336647782815,0.260847323335659,0.23810349221605534,0.2313722969751801,0.23390805379952348,0.22482605928512797,0.20815670775900336,0.23377998926855784,0.22047302718963252,0.22967775898507922,0.23781055771050838,0.2457349338614188,0.22629987112272645,0.21566021017390383,0.21569838722239748,0.24549686303678037,0.251966897240722,0.2226898794428447,0.24892640452675774,0.24287309018619788,0.2180633735643067,0.2279061539371542,0.24324831743797853,0.24520067373587115,0.25769992745611464,0.2674282585496327,0.24709733220201183,0.22372100180318447,0.23977178034684438,0.22818895939919684,0.24190822469288709,0.2627315276542956,0.26519645849738355,0.2664820438165385,0.22949849238968137,0.253855462625701,0.28424891142355113,0.26803937257349997,0.22986287971474095,0.25950082156737914,0.252322291136993,0.2196344065764129,0.28087665909881493,0.2545758889922598,0.24699583512759332,0.22939337271959567,0.20880956505819237,0.26545066468175094,0.23470652822938012,0.2896548555837605,0.2187839954774913,0.22444109940185092,0.23240685244169598,0.21750460915526493,0.21247755906764773,0.22732009371189799,0.24031469690419355,0.23478503165394043,0.23687315623391292,0.2520157532954203,0.21962206540690574,0.22091459475800881,0.22298229240663128,0.250975565297318,0.2282996871437181,0.2551087811673368,0.2429096163120825,0.23113338023159494,0.2373918716368404,0.23426375052370016,0.23654884994277703,0.24669850024149875,0.2449622412049136,0.2507361858950081,0.24922079795387517,0.27086760826258743,0.2231492371854309,0.2506161902976623,0.23425599552236517,0.23794419285642077,0.2337342760121819,0.23332770528867716,0.24347994184085459,0.2483433677478066,0.27653510831561307,0.2233179766590268,0.21076349196723537,0.23179240571785822,0.22901250637900655,0.224866129550065,0.25507551762762914,0.2563762394476199,0.27890890989138956,0.2603926221304485,0.2415188557012163,0.2361483472527866,0.2405736336088703,0.2506214275104118,0.23795880608018044,0.22958936760821233,0.29666071612960965,0.26006847639584596,0.23811062711684478,0.25541989217825106,0.23599901330476802,0.23392075171707674,0.20748400200357814,0.22566093665486492,0.23882248438312353,0.23458198133983216,0.2386957872717082,0.2674770634545928,0.25497784744786695,0.23307598816175032,0.2461811925065585,0.23554511179164855,0.24750934191221272,0.248139440335341,0.23012929560175116,0.254486092115529,0.25184500724157455,0.21874769024361274,0.2467176159241579,0.2639251450222089,0.23153513358540506,0.24153737264371658,0.21871840635893455,0.23064586865709982,0.2287294274677983,0.2268816089482723,0.2565751917827331,0.23638395508496512,0.24078117243571484,0.22459449838613815,0.2391793518463119,0.25929843165537836,0.25384617364941114,0.26595968952522364,0.2755503358011913,0.22560860796081156,0.22494095198246927,0.2541781394597425,0.26370099556534465,0.2545668659912532,0.23494537882490432,0.21851326735340426,0.22483242878112483,0.25037116228586587,0.23912921510165752,0.24543897344618087,0.24265274448954252,0.3002513872806471,0.26387819868565426,0.2270084313083651,0.24685688652411844,0.238850769266049,0.24244319898425998,0.22079124939662131,0.23051264848492042,0.24406335123195347,0.22110651622050856,0.25946409190853853,0.23508064494885583,0.2798586357010013,0.2559146982111057,0.22706371002755976,0.2608995820468255,0.24611160950312075,0.23553035427215124,0.22927902249773763,0.20988883252853113,0.2578089722995908,0.2629068387292442,0.21934465899910244,0.23557243660547994,0.24491427649139882,0.2836112356914294,0.2807316765603924,0.2448546606959977,0.23165032774885805,0.22878819076205079,0.27885874418134377,0.24822193203900714,0.2270597288452836,0.21767173219086525,0.22198756736452643,0.24395015801418699,0.2824735230462834,0.2280110431524088,0.2439174288740695,0.23212963176840123,0.2393601203237541,0.22122086106877045,0.2217921267598181,0.22912689612060166,0.26718266892069065,0.2580493077269344,0.21436637006568474,0.23339844213777772,0.2740035070804924,0.2233748062582248,0.2357165349731242,0.21849774609442768,0.23581055277660354,0.24858225170756207,0.23057759850759357,0.2546937084143042,0.21832160755762922,0.23554839489057905,0.2355665313238232,0.23736364418994965,0.2390807567119624,0.2336024337889523,0.2314068684501298,0.25455783949503435,0.263787984871717,0.24518811789366873,0.25097763158372244,0.2610676482499751,0.2495934468798565,0.2393587306663034,0.21967129627286874,0.23674174088216043,0.22837577383148533,0.26629634223551263,0.26458662146788603,0.26342887066247545,0.20613546427808696,0.23145856044571225,0.24059364463817215,0.24024759400691087,0.279391316111027,0.22333349021391768,0.2491318077802861,0.21093353118704058,0.28290027734367024,0.2542268210496258,0.221841629446034,0.25648878096237,0.2809736941186792,0.26835074937437015,0.2571239483753753,0.24374716910579897,0.2186925600457331,0.21879116776895993,0.24568131890911876,0.25701886939963153,0.22071617438958438,0.26346917193156166,0.24715204893453405,0.23082358134986683,0.24314591587631146,0.24095028012380945,0.23583574763193452,0.21728694067694945,0.23957655317552423,0.2274276540713321,0.23939848556562818,0.22404081403074202,0.2434822626316351,0.26627268404362026,0.24990789643452493,0.22116685383305335,0.2436483853570449,0.25651395005837646,0.22165159794282693,0.24099906574308658,0.21255240236433734,0.2467409043813922,0.24546968981448167,0.22625247663582465,0.22932551628606557,0.25003183518683797,0.23192954528490017,0.24494094995685786,0.2554327229372028,0.2512702972757922,0.25854665102104357,0.2744228017765478,0.21531873212785124,0.22592446498097354,0.23416494071199842,0.21234927410641816,0.27720571621484535,0.22614847970687396,0.24680381115448813,0.2337635250041142,0.21433087416601734,0.23520556516895302,0.24603958782306118,0.25894933816837273,0.24139394517517182,0.2201393994459191,0.25677877752084277,0.23874808762755756,0.24967574537236772,0.267660778844196,0.24062115166118708,0.24587590940770687,0.25268269922760533,0.25465907271444893,0.2661637293080192,0.22232800904613906,0.22442705876915023,0.25674416858085264,0.2903348180726082,0.2298979368823184,0.22607297676799362,0.2321967504230285,0.23644717787348146,0.23483154424303757,0.2162902479323572,0.22301652231048708,0.2969749133685297,0.2267128871972402,0.2293336055175307,0.2384952743660975,0.2561288272563875,0.23919579986421755,0.24832157260149965,0.24403887664086255,0.23660347254371134,0.2300900438197105,0.22471171633970316,0.24308816142052844,0.21013008858650065,0.24965349989224708,0.2435263369378122,0.24671974229967827,0.25315408081437324,0.23226448163184193,0.283753580351754,0.24712232319687902,0.22744184936045478,0.24936455530999216,0.24386876052663553,0.26405264710773396,0.24882091715027446,0.23523902681198625,0.23857649865634573,0.2651817313198772,0.24996330898417918,0.25381994204416586,0.22567078612354002,0.2521556791653109,0.22805947307838867,0.2388301188226066,0.2587281701026129,0.26742011217866585,0.22673613006544105,0.2575912127259732,0.22691460753253614,0.24350787770806212,0.21231551786748706,0.23593636836829562,0.23824546124665139,0.23994607877074614,0.24712307467862907,0.2527551145865267,0.2621087629573487,0.23417333447250585,0.21962020669411741,0.21973924990076646,0.22326278359803814,0.22485015775145378,0.21934435654576015,0.2765327146366231,0.24345179550362323,0.23006801116639583,0.2414138068698485,0.23928553978142367,0.250909904543744,0.26493750507350944,0.26496233320185164,0.2502655224587139,0.2409805016269535,0.22108842565071232,0.23969593489307386,0.2209952972269124,0.23560088094091186,0.23608062118919163,0.23966899615215947,0.2416801257396475,0.23982430992237141,0.23178849485229538,0.2495268091303075,0.23502496151508706,0.2460401597757325,0.23097338419140948,0.25669056065991913,0.22720927433847316,0.2361455382885824,0.2398021944400579,0.24828847853695213,0.22616189314453405,0.2319389837559496,0.23090127287664142,0.2704513753649109,0.2299081001763661,0.21369701620846424,0.2348004753353251,0.2208969522440927,0.23893364056618305,0.24972043915595682,0.2459746882822006,0.26125884101588415,0.2824890688368353,0.24398358806314402,0.22398129599156982,0.2345037209470851,0.2171625007974216,0.2250389652655155,0.25057861773348805,0.21880760955315345,0.25299268719649637,0.24501557523959785,0.23499520185408423,0.25171093217510226,0.24257575736035664,0.21423277171021315,0.23956392457475711,0.2744970777338923,0.24026233179972395,0.2352380020517722,0.2387462550697052,0.228859822402002,0.23053404590825965,0.22308482017172535,0.21861367681445085,0.22370761387879148,0.28142839290918764,0.2514701102619628,0.2155122299261733,0.24448963562245873,0.254972513458634,0.23772033839120207,0.24167650499988177,0.2182738103477518,0.22997719569668798,0.2141803700243678,0.24000340146463833,0.2140037693791706,0.2642553798317765,0.2302305190145381,0.2530421096872133,0.26781416201916375,0.23792559587637502,0.22292513939870828,0.2630133871418972,0.2164959578779755,0.2447846304977244,0.2555233462361431,0.2403238406568222,0.24459145762366313,0.2601838601353794,0.2314579074991489,0.25851057853051923,0.22747375985496562,0.23920524271322235,0.23448201812097202,0.21862434022368624,0.24439433711061653,0.2296382775659932,0.23434668789626156,0.25041756808541427,0.2516150286086164,0.22268161868915332,0.24111980236623168,0.23040731469677483,0.2204055194756557,0.21837816689868841,0.23726087684165972,0.24331738014723636,0.2512515865260039,0.2637811462970506,0.23327306311536636,0.22840375915027147,0.2597709880801064,0.25231693973605784,0.22235832113113932,0.2340262768196115,0.2596190586635513,0.22063393043536955,0.20982838661367073,0.23385595338944534,0.28942262748778447,0.23910823342699658,0.30340220866611056,0.24192388893945452,0.2245130868723178,0.2564570883152683,0.25528094761161346,0.24363712518000685,0.24810442115106104,0.2450899001360998,0.24549793102975837,0.24086925602919038,0.24641068305499864,0.23154174148724382,0.25916095208419254,0.2125179130166848,0.2561798307707817,0.23342182565801892,0.23480678622000162,0.22334184691430511,0.2523576667923319,0.21310646664544086,0.23506914188731218,0.23720737758171634,0.25112289133123955,0.2531500501623156,0.24792379136720133,0.21538875131454033,0.23976806022420383,0.258414213482674,0.24096382326125163,0.2544005457133599,0.24844369755428075,0.2538143329573275,0.282772739189459,0.23851637500278822,0.2437006067735527,0.25598412297761036,0.23690458481262305,0.2492376723720063,0.2170356386248725,0.25335112078740646,0.21790006974361087,0.22733971565252142,0.22184976244642526,0.2707985888196745,0.22139154290342838,0.22363925720834732,0.23346611427138728,0.2584817492105398,0.2768084293663067,0.27746784155190823,0.23403499297897074,0.24184974359761632,0.21412802356947672,0.2774837367124067,0.22940786272227243,0.28842085091619174,0.24095071045372873,0.2621288089473854,0.25923192394596006,0.2183593381762367,0.2192750561657615,0.23067707354388695,0.2127095407562142,0.24373271912665334,0.26388445238013153,0.2451988081752994,0.2495130108185343,0.22041077174289353,0.26601390376761647,0.2700102619454227,0.23469202254532398,0.23541407817718124,0.2471783137632962,0.2377363222107719,0.2525617157471239,0.2419133328560674,0.22510845670778426,0.26691242808055093,0.27238223864853045,0.22763557203487408,0.2456462970889242,0.2596390066352252,0.2321529172548766,0.2614231266538848,0.26084116685271935,0.28149134072356835,0.28542185679491644,0.2516230247045672,0.2237879401666681,0.21899572551759094,0.23078577253396979,0.21204627932310757,0.2354100728806368,0.2472210206445261,0.21461822794549498,0.238145471757922,0.28726348873798535,0.2503836371983906,0.24097525895878197,0.25769736208659216,0.2371216590111006,0.24212702175273418,0.24544540939599419,0.24143070281663143,0.22091584978405573,0.22994424886720052,0.23007429001699856,0.2105982250365658,0.2617800964168238,0.2643071761884161,0.2535887192598635,0.23781429786704505,0.20641772067887754,0.25294847999850645,0.22471746402520848,0.24185983957186447,0.24904417935115683,0.23041832259154027,0.22684943859953796,0.24549039779171414,0.2496791569476221,0.2301597601541312,0.2725917667580678,0.24074675305348212,0.2389216257096588,0.25976846459152536,0.27392139057287146,0.24212098967134915,0.2364132848940081,0.2478494492396343,0.2661074768909417,0.22142009446300612,0.23850085012066133,0.24549008890351617,0.2226663144063617,0.23661599463110072,0.22627225639962176,0.2335473977212959,0.23833318598585523,0.23849538899966932,0.21949437319116272,0.23112004119417615,0.2234238943353842,0.24782474918970912,0.25271559349809103,0.21812452417774852,0.25128149839152364,0.21884942062784477,0.24463849059702494,0.22164468789454778,0.26780849232807674,0.2455026100504057,0.22074229666750966,0.2559525864817551,0.25720587833967173,0.2413804320690852,0.28564721611118077,0.2216169599558727,0.24520807911882384,0.23548580694935614,0.23372638646802268,0.24363307254121477,0.2279641328039804,0.21707658204034713,0.23625793244933765,0.24754389214296377,0.2336871099384292,0.25432209717401527,0.263822167874064,0.25492696793130787,0.23095930633811268,0.24431168492210242,0.2351832334406994,0.2589576470485947,0.21366589287189172,0.22068453891670947,0.25440312912022134,0.27022421493083104,0.22223663334179408,0.2305995354325361,0.2513580855703832,0.2303139650549866,0.2434820165072869,0.24854109285242895,0.23412146266740383,0.21747737484990445,0.22298935333070483,0.22406530561451993,0.23016881516014623,0.22548645718518393,0.24800915342726523,0.24654984504991292,0.23761991413471853,0.2131119819778491,0.2536820837525904,0.23318836296708664,0.24625531998224448,0.24206204055156424,0.2370741459036407,0.24053480899831794,0.2346593410781827,0.2583764015281191,0.22854660610909877,0.2533092840592814,0.2301709043484708,0.23862456198956603,0.24465802846317883,0.2504128763482425,0.2336352311420186,0.2565977232292485,0.21418952428903423,0.22589038067015393,0.2246138109429678,0.24809952251861545,0.2304677344093731,0.2307005206704011,0.21689530003059315,0.2294135600292994,0.23383684844934818,0.2620021227956395,0.2683865698936446,0.29609691045307823,0.2695360809148351,0.2366308226688832,0.28790325485159174,0.24842131709757148,0.2546545429887406,0.25240460956419686,0.26695416400498034,0.21683674867615912,0.24544987138453744,0.2523338766664454,0.24605059818001263,0.23302826263470486,0.25024692466324283,0.22768119773093826,0.21338704126068664,0.2342220017097453,0.23301259269931288,0.23959410092467118,0.2573292995546099,0.22951352728755106,0.24724022952638894,0.2503377106515249,0.25306228832271205,0.2238442853202031,0.2373202526003944,0.25298669096474646,0.22984049218696664,0.24987050127921087,0.2385618265099883,0.21582667285534973,0.25065545034955194,0.24221426482323494,0.2540220073813281,0.2240227893779382,0.21605318192123185,0.2733333665764702,0.24927402535922466,0.2276485826763257,0.23195231501149718,0.24620308378421063,0.23916882346926208,0.25681259383588195,0.24440576279066176,0.24926080411963308,0.25079213824414265,0.21178692931511192,0.23745857347712368,0.2420512592616603,0.2347876988241369,0.2312937666925455,0.23252061732006704,0.21710108686619567,0.24577667011163823,0.23003851268900954,0.23756755230001014,0.2447057578064932,0.2449433668377222,0.2408579347504936,0.22598646524887903,0.2345908656411106,0.2573499073118621,0.22321037743096983,0.2568216972626759,0.24665102704526934,0.24298892208526485,0.23511704684900767,0.23696982530065142,0.23805908345654583,0.27272301828837514,0.22681781538345805,0.2308599525344123,0.23784467817923396,0.24849403434921782,0.23399758460560036,0.22101521638315652,0.24099779117255227,0.22200406247262774,0.25533135850922295,0.2519340381887425,0.2745877538580657,0.24850081751256933,0.22323824478404214,0.24905671172844496,0.23769168815088143,0.27981518839840763,0.22799524077179822,0.23100186852442395,0.2407564674556272,0.23513051708012508,0.23665079167041292,0.2525215088053934,0.24857940670123824,0.2511141729827863,0.22779422246314585,0.23464717438525842,0.2626731260150575,0.21658051586279162,0.2531701224537854,0.2180922123089388,0.21643579190200504,0.23891043475746027,0.23083852979827377,0.22632311327381557,0.21567297755517734,0.23718937967509746,0.25791629769744806,0.21627677127158848,0.2614908733327476,0.3023054680644959,0.2256297626181611,0.24157475616178756,0.23425525242537698,0.2426775919842459,0.21745122456411495,0.26177744879173875,0.2175148845233368,0.24021405830083073,0.2236825646643587,0.2356962170364603,0.24740778037275868,0.25532760208033206,0.2468585922810516,0.21321205117466496,0.24260980986536992,0.23632401918724755,0.2183040527716282,0.24551177641921604,0.22632360817310648,0.24756774290356914,0.2494752779532351,0.27908791911340886,0.23111356319843482,0.22831963605190045,0.23838325489947576,0.24473306008198098,0.22058866868803395,0.2761038551014707,0.23632677958698878,0.25518845139853513,0.23176968535743953,0.2368921918528316,0.24023384883194718,0.25685524127933507,0.21880099474158174,0.23388290829893382,0.2514164563782522,0.2414930568559417,0.28594964468728207,0.26070953220954807,0.23125388770260838,0.22632834951159816,0.23560925293929735,0.22675184877640717,0.2431471647098377,0.25535456756530606,0.20980396728276296,0.2657250896761264,0.24073489542433216,0.24200792405866733,0.21495602862910984,0.21931750397791913,0.2540003016388462,0.22435321404712721,0.20776417022378157,0.2178796531353896,0.25697394776920324,0.2313403941863626,0.2196442997827722,0.208469509463662,0.23974956468199862,0.278456074590325,0.26412191110619737,0.22885984994015615,0.28568158911961994,0.25783013755974016,0.22440328617031577,0.23673249834862936,0.2176351913359799,0.24666367140398565,0.22672786170643827,0.23204990559892807,0.25953788070129863,0.24252380376264435,0.24304744756844496,0.257444884818687,0.22812631482816423,0.2227020691200368,0.2667621522270044,0.29600349020689,0.22866560608480796,0.22001441446755865,0.21900517377600184,0.23754513216936607,0.2576294366580994,0.2441325603179173,0.24457941882631418,0.26647661710969317,0.2320381227721663,0.21661490840829828,0.27263391173519036,0.25786598606669425,0.20680620945314654,0.23034570281518288,0.25383992302148883],\"y\":[0.10510598789736558,0.17495653484320378,0.16070976667666276,0.16364855005436757,0.13931204261960917,0.1334230583923173,0.12087258968338299,0.1795337555514782,0.09864212148710111,0.13800951881205392,0.12968388635178785,0.09350833556377575,0.18944389870821912,0.24249687505888634,0.08804157179435934,0.13621879478115165,0.1482298812089965,0.16730888748354805,0.13363147954605523,0.1371159918940322,0.1849753665610137,0.19183595939261872,0.10023896131600295,0.12432953422303201,0.09543065530470388,0.09622011022560831,0.18909726898227308,0.08416499899200608,0.09450966914230209,0.07493492124575495,0.15453259721400003,0.14559994583106867,0.1287062954616987,0.14871429381631876,0.17920155058078327,0.18334097076688882,0.12373403758274025,0.13830850421604046,0.08758929772269841,0.1707024957009693,0.1834514885197425,0.2011054512376674,0.12111864606860112,0.16497098069909905,0.15721566868425368,0.21097868708210105,0.1594718429436722,0.09674992377740274,0.1403860992611802,0.16653140884870454,0.11360729973008442,0.10419950494011684,0.09822196944817128,0.1805704575303885,0.15663357567207284,0.14824821310309821,0.2085533243110397,0.11673174579796143,0.17421016479523757,0.09258580996467157,0.19285073138987077,0.17328594308359158,0.14513542453099085,0.16577155365929233,0.17791953614277967,0.13723953425698193,0.11452393825049505,0.11971440035298452,0.09700325424782001,0.10586417658706847,0.12716613792136597,0.13534987546333285,0.13269853102102613,0.07814779539396723,0.10073756399850929,0.11893548086991118,0.13815270965045584,0.140656619327707,0.12607887955494232,0.18219185986487238,0.09981164307153167,0.15783862216805977,0.21793109631602312,0.12460894797616756,0.0987319988049907,0.10942308959004007,0.11729077493295598,0.0927393414427937,0.10943916249195473,0.16205773639095722,0.14108587812447648,0.17498730937436663,0.11955679888529477,0.09245201398358613,0.12733965023588104,0.13841743051147468,0.12064773568254054,0.08953706966577665,0.08891530169707994,0.09430213233127811,0.14647153983469685,0.09080319703506988,0.17950645524511252,0.16306947514714012,0.09113649475321815,0.1798481982283804,0.1265809538069394,0.09410441462401563,0.09226699425675824,0.14186771601245546,0.10703058650270592,0.098932468788361,0.18012750767517471,0.1584282663073705,0.09522514080126127,0.11988601627176268,0.14927936449990828,0.1626498877990814,0.18295223726270837,0.11891109152948337,0.18668655309215376,0.12654838641565153,0.16765711505151673,0.22949862731857223,0.18691433502020915,0.1632174898540821,0.13002467292543066,0.16772384698458145,0.13693786066998911,0.2051103772704928,0.15075027339050512,0.15796405640202005,0.11832129575260719,0.09614437269954555,0.18635901208818867,0.16951440017085245,0.207802306065148,0.1203038337652391,0.11127253932567396,0.11229882804818998,0.0939303980349826,0.06799078989814467,0.1352809789204657,0.15712490533884457,0.10445641629218205,0.157224933285042,0.16646640925847506,0.10139074607547277,0.106441435797881,0.0886052661576888,0.12394474799519181,0.13747598255188834,0.17919892888921685,0.18610079455703535,0.1042102392451911,0.13683515373638105,0.15965454846527113,0.1017278804412766,0.11208650328907685,0.15384958489187142,0.17879059185147908,0.12153535864723067,0.1746788110828442,0.12477427266986947,0.14758093227155902,0.15127708743069165,0.10129457093562046,0.10185849576240191,0.16074054691377784,0.10497742896918402,0.09645400779937958,0.18398984403499571,0.1045840352440069,0.12829851161123132,0.13141915900542583,0.1255759720326236,0.14802328995710592,0.1266323034165892,0.14370500294082078,0.19926590937739574,0.2037782397959904,0.17035082233078555,0.13468882584761815,0.1475974204194614,0.12461604767293895,0.12794906638602527,0.14756941687287664,0.22211441393151643,0.11607438218721194,0.1483947464538632,0.09875283304275156,0.13554753524691948,0.16276910492732194,0.09776720961822435,0.09506153050794725,0.15575410710109752,0.16551959605188107,0.1314198631968071,0.1266324038751922,0.20158586617935864,0.17517937753723206,0.10871737248880033,0.1597571571297931,0.16906895208554398,0.16347513510734032,0.17429180279614534,0.10558162171197662,0.2041563077463039,0.11926655587128553,0.14047218854233734,0.20206876849083505,0.09218303252318823,0.17345719074674254,0.0916226140291474,0.1668625867481146,0.15488275373692748,0.15691736320241195,0.10475083347691462,0.16018394953738269,0.12317290691505162,0.14547524916765592,0.17096344625733226,0.13171448021169146,0.10865192350668512,0.15553034579968134,0.21370072046196958,0.09086568319918342,0.0928693626635313,0.12131181157524074,0.20057889403886234,0.19642755881440035,0.15175663071467418,0.0831181681064164,0.1001615120608369,0.19447544608785783,0.10822868951434267,0.14420604956020264,0.1676301898340338,0.25283753420278926,0.19867413282216587,0.12323808298790023,0.17819988290694241,0.10287341544097253,0.14685322737821327,0.11332137610238506,0.10727313483184174,0.1121740536609199,0.09868535222558701,0.15931995160760523,0.1462598492525286,0.11288295290161109,0.15021427885993038,0.1226773269577036,0.10960777440428,0.17188998604858327,0.10378143859838354,0.14216103603728597,0.0734011965544275,0.17013513998878022,0.15579729715039883,0.14964230777992296,0.1036719367493564,0.13885477302056376,0.21251142394525335,0.18300820739864948,0.09174933014411622,0.1725246016486703,0.09644983122603383,0.22412773020615362,0.18531547812360652,0.09668182605906876,0.09724493611225543,0.08397658204480016,0.1649767279089862,0.23246498036479096,0.0974926624645764,0.16369844228391459,0.15920352637616836,0.15973696709504445,0.12409609148758918,0.13870704386673902,0.08544688858639461,0.1824089571757354,0.1667440927601618,0.11187788143907167,0.15058145776369675,0.18490775743402407,0.12101168896625833,0.09799608215693549,0.14227265782783283,0.12063706721812839,0.17020050190959576,0.12403228203222312,0.17040270762382043,0.1118887472515209,0.1642802892478422,0.11197626652472284,0.11226580199836485,0.09557878351970736,0.12950819029334354,0.10532805205222429,0.14307740749166542,0.20207543933116598,0.16091510909483875,0.15447529813096342,0.1631315497837375,0.1732701922725487,0.12213560153612227,0.13329745647698732,0.09685913521387066,0.15604481718062063,0.1923673260377976,0.18235004329282892,0.14613654035498785,0.10008164779194892,0.17189036443869013,0.13317890996206722,0.12351577755049775,0.21420187392553863,0.13479995519603152,0.13603746987667273,0.08536285923701807,0.10657876811234783,0.18926129561844351,0.09773678708059735,0.15061445117066655,0.21018429558436316,0.19548503694662273,0.16925494150961484,0.17457337417750676,0.13711821298192528,0.13348190175628938,0.14230082029977237,0.18854365912066962,0.10877653343611468,0.1965869956631269,0.09513408248267155,0.13139270110393553,0.19557773529832312,0.09492580566638563,0.17032920321191733,0.09736305118791927,0.16446208907585116,0.09713746051445343,0.161628527619592,0.094294550282514,0.09421099377640271,0.13702355204745031,0.16176387921259275,0.13047355273719044,0.1532538423034069,0.10360690187527423,0.13690827410193948,0.15282290986177927,0.13888959831898878,0.18185950380314694,0.18488372548925006,0.14451850363190316,0.14105162491557,0.1615104284389808,0.13948005964646923,0.1322049308926922,0.11107843635936099,0.1892437066455536,0.11323139075774355,0.11889623910109114,0.07988024201114663,0.15466843641030567,0.09939114313237378,0.0904698417493776,0.1778175554025142,0.12193538220354659,0.16141401955697748,0.14983682615420332,0.07978905492404298,0.16687866500202617,0.18953121759207128,0.18920736298822732,0.09952539920325969,0.14308902254103106,0.17654660159027466,0.17299553639582485,0.16298056231706548,0.214537705012548,0.15381118901049162,0.16155420818273716,0.10895544940519009,0.16503171084926757,0.19405598302035293,0.15673013424580534,0.08756122836560504,0.17126467751168487,0.14279989373726942,0.11427111927722605,0.1591385836912818,0.14923263895858785,0.10109642356138172,0.12430486008915426,0.09336869883824495,0.140090697015611,0.20812482037785018,0.15443936219206902,0.10506875975147054,0.13434328303607262,0.19401703055455335,0.1076849395510309,0.17020027230359852,0.17078972374343718,0.10021626006384537,0.15223414932840487,0.1600171748487792,0.13524431907582968,0.0821907909978688,0.1753261219569909,0.16786826207141808,0.14588416453266506,0.19119140356912548,0.13626338586061457,0.12866132807464503,0.1596734435204432,0.14985208052150106,0.09764910844563471,0.17301195907363712,0.15859207408439932,0.12692403092809976,0.1642871695763114,0.16126322385689962,0.17861791283412407,0.172748077448833,0.17068152533471329,0.13941717115158445,0.13504979771029396,0.14932896841049614,0.14992588619426483,0.1811352674702325,0.22376529191510106,0.12160605238376024,0.1252533131278526,0.1523978957515063,0.10268058176181902,0.08241882600875901,0.14673538025203878,0.13272052420038613,0.1603295659842693,0.09120686717055454,0.1774983142280556,0.17323219686076607,0.09759178122227467,0.0931216518693961,0.0933793176468282,0.10573436892252105,0.10185682866734472,0.08473368866656637,0.1283971312873809,0.12022563960744681,0.09781765292194543,0.16842253754585726,0.1519160040339666,0.18885360566309825,0.1362684959458575,0.18365580094519873,0.17931749895878663,0.160164369330736,0.09687927494039887,0.11419927835617164,0.13896036345097282,0.09750854877017333,0.15191404306341263,0.12737432267545296,0.15355760116352526,0.1571874162794964,0.11525299939864987,0.1613430410316171,0.12417756327614693,0.1042775264956331,0.10247410355014064,0.1556085193620333,0.1409098208664411,0.1395511110601568,0.1464851181585526,0.1620026243378971,0.14546277603228377,0.14041145462657614,0.1523439555420841,0.20482208964707305,0.0918180624234702,0.08650684695199154,0.12837192472934766,0.09439181271103238,0.14135677929524174,0.17456704557191674,0.15622867065644355,0.18958698044269887,0.2251816829089523,0.14243982324027205,0.11166594266237553,0.16960555986376022,0.09439614279262691,0.1295432989279365,0.1802813995602459,0.10944399367414072,0.19450562120231224,0.1482148488411329,0.11828504976390243,0.11128576924799864,0.1459123678053568,0.08829385413603208,0.13851621283193133,0.1812229899944034,0.15582016106434066,0.12562077326044813,0.15829962813950146,0.13721410854844174,0.13735993225215445,0.09426111239809157,0.08308112643135182,0.09261591481404165,0.11065606779596478,0.17909468282717236,0.09112800988693272,0.19390084508648386,0.16085179779141934,0.1256069054482585,0.10021306542333731,0.14271615193063436,0.169328945425651,0.08640639475112825,0.16790028412901303,0.12566121485395587,0.12331756404706534,0.09699387054671146,0.10818007449218928,0.19907504145254418,0.13950037021897216,0.13452164455943771,0.1399214180253522,0.10722517984749419,0.17922331833480776,0.1018385643966312,0.16783827812446425,0.12877993502890384,0.17425887254559816,0.13218675298895752,0.1562815799993099,0.08464979992409365,0.10653291380018987,0.16984703694826883,0.11219111636803024,0.0934918128757346,0.1730380130941469,0.13190646460831776,0.18319487783790328,0.18920112521106175,0.09809806460138024,0.10708942892451373,0.16211676880284315,0.14581014831644798,0.09546257570512945,0.10725186988192054,0.13014547854065478,0.11058374953992464,0.14542229535859663,0.11173836567807738,0.11359526703479975,0.1818235836377811,0.17603696708647132,0.1378728508454715,0.10407657596524889,0.20067646079627327,0.09731664733315201,0.09872357779802099,0.13728274924159323,0.11185655914803187,0.14926640661050458,0.1482346258792856,0.15131642971475856,0.09766252656297825,0.18885651064986744,0.17540953288591804,0.13701315316166685,0.14319333722857713,0.17079417203049502,0.18312964195674286,0.17850566193210274,0.1148578350416205,0.16667262156965776,0.10144600294150657,0.12080644406828644,0.20390973218863506,0.1512829686200356,0.16472627489719213,0.0973992534843541,0.16924896981071716,0.08575293418944739,0.13750075767091824,0.1493656191456393,0.10263475756207267,0.18086551854933638,0.1702899922012542,0.13014907515033972,0.11086599921252394,0.11369741293860236,0.15883036787990606,0.11035928373780513,0.16157018125412387,0.18874726703943012,0.1368055012816174,0.11853419332916605,0.1322244227315042,0.09005392780948897,0.14872905013465154,0.19295528732896056,0.09240819811033914,0.1774895747107407,0.13422743740602866,0.14612925249925185,0.12475743367838699,0.18566047090972204,0.1162330784449967,0.11424178926925165,0.1133327279956916,0.2113848220140446,0.10662218110189957,0.23348159068440533,0.1717218079579431,0.10311752311976297,0.11845105913337614,0.20408292377424353,0.12691259109541528,0.22694642534205645,0.11129814848138866,0.16709245135855613,0.19814316815253072,0.09473932718848846,0.09455677465431611,0.10231381868943841,0.09744150067136151,0.1712200093321507,0.16545553636280574,0.17995352325457223,0.1773474701111059,0.09305306443858777,0.13785383687192315,0.18357587283305146,0.17053612348330213,0.09720589983088926,0.10666743487683117,0.12409523157739094,0.17334901753711582,0.1292048957299434,0.16291227406606876,0.18847553225106692,0.19516963133004198,0.08269632008815236,0.15945273451547395,0.1282203013436286,0.17111092438840075,0.11005387055360488,0.1741913056319931,0.16991207056933014,0.20077486428499622,0.10516734323789334,0.1625102186257135,0.08788663628446677,0.14104515944532073,0.08762405758939583,0.16134571709620243,0.10745305596969,0.13866363124678144,0.142126279268858,0.24596275076142599,0.1537475483548892,0.10859468721369511,0.14583540400544162,0.16392173245600197,0.1789909096011117,0.1073554684657839,0.13937037024388588,0.1273084738236334,0.16784046851333212,0.09943453305543908,0.10766337991035202,0.17797151574698356,0.18989655615675058,0.17140163266130456,0.11841054252962746,0.07753550706054745,0.14491580679212995,0.1393897907980266,0.14137040279545637,0.10648552521814408,0.097080658100483,0.13303282216275725,0.12591370570727045,0.12526885027135137,0.12331124715474186,0.12878820676226357,0.16157891533636118,0.15377695692117363,0.13117652655272388,0.22261830248291653,0.12229305664868921,0.1129082112678368,0.18333731648209325,0.20663813622548394,0.1416602830967966,0.08993550777154322,0.1509943783771016,0.08556723767957031,0.14329050669802368,0.09236498991184167,0.14223900390715008,0.10542169816689809,0.12444476910530766,0.14362766884359443,0.10127556231909782,0.09318367860688552,0.10868649027782266,0.10834665245712187,0.08703820471609011,0.14864040996363684,0.10842780748242506,0.16301929429852102,0.09154802574585208,0.19218270502296275,0.1381519978414767,0.1446185090285927,0.1672361253749411,0.12499096729182047,0.1791795105470039,0.23445777023234313,0.14733451222879002,0.17642906026679236,0.09493958228776841,0.1168417582800271,0.10553736207777487,0.12658853815113144,0.13332586447870606,0.1659664575527703,0.1898704189202734,0.1624772121228015,0.17394196657795918,0.21166394030324998,0.20579911268240736,0.09333399828965316,0.1605770884972754,0.1198289474193926,0.1988975668778264,0.1253544261442786,0.09413872061051048,0.17026025603014797,0.18835681325971695,0.14016836596903778,0.08711993926597221,0.1857830642033181,0.09554422798084472,0.11861733857441822,0.15929887356966108,0.0974176270681027,0.09840427949676275,0.0795344849732464,0.13683749241131038,0.15949408410574678,0.1267927208283439,0.10539495666619365,0.16937410786465804,0.1794949862834309,0.119700964282219,0.2030894909983141,0.09666185214214354,0.15210019578001516,0.11847970961522546,0.09861960680824261,0.18113207477996174,0.11520528805544536,0.18512237837836484,0.15485694792703178,0.1756060971869234,0.14321366001214828,0.1519489198990826,0.18077826764123753,0.10383025331051604,0.1626776919398766,0.20077338194904557,0.10492429440687712,0.09774792046084067,0.08234757030470279,0.1485376217558572,0.09879315000935601,0.13984297161649736,0.11181628511489879,0.1694071449119349,0.16339110402086174,0.15533829940814375,0.18207771902832834,0.13866266137926184,0.22275127577508796,0.13375250877807823,0.21763503702357456,0.10444237430086623,0.12570879749302757,0.18966390122566767,0.11695813359627803,0.13861603271741788,0.19195148986294874,0.1864675975547096,0.10508291784044052,0.10309005788684486,0.1781424215701444,0.10115672555172958,0.0880513162912211,0.11452187274544018,0.15064425974376383,0.1771510651833386,0.16588306924951407,0.16266911569432937,0.18332468475453795,0.1688241887404605,0.10858326318023073,0.09110403065886669,0.1372409789408633,0.12863457765593833,0.13936932179364842,0.18845129927187215,0.13958536200748808,0.09127022129414517,0.17119296395300776,0.16163438856093812,0.17504004926741587,0.12172506005131994,0.13164205592041708,0.21578455312914638,0.1581640507106955,0.1440819114624694,0.11881423026123523,0.18803862024320972,0.16601283219726964,0.1104280109782331,0.1428220581101036,0.1732690735583259,0.1695332397318344,0.11048455715630812,0.14674074965707024,0.10238500997746462,0.11148350697654173,0.13597066924563614,0.11423395851693464,0.08968052566269888,0.11105796286653778,0.14578230433550945,0.09962033168822038,0.08880856548988604,0.182476664022675,0.17839814899047368,0.09693818059237712,0.097896284371647,0.15110795452460724,0.15692443453806237,0.2091161410184481,0.16352739803813254,0.1891379262462034,0.12326554076455583,0.14267078670646793,0.1037962564067664,0.133964220200074,0.15715389975789382,0.09754481400751705,0.10633711361751091,0.15223667810904906,0.13160082242525478,0.14697133601095147,0.11907421737521737,0.08878926721533048,0.18974430409323093,0.13441398635994908,0.14846668568569954,0.17781706403865682,0.13747885378967734,0.1440453301380921,0.14675896737093916,0.19897988632918723,0.13428365228497935,0.09477755323122308,0.1363525212852598,0.1701142824209775,0.17182400161311392,0.11422650631444861,0.12677869873447462,0.11500836311045431,0.09393428104039664,0.15195513626937274,0.18281335188981168,0.12533174232664748,0.17372289300575472,0.0928785526666229,0.13081903639670936,0.13623303656364072,0.16627371712322278,0.09359080329103947,0.13355164266209862,0.14289624316571808,0.2047228595376448,0.07993917310455943,0.1540616870805415,0.1348287159172279,0.09481094422341979,0.10818674331981924,0.14431604919547197,0.1476182706526824,0.1186878144989719,0.1414158634240953,0.08001881277078121,0.10955115268746898,0.09545658680918467,0.11160145698815335,0.16771925177269328,0.09480284922394605,0.17800378561693472,0.12653949001934586,0.17216341563056553,0.11863729208229001,0.10304517232139362,0.16269053872584374,0.10000607730848131,0.19282289449908568,0.1160017465328623,0.10481889817190845,0.14910108019013005,0.1207317436691886,0.18676098912916755,0.11191330791936696,0.1422281596119637,0.2133272061428563,0.15118494268890542,0.18063432670601642,0.14288548936170564,0.14149659259404557,0.14817624295586418,0.12848977366671158,0.09418147733848783,0.12718398153018567,0.1842911245772602,0.15565335772041908,0.1557196626676306,0.1668556409362859,0.1473651943029959,0.1556230958495158,0.13526075833661538,0.13126500009682282,0.10744183017397702,0.16213827000773495,0.1203085331712496,0.1642976899681848,0.10495173543329563,0.09666646265500359,0.08424569968210101,0.09405268599108314,0.16760774957240315,0.12138469899709917,0.10841128338761011,0.09015168785987775,0.17535574103242763,0.13028543546662064,0.09272028805766408,0.0966486463369158,0.1847391339727194,0.1261308187394871,0.20117846068570175,0.12155107729362331,0.1512297854331806,0.18581452400324522,0.15123043818329104,0.16564392929759966,0.08150841869613838,0.12173673782622918,0.15413100287358805,0.09458465222518721,0.1790342693583951,0.15223560758039734,0.10789157522795725,0.1872789279298951,0.0930385480407894,0.14753518052635528,0.1304260566584691,0.24542955155245383,0.1321727772939893,0.1363404564153963,0.1258057612316683,0.16986413876403356,0.15613095581547873,0.1470355056811386,0.14041891515708171,0.18624186849870616,0.16314554871382841,0.12735500885062645,0.14856963361789094,0.13335204586343086,0.10130060051979602,0.1559220796805235,0.10519173555222266],\"type\":\"scatter\"}],                        {\"template\":{\"data\":{\"barpolar\":[{\"marker\":{\"line\":{\"color\":\"white\",\"width\":0.5},\"pattern\":{\"fillmode\":\"overlay\",\"size\":10,\"solidity\":0.2}},\"type\":\"barpolar\"}],\"bar\":[{\"error_x\":{\"color\":\"#2a3f5f\"},\"error_y\":{\"color\":\"#2a3f5f\"},\"marker\":{\"line\":{\"color\":\"white\",\"width\":0.5},\"pattern\":{\"fillmode\":\"overlay\",\"size\":10,\"solidity\":0.2}},\"type\":\"bar\"}],\"carpet\":[{\"aaxis\":{\"endlinecolor\":\"#2a3f5f\",\"gridcolor\":\"#C8D4E3\",\"linecolor\":\"#C8D4E3\",\"minorgridcolor\":\"#C8D4E3\",\"startlinecolor\":\"#2a3f5f\"},\"baxis\":{\"endlinecolor\":\"#2a3f5f\",\"gridcolor\":\"#C8D4E3\",\"linecolor\":\"#C8D4E3\",\"minorgridcolor\":\"#C8D4E3\",\"startlinecolor\":\"#2a3f5f\"},\"type\":\"carpet\"}],\"choropleth\":[{\"colorbar\":{\"outlinewidth\":0,\"ticks\":\"\"},\"type\":\"choropleth\"}],\"contourcarpet\":[{\"colorbar\":{\"outlinewidth\":0,\"ticks\":\"\"},\"type\":\"contourcarpet\"}],\"contour\":[{\"colorbar\":{\"outlinewidth\":0,\"ticks\":\"\"},\"colorscale\":[[0.0,\"#0d0887\"],[0.1111111111111111,\"#46039f\"],[0.2222222222222222,\"#7201a8\"],[0.3333333333333333,\"#9c179e\"],[0.4444444444444444,\"#bd3786\"],[0.5555555555555556,\"#d8576b\"],[0.6666666666666666,\"#ed7953\"],[0.7777777777777778,\"#fb9f3a\"],[0.8888888888888888,\"#fdca26\"],[1.0,\"#f0f921\"]],\"type\":\"contour\"}],\"heatmapgl\":[{\"colorbar\":{\"outlinewidth\":0,\"ticks\":\"\"},\"colorscale\":[[0.0,\"#0d0887\"],[0.1111111111111111,\"#46039f\"],[0.2222222222222222,\"#7201a8\"],[0.3333333333333333,\"#9c179e\"],[0.4444444444444444,\"#bd3786\"],[0.5555555555555556,\"#d8576b\"],[0.6666666666666666,\"#ed7953\"],[0.7777777777777778,\"#fb9f3a\"],[0.8888888888888888,\"#fdca26\"],[1.0,\"#f0f921\"]],\"type\":\"heatmapgl\"}],\"heatmap\":[{\"colorbar\":{\"outlinewidth\":0,\"ticks\":\"\"},\"colorscale\":[[0.0,\"#0d0887\"],[0.1111111111111111,\"#46039f\"],[0.2222222222222222,\"#7201a8\"],[0.3333333333333333,\"#9c179e\"],[0.4444444444444444,\"#bd3786\"],[0.5555555555555556,\"#d8576b\"],[0.6666666666666666,\"#ed7953\"],[0.7777777777777778,\"#fb9f3a\"],[0.8888888888888888,\"#fdca26\"],[1.0,\"#f0f921\"]],\"type\":\"heatmap\"}],\"histogram2dcontour\":[{\"colorbar\":{\"outlinewidth\":0,\"ticks\":\"\"},\"colorscale\":[[0.0,\"#0d0887\"],[0.1111111111111111,\"#46039f\"],[0.2222222222222222,\"#7201a8\"],[0.3333333333333333,\"#9c179e\"],[0.4444444444444444,\"#bd3786\"],[0.5555555555555556,\"#d8576b\"],[0.6666666666666666,\"#ed7953\"],[0.7777777777777778,\"#fb9f3a\"],[0.8888888888888888,\"#fdca26\"],[1.0,\"#f0f921\"]],\"type\":\"histogram2dcontour\"}],\"histogram2d\":[{\"colorbar\":{\"outlinewidth\":0,\"ticks\":\"\"},\"colorscale\":[[0.0,\"#0d0887\"],[0.1111111111111111,\"#46039f\"],[0.2222222222222222,\"#7201a8\"],[0.3333333333333333,\"#9c179e\"],[0.4444444444444444,\"#bd3786\"],[0.5555555555555556,\"#d8576b\"],[0.6666666666666666,\"#ed7953\"],[0.7777777777777778,\"#fb9f3a\"],[0.8888888888888888,\"#fdca26\"],[1.0,\"#f0f921\"]],\"type\":\"histogram2d\"}],\"histogram\":[{\"marker\":{\"pattern\":{\"fillmode\":\"overlay\",\"size\":10,\"solidity\":0.2}},\"type\":\"histogram\"}],\"mesh3d\":[{\"colorbar\":{\"outlinewidth\":0,\"ticks\":\"\"},\"type\":\"mesh3d\"}],\"parcoords\":[{\"line\":{\"colorbar\":{\"outlinewidth\":0,\"ticks\":\"\"}},\"type\":\"parcoords\"}],\"pie\":[{\"automargin\":true,\"type\":\"pie\"}],\"scatter3d\":[{\"line\":{\"colorbar\":{\"outlinewidth\":0,\"ticks\":\"\"}},\"marker\":{\"colorbar\":{\"outlinewidth\":0,\"ticks\":\"\"}},\"type\":\"scatter3d\"}],\"scattercarpet\":[{\"marker\":{\"colorbar\":{\"outlinewidth\":0,\"ticks\":\"\"}},\"type\":\"scattercarpet\"}],\"scattergeo\":[{\"marker\":{\"colorbar\":{\"outlinewidth\":0,\"ticks\":\"\"}},\"type\":\"scattergeo\"}],\"scattergl\":[{\"marker\":{\"colorbar\":{\"outlinewidth\":0,\"ticks\":\"\"}},\"type\":\"scattergl\"}],\"scattermapbox\":[{\"marker\":{\"colorbar\":{\"outlinewidth\":0,\"ticks\":\"\"}},\"type\":\"scattermapbox\"}],\"scatterpolargl\":[{\"marker\":{\"colorbar\":{\"outlinewidth\":0,\"ticks\":\"\"}},\"type\":\"scatterpolargl\"}],\"scatterpolar\":[{\"marker\":{\"colorbar\":{\"outlinewidth\":0,\"ticks\":\"\"}},\"type\":\"scatterpolar\"}],\"scatter\":[{\"fillpattern\":{\"fillmode\":\"overlay\",\"size\":10,\"solidity\":0.2},\"type\":\"scatter\"}],\"scatterternary\":[{\"marker\":{\"colorbar\":{\"outlinewidth\":0,\"ticks\":\"\"}},\"type\":\"scatterternary\"}],\"surface\":[{\"colorbar\":{\"outlinewidth\":0,\"ticks\":\"\"},\"colorscale\":[[0.0,\"#0d0887\"],[0.1111111111111111,\"#46039f\"],[0.2222222222222222,\"#7201a8\"],[0.3333333333333333,\"#9c179e\"],[0.4444444444444444,\"#bd3786\"],[0.5555555555555556,\"#d8576b\"],[0.6666666666666666,\"#ed7953\"],[0.7777777777777778,\"#fb9f3a\"],[0.8888888888888888,\"#fdca26\"],[1.0,\"#f0f921\"]],\"type\":\"surface\"}],\"table\":[{\"cells\":{\"fill\":{\"color\":\"#EBF0F8\"},\"line\":{\"color\":\"white\"}},\"header\":{\"fill\":{\"color\":\"#C8D4E3\"},\"line\":{\"color\":\"white\"}},\"type\":\"table\"}]},\"layout\":{\"annotationdefaults\":{\"arrowcolor\":\"#2a3f5f\",\"arrowhead\":0,\"arrowwidth\":1},\"autotypenumbers\":\"strict\",\"coloraxis\":{\"colorbar\":{\"outlinewidth\":0,\"ticks\":\"\"}},\"colorscale\":{\"diverging\":[[0,\"#8e0152\"],[0.1,\"#c51b7d\"],[0.2,\"#de77ae\"],[0.3,\"#f1b6da\"],[0.4,\"#fde0ef\"],[0.5,\"#f7f7f7\"],[0.6,\"#e6f5d0\"],[0.7,\"#b8e186\"],[0.8,\"#7fbc41\"],[0.9,\"#4d9221\"],[1,\"#276419\"]],\"sequential\":[[0.0,\"#0d0887\"],[0.1111111111111111,\"#46039f\"],[0.2222222222222222,\"#7201a8\"],[0.3333333333333333,\"#9c179e\"],[0.4444444444444444,\"#bd3786\"],[0.5555555555555556,\"#d8576b\"],[0.6666666666666666,\"#ed7953\"],[0.7777777777777778,\"#fb9f3a\"],[0.8888888888888888,\"#fdca26\"],[1.0,\"#f0f921\"]],\"sequentialminus\":[[0.0,\"#0d0887\"],[0.1111111111111111,\"#46039f\"],[0.2222222222222222,\"#7201a8\"],[0.3333333333333333,\"#9c179e\"],[0.4444444444444444,\"#bd3786\"],[0.5555555555555556,\"#d8576b\"],[0.6666666666666666,\"#ed7953\"],[0.7777777777777778,\"#fb9f3a\"],[0.8888888888888888,\"#fdca26\"],[1.0,\"#f0f921\"]]},\"colorway\":[\"#636efa\",\"#EF553B\",\"#00cc96\",\"#ab63fa\",\"#FFA15A\",\"#19d3f3\",\"#FF6692\",\"#B6E880\",\"#FF97FF\",\"#FECB52\"],\"font\":{\"color\":\"#2a3f5f\"},\"geo\":{\"bgcolor\":\"white\",\"lakecolor\":\"white\",\"landcolor\":\"white\",\"showlakes\":true,\"showland\":true,\"subunitcolor\":\"#C8D4E3\"},\"hoverlabel\":{\"align\":\"left\"},\"hovermode\":\"closest\",\"mapbox\":{\"style\":\"light\"},\"paper_bgcolor\":\"white\",\"plot_bgcolor\":\"white\",\"polar\":{\"angularaxis\":{\"gridcolor\":\"#EBF0F8\",\"linecolor\":\"#EBF0F8\",\"ticks\":\"\"},\"bgcolor\":\"white\",\"radialaxis\":{\"gridcolor\":\"#EBF0F8\",\"linecolor\":\"#EBF0F8\",\"ticks\":\"\"}},\"scene\":{\"xaxis\":{\"backgroundcolor\":\"white\",\"gridcolor\":\"#DFE8F3\",\"gridwidth\":2,\"linecolor\":\"#EBF0F8\",\"showbackground\":true,\"ticks\":\"\",\"zerolinecolor\":\"#EBF0F8\"},\"yaxis\":{\"backgroundcolor\":\"white\",\"gridcolor\":\"#DFE8F3\",\"gridwidth\":2,\"linecolor\":\"#EBF0F8\",\"showbackground\":true,\"ticks\":\"\",\"zerolinecolor\":\"#EBF0F8\"},\"zaxis\":{\"backgroundcolor\":\"white\",\"gridcolor\":\"#DFE8F3\",\"gridwidth\":2,\"linecolor\":\"#EBF0F8\",\"showbackground\":true,\"ticks\":\"\",\"zerolinecolor\":\"#EBF0F8\"}},\"shapedefaults\":{\"line\":{\"color\":\"#2a3f5f\"}},\"ternary\":{\"aaxis\":{\"gridcolor\":\"#DFE8F3\",\"linecolor\":\"#A2B1C6\",\"ticks\":\"\"},\"baxis\":{\"gridcolor\":\"#DFE8F3\",\"linecolor\":\"#A2B1C6\",\"ticks\":\"\"},\"bgcolor\":\"white\",\"caxis\":{\"gridcolor\":\"#DFE8F3\",\"linecolor\":\"#A2B1C6\",\"ticks\":\"\"}},\"title\":{\"x\":0.05},\"xaxis\":{\"automargin\":true,\"gridcolor\":\"#EBF0F8\",\"linecolor\":\"#EBF0F8\",\"ticks\":\"\",\"title\":{\"standoff\":15},\"zerolinecolor\":\"#EBF0F8\",\"zerolinewidth\":2},\"yaxis\":{\"automargin\":true,\"gridcolor\":\"#EBF0F8\",\"linecolor\":\"#EBF0F8\",\"ticks\":\"\",\"title\":{\"standoff\":15},\"zerolinecolor\":\"#EBF0F8\",\"zerolinewidth\":2}}},\"xaxis\":{\"title\":{\"text\":\"Risque annuel (volatilit\\u00e9)\"},\"range\":[0.18,0.32]},\"yaxis\":{\"title\":{\"text\":\"Rendement annuel\"},\"range\":[0.02,0.27]},\"title\":{\"text\":\"Exemple de portefeuilles al\\u00e9atoires\"},\"width\":850,\"height\":500,\"coloraxis\":{\"colorbar\":{\"title\":{\"text\":\"Ratio de Sharpe\"}}}},                        {\"responsive\": true}                    ).then(function(){\n",
              "                            \n",
              "var gd = document.getElementById('272300cc-2e16-4e5b-a41f-a80fb1871114');\n",
              "var x = new MutationObserver(function (mutations, observer) {{\n",
              "        var display = window.getComputedStyle(gd).display;\n",
              "        if (!display || display === 'none') {{\n",
              "            console.log([gd, 'removed!']);\n",
              "            Plotly.purge(gd);\n",
              "            observer.disconnect();\n",
              "        }}\n",
              "}});\n",
              "\n",
              "// Listen for the removal of the full notebook cells\n",
              "var notebookContainer = gd.closest('#notebook-container');\n",
              "if (notebookContainer) {{\n",
              "    x.observe(notebookContainer, {childList: true});\n",
              "}}\n",
              "\n",
              "// Listen for the clearing of the current output cell\n",
              "var outputEl = gd.closest('.output');\n",
              "if (outputEl) {{\n",
              "    x.observe(outputEl, {childList: true});\n",
              "}}\n",
              "\n",
              "                        })                };                            </script>        </div>\n",
              "</body>\n",
              "</html>"
            ]
          },
          "metadata": {}
        }
      ]
    },
    {
      "cell_type": "markdown",
      "source": [
        "Dans ce graphique, chaque point représente un portefeuille. Il est important de noter ici que la majorité des portefeuilles présentés ici ne se trouvent pas sur la Frontière Efficiente. Nous abordons cette question dans la prochaine section."
      ],
      "metadata": {
        "id": "vfwRNFrmRT23"
      }
    },
    {
      "cell_type": "code",
      "source": [
        "#-- Créer des poids de portefeuille aléatoires et des indices\n",
        "#- Combien d'actifs dans le portefeuille\n",
        "n_assets = 5\n",
        "\n",
        "mean_variance_pairs = []\n",
        "weights_list=[]\n",
        "tickers_list=[]\n",
        "\n",
        "for i in tqdm(range(10000)):\n",
        "    next_i = False\n",
        "    while True:\n",
        "        #- Choisir des actifs aléatoirement sans remplacement\n",
        "        actifs = np.random.choice(list(daily_returns.columns), n_assets, replace=False)\n",
        "        #- Choisir des poids aléatoires en s'assurant qu'ils sont normalisés à un\n",
        "        poids = np.random.rand(n_assets)\n",
        "        poids = poids/sum(poids)\n",
        "\n",
        "        #-- Parcourir les paires d'actifs et calculer le rendement et la variance du portefeuille\n",
        "        portfolio_E_Variance = 0\n",
        "        portfolio_E_Retour = 0\n",
        "        for i in range(len(actifs)):\n",
        "            portfolio_E_Retour += poids[i] * mus.loc[actifs[i]]\n",
        "            for j in range(len(actifs)):\n",
        "                portfolio_E_Variance += poids[i] * poids[j] * cov.loc[actifs[i], actifs[j]]\n",
        "\n",
        "        #-- Ignorer les portefeuilles dominés\n",
        "        for R,V in mean_variance_pairs:\n",
        "            if (R > portfolio_E_Retour) & (V < portfolio_E_Variance):\n",
        "                next_i = True\n",
        "                break\n",
        "        if next_i:\n",
        "            break\n",
        "\n",
        "        #-- Ajouter les paires moyenne-variance à une liste pour le tracé\n",
        "        mean_variance_pairs.append([portfolio_E_Retour, portfolio_E_Variance])\n",
        "        weights_list.append(poids)\n",
        "        tickers_list.append(actifs)\n",
        "        break\n"
      ],
      "metadata": {
        "colab": {
          "base_uri": "https://localhost:8080/"
        },
        "id": "hWUadSHfOs5G",
        "outputId": "b1e50119-d494-48f4-9c25-d5a1871d1a4e"
      },
      "execution_count": null,
      "outputs": [
        {
          "output_type": "stream",
          "name": "stderr",
          "text": [
            "100%|██████████| 10000/10000 [00:05<00:00, 1798.52it/s]\n"
          ]
        }
      ]
    },
    {
      "cell_type": "code",
      "source": [
        "len(mean_variance_pairs)"
      ],
      "metadata": {
        "colab": {
          "base_uri": "https://localhost:8080/"
        },
        "id": "rF2jpL6hOzIc",
        "outputId": "4310aa34-79b3-499b-a4e4-bc1bcd00c1b0"
      },
      "execution_count": null,
      "outputs": [
        {
          "output_type": "execute_result",
          "data": {
            "text/plain": [
              "237"
            ]
          },
          "metadata": {},
          "execution_count": 11
        }
      ]
    },
    {
      "cell_type": "markdown",
      "source": [
        "Auparavant, nous échantillonnions les pondérations des portefeuilles de manière aléatoire ; essayons maintenant d'être plus efficaces . Nous pouvons introduire le concept de domination afin de ne pas échantillonner inutilement des portefeuilles \"mauvais\".\n",
        "\n",
        "En tant qu'investisseur (plus ou moins) rationnel, si l'on nous présente deux portefeuilles avec un rendement égal, nous choisirons celui avec un risque plus faible, et si l'on nous présente deux portefeuilles avec un risque égal, nous choisirons celui avec un rendement plus élevé. Cela signifie quoi en termes de graphique ci-dessus ? Le coin supérieur gauche est le meilleur endroit où se trouver, et tout portefeuille situé en dessous et à droite d'un autre portefeuille est dominé et ne serait pas choisi par un investisseur rationnel.\n",
        "\n",
        "Donc, assurons-nous que notre code n'inclut pas de portefeuilles dominés par un portefeuille que nous avons déjà échantillonné."
      ],
      "metadata": {
        "id": "flsif7J8ScAE"
      }
    },
    {
      "cell_type": "code",
      "source": [
        "#-- Tracer le risque par rapport au rendement des portefeuilles générés aléatoirement\n",
        "#-- Convertir la liste précédente en un tableau pour un tracé facile\n",
        "mean_variance_pairs = np.array(mean_variance_pairs)\n",
        "\n",
        "risk_free_rate = 0  #-- Inclure le taux sans risque ici\n",
        "\n",
        "fig = go.Figure()\n",
        "fig.add_trace(go.Scatter(x=mean_variance_pairs[:,1]**0.5, y=mean_variance_pairs[:,0],\n",
        "                      marker=dict(color=(mean_variance_pairs[:,0]-risk_free_rate)/(mean_variance_pairs[:,1]**0.5),\n",
        "                                  showscale=True,\n",
        "                                  size=7,\n",
        "                                  line=dict(width=1),\n",
        "                                  colorscale=\"RdBu\",\n",
        "                                  colorbar=dict(title=\"Ratio de Sharpe\")\n",
        "                                 ),\n",
        "                      mode='markers',\n",
        "                      text=[str(np.array(tickers_list[i])) + \"<br>\" + str(np.array(weights_list[i]).round(2)) for i in range(len(tickers_list))]))\n",
        "fig.update_layout(template='plotly_white',\n",
        "                  xaxis=dict(title='Risque annuel (volatilité)'),\n",
        "                  yaxis=dict(title='Rendement annuel'),\n",
        "                  title='Exemple de portefeuilles aléatoires',\n",
        "                  width=850,\n",
        "                  height=500)\n",
        "fig.update_xaxes(range=[0.18, 0.35])\n",
        "fig.update_yaxes(range=[0.05,0.29])\n",
        "fig.update_layout(coloraxis_colorbar=dict(title=\"Ratio de Sharpe\"))\n"
      ],
      "metadata": {
        "colab": {
          "base_uri": "https://localhost:8080/",
          "height": 517
        },
        "id": "K4R_37AOO0aV",
        "outputId": "144b2fdb-b4ca-426b-f9d2-18a87e17e397"
      },
      "execution_count": null,
      "outputs": [
        {
          "output_type": "display_data",
          "data": {
            "text/html": [
              "<html>\n",
              "<head><meta charset=\"utf-8\" /></head>\n",
              "<body>\n",
              "    <div>            <script src=\"https://cdnjs.cloudflare.com/ajax/libs/mathjax/2.7.5/MathJax.js?config=TeX-AMS-MML_SVG\"></script><script type=\"text/javascript\">if (window.MathJax && window.MathJax.Hub && window.MathJax.Hub.Config) {window.MathJax.Hub.Config({SVG: {font: \"STIX-Web\"}});}</script>                <script type=\"text/javascript\">window.PlotlyConfig = {MathJaxConfig: 'local'};</script>\n",
              "        <script src=\"https://cdn.plot.ly/plotly-2.18.2.min.js\"></script>                <div id=\"c84b0da7-4ee9-4267-9e8c-6803b1a2cb3e\" class=\"plotly-graph-div\" style=\"height:500px; width:850px;\"></div>            <script type=\"text/javascript\">                                    window.PLOTLYENV=window.PLOTLYENV || {};                                    if (document.getElementById(\"c84b0da7-4ee9-4267-9e8c-6803b1a2cb3e\")) {                    Plotly.newPlot(                        \"c84b0da7-4ee9-4267-9e8c-6803b1a2cb3e\",                        [{\"marker\":{\"color\":[0.3978363454049961,0.6882095295782485,0.6267825148661708,0.6911116177185421,0.7306112029267202,0.6970716620839014,0.7466484707593103,0.44112404435145014,0.7424289777166035,0.46269330979343304,0.40444607667427457,0.5392017267364773,0.6038029922111132,0.809136448423231,0.8330543489561208,0.7293365447198983,0.7889225100381315,0.5930195753954969,0.7166647825810911,0.7975308352686878,0.7544102737361138,0.7479932691789013,0.7378501974547966,0.6230073992778921,0.7308193184660474,0.6738163953166117,0.7166509798953393,0.6350478655690259,0.40122052541247544,0.8185667436337191,0.8556098900431908,0.7385610794222236,0.6505029185081304,0.7519130370795174,0.7511879975588218,0.6478805985294562,0.7701168159545969,0.7701646883687319,0.8706479225705177,0.815088423871271,0.48047119808835964,0.7037816904649618,0.4497605230978079,0.5246463032587062,0.7044527407301554,0.8414119612265455,0.6206217680492746,0.7480051548287127,0.8255829391703994,0.815682840399463,0.7599536268783769,0.7927142444073519,0.7691114868593292,0.7371456490684244,0.7643144408426837,0.657591043380448,0.5935168439219115,0.7183946030776166,0.8143610931190022,0.7870802887671515,0.7722816919742927,0.7722553106399145,0.5724420294765309,0.7142309386869868,0.7729189898355381,0.7201611043628191,0.728342489379616,0.5915527147251104,0.8285861596866507,0.7628775527184072,0.6536604525286283,0.814188649396329,0.7378004062073023,0.739624237744706,0.5491568697097771,0.7934122488102547,0.8193553456852518,0.7191715797718643,0.7989908894419925,0.6243783177767894,0.8232756883672898,0.8488887651089532,0.8384992371214507,0.8519480059198916,0.7831166651205885,0.5577571563682576,0.8218476064704963,0.8313338523020332,0.6594801405469669,0.6474056273027348,0.398180953046271,0.809905767691945,0.8229886101748838,0.6998945154856289,0.6801633487131092,0.7199471236039434,0.8709794172039845,0.7550393017549788,0.7979057744450717,0.5570907903876022,0.8613260636166961,0.8750279987141848,0.6375546779620762,0.48650364258820467,0.8714759954813619,0.7137001952944091,0.7377275022395337,0.768847328326061,0.7946677843447502,0.7718711580250333,0.8638744961905467,0.633019770872593,0.8008109760510865,0.7610905929907523,0.7985021201053075,0.8401035684941582,0.6744322566263484,0.8117415050623669,0.837062263313895,0.7830359755510599,0.6048313431432569,0.7712845122426785,0.7730015949320419,0.42551692924827333,0.840020908842185,0.7074997426773989,0.7447855641208144,0.5569117837970643,0.845742958006091,0.5644504752020287,0.6728360617296854,0.8663922355142293,0.6504133499120436,0.6038001823006228,0.6432618258103504,0.7093978666573629,0.8124498398026327,0.6917482785701041,0.783836992140279,0.7193677396142151,0.8112454271288732,0.7208192631770949,0.35683442356351075,0.7135376533362027,0.6871430135676667,0.8351344315483409,0.735489398723019,0.6581097988917922,0.43933080253639983,0.8522021964882606,0.7101256771732427,0.8028732739555465,0.8646665836310353,0.5659810825150388,0.7459565265710092,0.6567522812517115,0.719451256641054,0.7011923688942235,0.7590690237044584,0.6050841245867207,0.6765665314758542,0.7205333007733613,0.7984209196243741,0.6993518290241484,0.821694891364308,0.748364306937161,0.7265833452962858,0.7905984109974387,0.8445215690426061,0.7059883800624767,0.7745932440335724,0.708254656245735,0.8631907239184605,0.7670308640683055,0.6844854461863897,0.6437199919126934,0.7368604588280736,0.8348627928971276,0.7712833930680333,0.8517483436396139,0.7891150327445203,0.6498668540492842,0.7791973522737758,0.5802950746023137,0.7719245842631938,0.8162032026902442,0.732976865732107,0.7998038436307044,0.610552664379459,0.6253748567986295,0.8409022995641696,0.6583474563935638,0.7212163857447205,0.599173734984842,0.7782274424181808,0.6341736346801152,0.8532553157290342,0.6927215563059168,0.7667792581278999,0.7684810009251167,0.8305538103274169,0.6869681876626418,0.8189108694240644,0.8342591595682506,0.7296444161966347,0.7006199488363102,0.4662022725554215,0.7673389615629701,0.795336523470184,0.808626785765611,0.6427869260318417,0.5850316792580436,0.7460032677371831,0.8195433439814184,0.844167465398442,0.657552627971556,0.8413323476817338,0.4882414386379414,0.7547189334852018,0.7684313373566646,0.8066948291805218,0.7743400553085128,0.8556197404194725,0.8580510824013147,0.7909506372157825,0.7375709086545037,0.7182348081529193,0.8394657201575291,0.7197938935396182,0.7399557017784565,0.4853820693033471,0.772069486742872,0.7769431088181196,0.8654547555939953,0.8633582556448572,0.7594554430474996,0.8454933454420226],\"colorbar\":{\"title\":{\"text\":\"Ratio de Sharpe\"}},\"colorscale\":[[0.0,\"rgb(103,0,31)\"],[0.1,\"rgb(178,24,43)\"],[0.2,\"rgb(214,96,77)\"],[0.3,\"rgb(244,165,130)\"],[0.4,\"rgb(253,219,199)\"],[0.5,\"rgb(247,247,247)\"],[0.6,\"rgb(209,229,240)\"],[0.7,\"rgb(146,197,222)\"],[0.8,\"rgb(67,147,195)\"],[0.9,\"rgb(33,102,172)\"],[1.0,\"rgb(5,48,97)\"]],\"line\":{\"width\":1},\"showscale\":true,\"size\":7},\"mode\":\"markers\",\"text\":[\"['COSUMAR' 'SAHAM' 'ADDOHA' 'LABELVIE' 'LAFARGE']<br>[0.25 0.23 0.05 0.26 0.21]\",\"['LABELVIE' 'LAFARGE' 'ATTIJARI' 'COSUMAR' 'SAHAM']<br>[0.48 0.02 0.31 0.09 0.1 ]\",\"['SAHAM' 'ADDOHA' 'ATTIJARI' 'LAFARGE' 'COSUMAR']<br>[0.32 0.1  0.22 0.18 0.18]\",\"['COSUMAR' 'LAFARGE' 'ATTIJARI' 'LABELVIE' 'ADDOHA']<br>[0.27 0.15 0.26 0.18 0.15]\",\"['COSUMAR' 'SAHAM' 'LABELVIE' 'ADDOHA' 'ATTIJARI']<br>[0.33 0.13 0.04 0.15 0.35]\",\"['LABELVIE' 'COSUMAR' 'SAHAM' 'ADDOHA' 'ATTIJARI']<br>[0.25 0.18 0.16 0.16 0.25]\",\"['ADDOHA' 'ATTIJARI' 'LABELVIE' 'SAHAM' 'COSUMAR']<br>[0.2  0.3  0.25 0.15 0.09]\",\"['LABELVIE' 'ADDOHA' 'LAFARGE' 'SAHAM' 'COSUMAR']<br>[0.06 0.36 0.17 0.2  0.21]\",\"['LAFARGE' 'LABELVIE' 'ADDOHA' 'SAHAM' 'ATTIJARI']<br>[0.2  0.33 0.07 0.05 0.34]\",\"['LAFARGE' 'SAHAM' 'LABELVIE' 'ATTIJARI' 'ADDOHA']<br>[0.33 0.17 0.32 0.06 0.12]\",\"['COSUMAR' 'ADDOHA' 'LABELVIE' 'LAFARGE' 'SAHAM']<br>[0.08 0.15 0.34 0.3  0.14]\",\"['ADDOHA' 'ATTIJARI' 'SAHAM' 'COSUMAR' 'LAFARGE']<br>[0.21 0.12 0.07 0.32 0.29]\",\"['ATTIJARI' 'COSUMAR' 'LAFARGE' 'ADDOHA' 'LABELVIE']<br>[0.16 0.14 0.29 0.22 0.2 ]\",\"['LABELVIE' 'ADDOHA' 'ATTIJARI' 'LAFARGE' 'SAHAM']<br>[0.07 0.06 0.48 0.36 0.03]\",\"['LAFARGE' 'COSUMAR' 'ADDOHA' 'ATTIJARI' 'LABELVIE']<br>[0.06 0.03 0.31 0.44 0.16]\",\"['COSUMAR' 'LAFARGE' 'ADDOHA' 'ATTIJARI' 'LABELVIE']<br>[0.24 0.13 0.21 0.3  0.12]\",\"['SAHAM' 'ATTIJARI' 'LABELVIE' 'LAFARGE' 'ADDOHA']<br>[0.03 0.38 0.   0.22 0.37]\",\"['ATTIJARI' 'LABELVIE' 'ADDOHA' 'SAHAM' 'LAFARGE']<br>[0.13 0.17 0.27 0.2  0.23]\",\"['LAFARGE' 'ATTIJARI' 'ADDOHA' 'COSUMAR' 'LABELVIE']<br>[0.07 0.28 0.37 0.21 0.07]\",\"['ATTIJARI' 'SAHAM' 'ADDOHA' 'LABELVIE' 'COSUMAR']<br>[0.39 0.14 0.2  0.15 0.12]\",\"['COSUMAR' 'LABELVIE' 'ADDOHA' 'LAFARGE' 'ATTIJARI']<br>[0.08 0.17 0.19 0.24 0.32]\",\"['ATTIJARI' 'ADDOHA' 'SAHAM' 'COSUMAR' 'LAFARGE']<br>[0.34 0.12 0.1  0.13 0.31]\",\"['COSUMAR' 'ADDOHA' 'LAFARGE' 'LABELVIE' 'ATTIJARI']<br>[0.24 0.28 0.03 0.15 0.3 ]\",\"['ADDOHA' 'ATTIJARI' 'LAFARGE' 'COSUMAR' 'LABELVIE']<br>[0.14 0.19 0.29 0.18 0.21]\",\"['LAFARGE' 'COSUMAR' 'SAHAM' 'LABELVIE' 'ATTIJARI']<br>[0.37 0.1  0.14 0.04 0.36]\",\"['ATTIJARI' 'SAHAM' 'ADDOHA' 'COSUMAR' 'LAFARGE']<br>[0.23 0.08 0.25 0.24 0.21]\",\"['ADDOHA' 'SAHAM' 'COSUMAR' 'LAFARGE' 'ATTIJARI']<br>[0.23 0.11 0.13 0.26 0.27]\",\"['LABELVIE' 'ATTIJARI' 'COSUMAR' 'ADDOHA' 'LAFARGE']<br>[0.3  0.19 0.07 0.2  0.24]\",\"['LABELVIE' 'LAFARGE' 'COSUMAR' 'ADDOHA' 'SAHAM']<br>[0.01 0.36 0.27 0.31 0.06]\",\"['ADDOHA' 'LABELVIE' 'ATTIJARI' 'COSUMAR' 'LAFARGE']<br>[0.22 0.02 0.46 0.14 0.17]\",\"['LABELVIE' 'LAFARGE' 'ATTIJARI' 'SAHAM' 'ADDOHA']<br>[0.25 0.05 0.54 0.04 0.12]\",\"['ATTIJARI' 'LABELVIE' 'ADDOHA' 'SAHAM' 'LAFARGE']<br>[0.28 0.26 0.35 0.02 0.09]\",\"['LAFARGE' 'COSUMAR' 'LABELVIE' 'ATTIJARI' 'ADDOHA']<br>[0.23 0.31 0.08 0.23 0.15]\",\"['ADDOHA' 'ATTIJARI' 'LABELVIE' 'SAHAM' 'LAFARGE']<br>[0.27 0.31 0.33 0.02 0.08]\",\"['ADDOHA' 'LABELVIE' 'COSUMAR' 'LAFARGE' 'ATTIJARI']<br>[0.3  0.08 0.1  0.22 0.31]\",\"['LAFARGE' 'ATTIJARI' 'ADDOHA' 'LABELVIE' 'COSUMAR']<br>[0.47 0.26 0.04 0.14 0.09]\",\"['LABELVIE' 'ATTIJARI' 'COSUMAR' 'ADDOHA' 'LAFARGE']<br>[0.1  0.36 0.06 0.15 0.33]\",\"['SAHAM' 'LAFARGE' 'LABELVIE' 'ATTIJARI' 'ADDOHA']<br>[0.1  0.32 0.01 0.35 0.22]\",\"['LAFARGE' 'LABELVIE' 'SAHAM' 'ADDOHA' 'ATTIJARI']<br>[0.08 0.01 0.12 0.11 0.67]\",\"['LABELVIE' 'SAHAM' 'ATTIJARI' 'LAFARGE' 'ADDOHA']<br>[0.07 0.02 0.49 0.36 0.08]\",\"['COSUMAR' 'ATTIJARI' 'ADDOHA' 'LAFARGE' 'LABELVIE']<br>[0.1  0.07 0.36 0.43 0.04]\",\"['LAFARGE' 'ATTIJARI' 'COSUMAR' 'ADDOHA' 'LABELVIE']<br>[0.19 0.25 0.18 0.24 0.13]\",\"['ATTIJARI' 'COSUMAR' 'ADDOHA' 'LABELVIE' 'LAFARGE']<br>[0.03 0.18 0.32 0.1  0.37]\",\"['ATTIJARI' 'COSUMAR' 'LABELVIE' 'LAFARGE' 'ADDOHA']<br>[0.11 0.24 0.05 0.39 0.21]\",\"['ATTIJARI' 'LAFARGE' 'COSUMAR' 'LABELVIE' 'ADDOHA']<br>[0.25 0.24 0.13 0.1  0.27]\",\"['SAHAM' 'ADDOHA' 'COSUMAR' 'LABELVIE' 'ATTIJARI']<br>[0.02 0.16 0.21 0.   0.61]\",\"['ADDOHA' 'LABELVIE' 'COSUMAR' 'LAFARGE' 'ATTIJARI']<br>[0.19 0.08 0.24 0.3  0.18]\",\"['LABELVIE' 'COSUMAR' 'ATTIJARI' 'SAHAM' 'ADDOHA']<br>[0.16 0.17 0.3  0.06 0.31]\",\"['COSUMAR' 'ATTIJARI' 'LAFARGE' 'ADDOHA' 'LABELVIE']<br>[0.17 0.47 0.02 0.17 0.17]\",\"['LABELVIE' 'COSUMAR' 'ATTIJARI' 'SAHAM' 'LAFARGE']<br>[0.12 0.12 0.51 0.1  0.16]\",\"['ADDOHA' 'ATTIJARI' 'LABELVIE' 'LAFARGE' 'COSUMAR']<br>[0.18 0.33 0.21 0.22 0.06]\",\"['ATTIJARI' 'SAHAM' 'LAFARGE' 'COSUMAR' 'ADDOHA']<br>[0.38 0.05 0.21 0.03 0.33]\",\"['LAFARGE' 'SAHAM' 'ADDOHA' 'COSUMAR' 'ATTIJARI']<br>[0.3  0.1  0.11 0.11 0.38]\",\"['SAHAM' 'LABELVIE' 'ADDOHA' 'ATTIJARI' 'LAFARGE']<br>[0.01 0.21 0.25 0.29 0.24]\",\"['ATTIJARI' 'LAFARGE' 'SAHAM' 'ADDOHA' 'LABELVIE']<br>[0.41 0.4  0.03 0.02 0.14]\",\"['ADDOHA' 'COSUMAR' 'LABELVIE' 'ATTIJARI' 'LAFARGE']<br>[0.21 0.23 0.12 0.21 0.23]\",\"['LAFARGE' 'ADDOHA' 'LABELVIE' 'COSUMAR' 'ATTIJARI']<br>[0.27 0.21 0.13 0.23 0.15]\",\"['LABELVIE' 'ADDOHA' 'ATTIJARI' 'COSUMAR' 'LAFARGE']<br>[0.12 0.27 0.27 0.17 0.16]\",\"['ADDOHA' 'SAHAM' 'COSUMAR' 'LABELVIE' 'ATTIJARI']<br>[0.36 0.02 0.02 0.2  0.4 ]\",\"['ADDOHA' 'LABELVIE' 'ATTIJARI' 'LAFARGE' 'SAHAM']<br>[0.24 0.2  0.35 0.1  0.11]\",\"['LABELVIE' 'ADDOHA' 'ATTIJARI' 'LAFARGE' 'COSUMAR']<br>[0.22 0.22 0.33 0.12 0.11]\",\"['ATTIJARI' 'LAFARGE' 'LABELVIE' 'ADDOHA' 'COSUMAR']<br>[0.43 0.22 0.13 0.01 0.21]\",\"['LAFARGE' 'LABELVIE' 'ADDOHA' 'ATTIJARI' 'COSUMAR']<br>[0.28 0.19 0.25 0.12 0.16]\",\"['ADDOHA' 'ATTIJARI' 'COSUMAR' 'LAFARGE' 'SAHAM']<br>[0.23 0.27 0.06 0.34 0.09]\",\"['LAFARGE' 'ATTIJARI' 'LABELVIE' 'ADDOHA' 'SAHAM']<br>[0.12 0.33 0.12 0.31 0.12]\",\"['COSUMAR' 'ATTIJARI' 'ADDOHA' 'SAHAM' 'LAFARGE']<br>[0.13 0.28 0.24 0.04 0.31]\",\"['LABELVIE' 'ADDOHA' 'ATTIJARI' 'LAFARGE' 'SAHAM']<br>[0.04 0.33 0.28 0.3  0.04]\",\"['LAFARGE' 'COSUMAR' 'ADDOHA' 'SAHAM' 'ATTIJARI']<br>[0.39 0.17 0.17 0.1  0.16]\",\"['ADDOHA' 'ATTIJARI' 'SAHAM' 'LAFARGE' 'LABELVIE']<br>[0.05 0.51 0.03 0.25 0.16]\",\"['LABELVIE' 'ADDOHA' 'COSUMAR' 'LAFARGE' 'ATTIJARI']<br>[0.24 0.19 0.17 0.06 0.33]\",\"['SAHAM' 'ADDOHA' 'LAFARGE' 'COSUMAR' 'ATTIJARI']<br>[0.03 0.25 0.27 0.24 0.22]\",\"['SAHAM' 'LABELVIE' 'ADDOHA' 'LAFARGE' 'ATTIJARI']<br>[0.22 0.08 0.22 0.04 0.44]\",\"['LABELVIE' 'LAFARGE' 'ADDOHA' 'COSUMAR' 'ATTIJARI']<br>[0.1  0.23 0.23 0.15 0.3 ]\",\"['COSUMAR' 'ATTIJARI' 'LAFARGE' 'ADDOHA' 'LABELVIE']<br>[0.05 0.28 0.2  0.28 0.19]\",\"['LABELVIE' 'COSUMAR' 'ADDOHA' 'ATTIJARI' 'LAFARGE']<br>[0.08 0.22 0.2  0.12 0.37]\",\"['ADDOHA' 'SAHAM' 'LABELVIE' 'LAFARGE' 'ATTIJARI']<br>[0.21 0.18 0.12 0.11 0.38]\",\"['COSUMAR' 'LAFARGE' 'SAHAM' 'ADDOHA' 'ATTIJARI']<br>[0.08 0.27 0.04 0.13 0.47]\",\"['LAFARGE' 'LABELVIE' 'COSUMAR' 'ADDOHA' 'ATTIJARI']<br>[0.25 0.09 0.19 0.18 0.29]\",\"['LABELVIE' 'LAFARGE' 'ADDOHA' 'COSUMAR' 'ATTIJARI']<br>[0.19 0.18 0.16 0.07 0.39]\",\"['COSUMAR' 'LABELVIE' 'ADDOHA' 'ATTIJARI' 'LAFARGE']<br>[0.08 0.28 0.19 0.18 0.27]\",\"['ATTIJARI' 'LABELVIE' 'LAFARGE' 'COSUMAR' 'SAHAM']<br>[0.54 0.21 0.01 0.06 0.18]\",\"['LABELVIE' 'ATTIJARI' 'SAHAM' 'ADDOHA' 'LAFARGE']<br>[0.13 0.49 0.09 0.19 0.1 ]\",\"['ADDOHA' 'LAFARGE' 'LABELVIE' 'SAHAM' 'ATTIJARI']<br>[0.24 0.   0.29 0.01 0.46]\",\"['ATTIJARI' 'LAFARGE' 'SAHAM' 'LABELVIE' 'ADDOHA']<br>[0.55 0.13 0.04 0.2  0.08]\",\"['LABELVIE' 'ATTIJARI' 'LAFARGE' 'ADDOHA' 'COSUMAR']<br>[0.17 0.37 0.14 0.16 0.16]\",\"['LAFARGE' 'ADDOHA' 'ATTIJARI' 'COSUMAR' 'SAHAM']<br>[0.43 0.17 0.15 0.25 0.01]\",\"['ATTIJARI' 'LABELVIE' 'ADDOHA' 'LAFARGE' 'COSUMAR']<br>[0.44 0.21 0.16 0.18 0.02]\",\"['LABELVIE' 'SAHAM' 'ADDOHA' 'ATTIJARI' 'COSUMAR']<br>[0.03 0.11 0.31 0.48 0.07]\",\"['ADDOHA' 'LABELVIE' 'SAHAM' 'ATTIJARI' 'LAFARGE']<br>[0.29 0.12 0.05 0.21 0.34]\",\"['LAFARGE' 'ADDOHA' 'COSUMAR' 'LABELVIE' 'ATTIJARI']<br>[0.24 0.21 0.18 0.18 0.19]\",\"['ADDOHA' 'SAHAM' 'ATTIJARI' 'COSUMAR' 'LAFARGE']<br>[0.13 0.07 0.04 0.23 0.53]\",\"['LAFARGE' 'ATTIJARI' 'SAHAM' 'ADDOHA' 'LABELVIE']<br>[0.18 0.4  0.01 0.32 0.1 ]\",\"['LABELVIE' 'ADDOHA' 'SAHAM' 'ATTIJARI' 'LAFARGE']<br>[0.05 0.25 0.02 0.44 0.24]\",\"['COSUMAR' 'ADDOHA' 'LAFARGE' 'ATTIJARI' 'LABELVIE']<br>[0.16 0.24 0.28 0.25 0.08]\",\"['LAFARGE' 'ADDOHA' 'SAHAM' 'ATTIJARI' 'COSUMAR']<br>[0.38 0.2  0.01 0.26 0.16]\",\"['ADDOHA' 'SAHAM' 'LABELVIE' 'ATTIJARI' 'LAFARGE']<br>[0.21 0.01 0.19 0.28 0.31]\",\"['SAHAM' 'ATTIJARI' 'LAFARGE' 'LABELVIE' 'ADDOHA']<br>[0.08 0.59 0.05 0.06 0.22]\",\"['LABELVIE' 'COSUMAR' 'ATTIJARI' 'ADDOHA' 'LAFARGE']<br>[0.22 0.03 0.32 0.18 0.24]\",\"['SAHAM' 'ATTIJARI' 'LABELVIE' 'ADDOHA' 'LAFARGE']<br>[0.06 0.39 0.05 0.22 0.27]\",\"['LAFARGE' 'ADDOHA' 'COSUMAR' 'ATTIJARI' 'LABELVIE']<br>[0.31 0.23 0.25 0.12 0.08]\",\"['COSUMAR' 'ADDOHA' 'SAHAM' 'ATTIJARI' 'LABELVIE']<br>[0.02 0.19 0.15 0.58 0.07]\",\"['ADDOHA' 'ATTIJARI' 'SAHAM' 'LABELVIE' 'COSUMAR']<br>[0.32 0.65 0.02 0.01 0.01]\",\"['COSUMAR' 'LAFARGE' 'LABELVIE' 'ATTIJARI' 'ADDOHA']<br>[0.09 0.47 0.02 0.22 0.2 ]\",\"['COSUMAR' 'ATTIJARI' 'LAFARGE' 'LABELVIE' 'ADDOHA']<br>[0.18 0.07 0.37 0.13 0.25]\",\"['SAHAM' 'COSUMAR' 'LABELVIE' 'LAFARGE' 'ATTIJARI']<br>[0.02 0.02 0.16 0.06 0.74]\",\"['COSUMAR' 'LAFARGE' 'LABELVIE' 'ATTIJARI' 'ADDOHA']<br>[0.1  0.3  0.18 0.28 0.14]\",\"['COSUMAR' 'LABELVIE' 'ATTIJARI' 'LAFARGE' 'ADDOHA']<br>[0.13 0.01 0.32 0.33 0.21]\",\"['COSUMAR' 'ATTIJARI' 'LAFARGE' 'ADDOHA' 'LABELVIE']<br>[0.11 0.34 0.2  0.29 0.07]\",\"['LAFARGE' 'COSUMAR' 'ADDOHA' 'LABELVIE' 'ATTIJARI']<br>[0.18 0.11 0.15 0.18 0.39]\",\"['LAFARGE' 'COSUMAR' 'LABELVIE' 'ADDOHA' 'ATTIJARI']<br>[0.13 0.03 0.26 0.25 0.33]\",\"['SAHAM' 'ADDOHA' 'COSUMAR' 'LABELVIE' 'ATTIJARI']<br>[0.12 0.2  0.05 0.01 0.62]\",\"['LABELVIE' 'LAFARGE' 'ADDOHA' 'ATTIJARI' 'COSUMAR']<br>[0.2  0.27 0.17 0.19 0.18]\",\"['ADDOHA' 'SAHAM' 'LABELVIE' 'LAFARGE' 'ATTIJARI']<br>[0.24 0.03 0.12 0.23 0.38]\",\"['COSUMAR' 'ADDOHA' 'LAFARGE' 'ATTIJARI' 'LABELVIE']<br>[0.1  0.17 0.32 0.35 0.07]\",\"['LAFARGE' 'ADDOHA' 'SAHAM' 'LABELVIE' 'ATTIJARI']<br>[0.33 0.12 0.05 0.09 0.42]\",\"['SAHAM' 'ATTIJARI' 'ADDOHA' 'LAFARGE' 'COSUMAR']<br>[0.   0.52 0.27 0.09 0.12]\",\"['ADDOHA' 'ATTIJARI' 'LAFARGE' 'COSUMAR' 'LABELVIE']<br>[0.2  0.23 0.3  0.16 0.11]\",\"['COSUMAR' 'ADDOHA' 'LABELVIE' 'LAFARGE' 'ATTIJARI']<br>[0.05 0.27 0.05 0.21 0.41]\",\"['ADDOHA' 'LABELVIE' 'LAFARGE' 'SAHAM' 'ATTIJARI']<br>[0.18 0.11 0.16 0.09 0.46]\",\"['COSUMAR' 'ATTIJARI' 'LAFARGE' 'ADDOHA' 'LABELVIE']<br>[0.06 0.36 0.19 0.16 0.22]\",\"['LABELVIE' 'ATTIJARI' 'ADDOHA' 'COSUMAR' 'LAFARGE']<br>[0.03 0.2  0.22 0.03 0.52]\",\"['LAFARGE' 'LABELVIE' 'ATTIJARI' 'ADDOHA' 'COSUMAR']<br>[0.19 0.16 0.34 0.18 0.13]\",\"['LAFARGE' 'ADDOHA' 'LABELVIE' 'ATTIJARI' 'SAHAM']<br>[0.23 0.19 0.11 0.34 0.12]\",\"['ATTIJARI' 'LAFARGE' 'COSUMAR' 'ADDOHA' 'LABELVIE']<br>[0.06 0.52 0.23 0.11 0.08]\",\"['ADDOHA' 'ATTIJARI' 'LAFARGE' 'COSUMAR' 'SAHAM']<br>[0.16 0.52 0.24 0.04 0.04]\",\"['ATTIJARI' 'LAFARGE' 'LABELVIE' 'COSUMAR' 'ADDOHA']<br>[0.27 0.36 0.07 0.01 0.28]\",\"['COSUMAR' 'LAFARGE' 'ATTIJARI' 'ADDOHA' 'LABELVIE']<br>[0.1  0.24 0.31 0.16 0.18]\",\"['LABELVIE' 'ADDOHA' 'ATTIJARI' 'LAFARGE' 'COSUMAR']<br>[0.09 0.2  0.14 0.47 0.1 ]\",\"['LAFARGE' 'COSUMAR' 'ADDOHA' 'SAHAM' 'ATTIJARI']<br>[0.11 0.14 0.12 0.05 0.58]\",\"['LAFARGE' 'ATTIJARI' 'COSUMAR' 'ADDOHA' 'SAHAM']<br>[0.46 0.17 0.23 0.11 0.04]\",\"['LAFARGE' 'SAHAM' 'COSUMAR' 'ATTIJARI' 'ADDOHA']<br>[0.42 0.05 0.1  0.24 0.19]\",\"['COSUMAR' 'ADDOHA' 'ATTIJARI' 'LAFARGE' 'SAHAM']<br>[0.08 0.18 0.64 0.08 0.03]\",\"['LABELVIE' 'ATTIJARI' 'ADDOHA' 'COSUMAR' 'LAFARGE']<br>[0.17 0.19 0.26 0.11 0.26]\",\"['ATTIJARI' 'ADDOHA' 'COSUMAR' 'LAFARGE' 'LABELVIE']<br>[0.15 0.26 0.11 0.3  0.18]\",\"['ATTIJARI' 'LABELVIE' 'COSUMAR' 'ADDOHA' 'LAFARGE']<br>[0.21 0.06 0.21 0.18 0.34]\",\"['LABELVIE' 'COSUMAR' 'ATTIJARI' 'ADDOHA' 'LAFARGE']<br>[0.05 0.06 0.27 0.27 0.36]\",\"['LAFARGE' 'LABELVIE' 'ATTIJARI' 'SAHAM' 'ADDOHA']<br>[0.2  0.   0.43 0.15 0.22]\",\"['LAFARGE' 'ATTIJARI' 'COSUMAR' 'LABELVIE' 'ADDOHA']<br>[0.28 0.25 0.17 0.05 0.24]\",\"['ADDOHA' 'ATTIJARI' 'COSUMAR' 'LABELVIE' 'LAFARGE']<br>[0.26 0.35 0.08 0.15 0.15]\",\"['ATTIJARI' 'COSUMAR' 'SAHAM' 'LAFARGE' 'ADDOHA']<br>[0.27 0.08 0.09 0.29 0.27]\",\"['LAFARGE' 'ATTIJARI' 'ADDOHA' 'LABELVIE' 'COSUMAR']<br>[0.16 0.4  0.33 0.11 0.  ]\",\"['ATTIJARI' 'ADDOHA' 'LAFARGE' 'COSUMAR' 'LABELVIE']<br>[0.29 0.15 0.32 0.04 0.19]\",\"['LAFARGE' 'LABELVIE' 'ADDOHA' 'ATTIJARI' 'COSUMAR']<br>[0.54 0.03 0.19 0.01 0.24]\",\"['LABELVIE' 'ADDOHA' 'LAFARGE' 'COSUMAR' 'ATTIJARI']<br>[0.15 0.24 0.31 0.04 0.27]\",\"['ADDOHA' 'ATTIJARI' 'COSUMAR' 'LAFARGE' 'LABELVIE']<br>[0.14 0.26 0.18 0.32 0.11]\",\"['COSUMAR' 'ATTIJARI' 'LABELVIE' 'ADDOHA' 'LAFARGE']<br>[0.04 0.46 0.13 0.21 0.16]\",\"['ADDOHA' 'LAFARGE' 'LABELVIE' 'ATTIJARI' 'COSUMAR']<br>[0.28 0.3  0.07 0.29 0.06]\",\"['LABELVIE' 'ADDOHA' 'ATTIJARI' 'LAFARGE' 'COSUMAR']<br>[0.15 0.18 0.22 0.35 0.1 ]\",\"['COSUMAR' 'LABELVIE' 'ADDOHA' 'LAFARGE' 'ATTIJARI']<br>[0.11 0.01 0.16 0.63 0.09]\",\"['COSUMAR' 'LABELVIE' 'ADDOHA' 'SAHAM' 'ATTIJARI']<br>[0.03 0.17 0.28 0.01 0.5 ]\",\"['ADDOHA' 'ATTIJARI' 'COSUMAR' 'LAFARGE' 'LABELVIE']<br>[0.18 0.26 0.14 0.23 0.18]\",\"['COSUMAR' 'ADDOHA' 'SAHAM' 'ATTIJARI' 'LAFARGE']<br>[0.04 0.22 0.04 0.41 0.29]\",\"['LAFARGE' 'ADDOHA' 'LABELVIE' 'SAHAM' 'ATTIJARI']<br>[0.   0.05 0.29 0.02 0.64]\",\"['LABELVIE' 'LAFARGE' 'ADDOHA' 'ATTIJARI' 'COSUMAR']<br>[0.19 0.29 0.26 0.12 0.13]\",\"['COSUMAR' 'SAHAM' 'LAFARGE' 'ADDOHA' 'ATTIJARI']<br>[0.05 0.06 0.32 0.26 0.31]\",\"['ATTIJARI' 'COSUMAR' 'ADDOHA' 'SAHAM' 'LAFARGE']<br>[0.22 0.08 0.2  0.09 0.41]\",\"['LAFARGE' 'COSUMAR' 'ATTIJARI' 'LABELVIE' 'ADDOHA']<br>[0.35 0.11 0.29 0.04 0.22]\",\"['ATTIJARI' 'LAFARGE' 'LABELVIE' 'COSUMAR' 'ADDOHA']<br>[0.25 0.27 0.12 0.12 0.24]\",\"['ADDOHA' 'ATTIJARI' 'LAFARGE' 'LABELVIE' 'SAHAM']<br>[0.25 0.32 0.29 0.11 0.02]\",\"['ADDOHA' 'LAFARGE' 'COSUMAR' 'SAHAM' 'ATTIJARI']<br>[0.25 0.42 0.13 0.03 0.17]\",\"['ADDOHA' 'ATTIJARI' 'LAFARGE' 'COSUMAR' 'LABELVIE']<br>[0.13 0.26 0.4  0.14 0.07]\",\"['ADDOHA' 'LAFARGE' 'COSUMAR' 'ATTIJARI' 'LABELVIE']<br>[0.25 0.26 0.15 0.28 0.06]\",\"['LAFARGE' 'LABELVIE' 'SAHAM' 'ATTIJARI' 'ADDOHA']<br>[0.32 0.03 0.08 0.41 0.16]\",\"['ADDOHA' 'LAFARGE' 'LABELVIE' 'ATTIJARI' 'COSUMAR']<br>[0.21 0.29 0.17 0.25 0.08]\",\"['ADDOHA' 'LABELVIE' 'LAFARGE' 'SAHAM' 'ATTIJARI']<br>[0.17 0.18 0.21 0.   0.44]\",\"['ATTIJARI' 'COSUMAR' 'LAFARGE' 'LABELVIE' 'ADDOHA']<br>[0.32 0.13 0.28 0.08 0.19]\",\"['SAHAM' 'LAFARGE' 'ADDOHA' 'COSUMAR' 'ATTIJARI']<br>[0.02 0.44 0.22 0.01 0.31]\",\"['LABELVIE' 'SAHAM' 'ADDOHA' 'LAFARGE' 'ATTIJARI']<br>[0.06 0.09 0.23 0.25 0.37]\",\"['SAHAM' 'LAFARGE' 'ATTIJARI' 'COSUMAR' 'ADDOHA']<br>[0.05 0.08 0.51 0.05 0.31]\",\"['ATTIJARI' 'LABELVIE' 'LAFARGE' 'ADDOHA' 'COSUMAR']<br>[0.26 0.07 0.3  0.27 0.09]\",\"['SAHAM' 'LAFARGE' 'LABELVIE' 'ATTIJARI' 'ADDOHA']<br>[0.03 0.3  0.   0.36 0.31]\",\"['ADDOHA' 'LAFARGE' 'LABELVIE' 'COSUMAR' 'ATTIJARI']<br>[0.23 0.34 0.07 0.1  0.27]\",\"['LAFARGE' 'ADDOHA' 'COSUMAR' 'SAHAM' 'ATTIJARI']<br>[0.04 0.09 0.01 0.18 0.69]\",\"['LAFARGE' 'ADDOHA' 'ATTIJARI' 'LABELVIE' 'SAHAM']<br>[0.33 0.25 0.34 0.06 0.01]\",\"['LAFARGE' 'ADDOHA' 'LABELVIE' 'COSUMAR' 'ATTIJARI']<br>[0.4  0.22 0.02 0.11 0.26]\",\"['LAFARGE' 'SAHAM' 'ADDOHA' 'ATTIJARI' 'COSUMAR']<br>[0.44 0.02 0.14 0.23 0.17]\",\"['LAFARGE' 'ADDOHA' 'COSUMAR' 'SAHAM' 'ATTIJARI']<br>[0.34 0.17 0.13 0.04 0.32]\",\"['LABELVIE' 'LAFARGE' 'SAHAM' 'ADDOHA' 'ATTIJARI']<br>[0.21 0.04 0.04 0.27 0.44]\",\"['ADDOHA' 'LAFARGE' 'COSUMAR' 'ATTIJARI' 'LABELVIE']<br>[0.17 0.24 0.14 0.36 0.09]\",\"['SAHAM' 'LABELVIE' 'ADDOHA' 'COSUMAR' 'ATTIJARI']<br>[0.01 0.26 0.1  0.07 0.55]\",\"['LABELVIE' 'LAFARGE' 'ADDOHA' 'ATTIJARI' 'COSUMAR']<br>[0.06 0.32 0.2  0.39 0.03]\",\"['ADDOHA' 'LAFARGE' 'ATTIJARI' 'LABELVIE' 'COSUMAR']<br>[0.13 0.39 0.23 0.12 0.13]\",\"['ATTIJARI' 'ADDOHA' 'COSUMAR' 'LABELVIE' 'LAFARGE']<br>[0.36 0.19 0.13 0.12 0.2 ]\",\"['COSUMAR' 'ATTIJARI' 'LABELVIE' 'LAFARGE' 'ADDOHA']<br>[0.22 0.16 0.03 0.39 0.2 ]\",\"['LABELVIE' 'SAHAM' 'LAFARGE' 'ADDOHA' 'ATTIJARI']<br>[0.03 0.05 0.27 0.3  0.34]\",\"['COSUMAR' 'LAFARGE' 'ATTIJARI' 'ADDOHA' 'LABELVIE']<br>[0.01 0.19 0.42 0.19 0.19]\",\"['LAFARGE' 'ATTIJARI' 'LABELVIE' 'COSUMAR' 'ADDOHA']<br>[0.23 0.3  0.13 0.16 0.18]\",\"['LAFARGE' 'ADDOHA' 'COSUMAR' 'ATTIJARI' 'LABELVIE']<br>[0.28 0.2  0.04 0.4  0.07]\",\"['LABELVIE' 'ADDOHA' 'ATTIJARI' 'LAFARGE' 'COSUMAR']<br>[0.18 0.18 0.18 0.38 0.09]\",\"['ADDOHA' 'ATTIJARI' 'LABELVIE' 'COSUMAR' 'LAFARGE']<br>[0.24 0.2  0.02 0.13 0.41]\",\"['LAFARGE' 'COSUMAR' 'ADDOHA' 'LABELVIE' 'ATTIJARI']<br>[0.23 0.03 0.17 0.08 0.5 ]\",\"['LAFARGE' 'LABELVIE' 'ATTIJARI' 'COSUMAR' 'ADDOHA']<br>[0.33 0.09 0.21 0.15 0.22]\",\"['LAFARGE' 'COSUMAR' 'ADDOHA' 'ATTIJARI' 'LABELVIE']<br>[0.33 0.12 0.22 0.29 0.05]\",\"['LAFARGE' 'ADDOHA' 'ATTIJARI' 'COSUMAR' 'LABELVIE']<br>[0.37 0.21 0.17 0.19 0.06]\",\"['ADDOHA' 'ATTIJARI' 'LAFARGE' 'LABELVIE' 'COSUMAR']<br>[0.28 0.35 0.27 0.08 0.02]\",\"['LABELVIE' 'ATTIJARI' 'LAFARGE' 'COSUMAR' 'ADDOHA']<br>[0.06 0.2  0.38 0.18 0.18]\",\"['ADDOHA' 'LABELVIE' 'ATTIJARI' 'LAFARGE' 'COSUMAR']<br>[0.11 0.08 0.56 0.21 0.03]\",\"['LABELVIE' 'ADDOHA' 'COSUMAR' 'ATTIJARI' 'LAFARGE']<br>[0.17 0.19 0.13 0.24 0.27]\",\"['SAHAM' 'ADDOHA' 'LAFARGE' 'LABELVIE' 'ATTIJARI']<br>[0.09 0.2  0.33 0.03 0.35]\",\"['SAHAM' 'ADDOHA' 'ATTIJARI' 'LABELVIE' 'LAFARGE']<br>[0.08 0.23 0.33 0.11 0.25]\",\"['LAFARGE' 'ATTIJARI' 'ADDOHA' 'COSUMAR' 'LABELVIE']<br>[0.12 0.49 0.09 0.08 0.22]\",\"['LAFARGE' 'COSUMAR' 'LABELVIE' 'ADDOHA' 'ATTIJARI']<br>[0.34 0.02 0.12 0.28 0.24]\",\"['COSUMAR' 'LAFARGE' 'SAHAM' 'ATTIJARI' 'ADDOHA']<br>[0.05 0.31 0.04 0.47 0.13]\",\"['ADDOHA' 'SAHAM' 'LAFARGE' 'LABELVIE' 'ATTIJARI']<br>[0.23 0.09 0.13 0.09 0.45]\",\"['SAHAM' 'COSUMAR' 'ATTIJARI' 'ADDOHA' 'LAFARGE']<br>[0.02 0.08 0.3  0.25 0.35]\",\"['LABELVIE' 'ATTIJARI' 'COSUMAR' 'ADDOHA' 'LAFARGE']<br>[0.1  0.27 0.05 0.18 0.4 ]\",\"['LABELVIE' 'ADDOHA' 'ATTIJARI' 'COSUMAR' 'LAFARGE']<br>[0.06 0.28 0.06 0.12 0.48]\",\"['ADDOHA' 'ATTIJARI' 'SAHAM' 'LABELVIE' 'LAFARGE']<br>[0.19 0.34 0.1  0.06 0.31]\",\"['LABELVIE' 'ADDOHA' 'COSUMAR' 'ATTIJARI' 'LAFARGE']<br>[0.09 0.2  0.03 0.39 0.29]\",\"['ATTIJARI' 'LAFARGE' 'SAHAM' 'ADDOHA' 'LABELVIE']<br>[0.4  0.24 0.02 0.27 0.07]\",\"['LAFARGE' 'SAHAM' 'COSUMAR' 'ADDOHA' 'ATTIJARI']<br>[0.4  0.03 0.11 0.24 0.21]\",\"['COSUMAR' 'LABELVIE' 'LAFARGE' 'ATTIJARI' 'ADDOHA']<br>[0.15 0.12 0.34 0.14 0.25]\",\"['LABELVIE' 'COSUMAR' 'LAFARGE' 'ATTIJARI' 'ADDOHA']<br>[0.11 0.1  0.24 0.3  0.24]\",\"['ATTIJARI' 'LAFARGE' 'SAHAM' 'ADDOHA' 'LABELVIE']<br>[0.43 0.26 0.02 0.21 0.08]\",\"['ADDOHA' 'ATTIJARI' 'COSUMAR' 'SAHAM' 'LABELVIE']<br>[0.25 0.54 0.15 0.02 0.05]\",\"['LAFARGE' 'LABELVIE' 'ADDOHA' 'ATTIJARI' 'COSUMAR']<br>[0.44 0.02 0.14 0.25 0.16]\",\"['ADDOHA' 'ATTIJARI' 'COSUMAR' 'LABELVIE' 'LAFARGE']<br>[0.2  0.48 0.06 0.15 0.11]\",\"['SAHAM' 'LAFARGE' 'ATTIJARI' 'ADDOHA' 'COSUMAR']<br>[0.01 0.52 0.11 0.12 0.24]\",\"['ATTIJARI' 'LABELVIE' 'ADDOHA' 'LAFARGE' 'SAHAM']<br>[0.33 0.04 0.24 0.36 0.04]\",\"['LAFARGE' 'SAHAM' 'ATTIJARI' 'ADDOHA' 'LABELVIE']<br>[0.29 0.03 0.33 0.25 0.1 ]\",\"['LABELVIE' 'ADDOHA' 'LAFARGE' 'ATTIJARI' 'COSUMAR']<br>[0.02 0.29 0.28 0.42 0.  ]\",\"['ADDOHA' 'LAFARGE' 'ATTIJARI' 'COSUMAR' 'LABELVIE']<br>[0.24 0.3  0.36 0.06 0.05]\",\"['ATTIJARI' 'LAFARGE' 'ADDOHA' 'LABELVIE' 'SAHAM']<br>[0.58 0.13 0.06 0.13 0.1 ]\",\"['SAHAM' 'ATTIJARI' 'ADDOHA' 'LAFARGE' 'COSUMAR']<br>[0.04 0.56 0.21 0.15 0.03]\",\"['ATTIJARI' 'COSUMAR' 'LAFARGE' 'LABELVIE' 'ADDOHA']<br>[0.38 0.04 0.27 0.12 0.17]\",\"['ATTIJARI' 'ADDOHA' 'LAFARGE' 'LABELVIE' 'COSUMAR']<br>[0.32 0.2  0.37 0.03 0.09]\",\"['ATTIJARI' 'COSUMAR' 'ADDOHA' 'LABELVIE' 'LAFARGE']<br>[0.27 0.11 0.21 0.14 0.27]\",\"['LABELVIE' 'SAHAM' 'ATTIJARI' 'ADDOHA' 'LAFARGE']<br>[0.12 0.08 0.47 0.17 0.15]\",\"['COSUMAR' 'ATTIJARI' 'LAFARGE' 'LABELVIE' 'ADDOHA']<br>[0.09 0.27 0.29 0.12 0.23]\",\"['ATTIJARI' 'LAFARGE' 'COSUMAR' 'LABELVIE' 'ADDOHA']<br>[0.29 0.25 0.09 0.09 0.27]\",\"['LABELVIE' 'ATTIJARI' 'COSUMAR' 'LAFARGE' 'ADDOHA']<br>[0.05 0.07 0.22 0.4  0.25]\",\"['COSUMAR' 'LABELVIE' 'ATTIJARI' 'ADDOHA' 'LAFARGE']<br>[0.03 0.13 0.34 0.24 0.26]\",\"['LAFARGE' 'ATTIJARI' 'COSUMAR' 'LABELVIE' 'ADDOHA']<br>[0.25 0.35 0.02 0.16 0.22]\",\"['COSUMAR' 'LAFARGE' 'ATTIJARI' 'ADDOHA' 'LABELVIE']<br>[0.01 0.19 0.59 0.18 0.04]\",\"['ATTIJARI' 'COSUMAR' 'LAFARGE' 'ADDOHA' 'LABELVIE']<br>[0.57 0.06 0.06 0.25 0.05]\",\"['ADDOHA' 'LAFARGE' 'LABELVIE' 'ATTIJARI' 'COSUMAR']<br>[0.13 0.33 0.12 0.35 0.07]\",\"['SAHAM' 'LAFARGE' 'ATTIJARI' 'ADDOHA' 'COSUMAR']<br>[0.   0.15 0.53 0.24 0.08]\"],\"x\":[0.2335388552213893,0.264651402665152,0.24719616700974978,0.22922991543393378,0.26294759838220916,0.24549414576350015,0.2501888055624163,0.2285830715719188,0.2461439624023679,0.22830382761677082,0.22565102039999713,0.21530032513483863,0.21192791817703271,0.25596006801410176,0.26236865659816677,0.234360346329789,0.24875801065865694,0.22570721987523243,0.2431109679104723,0.2616949222896668,0.22959809698808523,0.2347914551347729,0.24330649101055776,0.21499236395904486,0.24183676888471706,0.22689144235832384,0.2279286614781042,0.22072010002437423,0.21192390313781742,0.25935390542351233,0.283619575101074,0.23954738110928753,0.22362436173381592,0.24334036170428025,0.23114033795174227,0.22039526457931746,0.23275024612611428,0.2357397508850374,0.3163986856766275,0.25734602423257047,0.21048366225244136,0.2239218130828582,0.20839047504866892,0.20652803571696846,0.22166264095288732,0.30638432536343774,0.2133148891813203,0.2464332161878992,0.2695080500349221,0.2761777784377552,0.23250458865586537,0.24694729315217206,0.24070582059699872,0.22875882959191787,0.24529097178696285,0.21858220580198273,0.21189880500805566,0.22779793501326134,0.26212893604976656,0.24693139388675314,0.23882182608482766,0.25420606955374514,0.21098535882049246,0.22371930581283794,0.24467775503693448,0.22438521044908807,0.22813956148353762,0.21146560835468206,0.2676883992828035,0.24285402235479595,0.22073151326899015,0.2740311898017625,0.22712953201518638,0.2289330047375347,0.20683148447338756,0.2546552225856014,0.2575074136352788,0.2251855391674798,0.24448736915837663,0.21819392853638594,0.29718651217945097,0.2708991701396081,0.27024986921522537,0.2812293186138876,0.24316147875722294,0.2086037906446133,0.25352752760984404,0.2807839017433612,0.21711733908200515,0.21588517061229662,0.20625046416796905,0.2485802599416502,0.25113000356694626,0.22023405968386536,0.21743437532233204,0.22452917707612083,0.29539737203326555,0.23196035725335826,0.24122930419269326,0.2098954007923692,0.29979085999620225,0.3165375157247918,0.21187503001363317,0.2064292391366043,0.33269166612245754,0.22336055643055094,0.22684389097201083,0.2366484635360429,0.2439464621250857,0.23984390541082232,0.3087314718261172,0.21500581129604074,0.24122455917154123,0.2304399144920882,0.24420089214909924,0.2797008967349009,0.2158819448097892,0.2481389165579594,0.2615358524898365,0.2398650345549012,0.2113045510002565,0.23589882880207133,0.23822258417460063,0.20541833751634755,0.2677504602415314,0.22128693451529544,0.22860681975928918,0.2065619578372202,0.2924232650083591,0.20983853363338373,0.21573704921492134,0.3054509704809113,0.2154767762657437,0.21172370040074806,0.21366735260430558,0.22055168694307836,0.25662928189885104,0.2197801055253035,0.2390294679049499,0.2263230675202283,0.2502599413091061,0.22483683318970435,0.2052564309874524,0.22120807024358605,0.21892336531704815,0.2572544084360313,0.22537644415069574,0.21401491808599804,0.2063163234615712,0.2766561418254279,0.22304007114670063,0.24488878747119608,0.30936417252753706,0.21073070702353408,0.22897100200168397,0.2151850494094713,0.22182231590896323,0.21944900488404698,0.22978621369851335,0.209853164129188,0.2166007809985834,0.2242018731718506,0.24381115185725846,0.21941076871223048,0.2515883471747344,0.22771597320719691,0.22505369031930433,0.24046558817843927,0.27961535002034277,0.22037636828055424,0.2378875602016214,0.21942630899067317,0.32852538720689595,0.23185435181320044,0.21666170782734623,0.21396350599305053,0.2276481922080476,0.2635405338701774,0.23542216419196157,0.28904956994872383,0.23759085353737577,0.2137089050851289,0.23735827812357652,0.20860529075025933,0.2363421084803633,0.2487840042070795,0.22673877007612067,0.24085156334154453,0.2111083289801495,0.21093347042000968,0.2619208366584961,0.2136348791971543,0.22213260710861435,0.2090010299415433,0.23549139973071875,0.21144926676287817,0.277971587750459,0.2190805709076835,0.23386206090858686,0.2336175812766028,0.2668307970293834,0.2188565071688212,0.25613683187341635,0.2607160347636817,0.22490104045072007,0.21880011623115111,0.20604565023965257,0.23413815806204966,0.23899449153267482,0.24506642214545762,0.21278838671017458,0.20877385440704865,0.22731826811773226,0.2483966835754638,0.2882390635783752,0.21511825101707524,0.2633710779317901,0.20612982037723282,0.22931120321714338,0.23188511246960825,0.24716777752496005,0.23365131418764234,0.2900217785653848,0.2828999791289424,0.23817290062258664,0.22533285219224974,0.2218077247237275,0.2631204317348859,0.22151037187744618,0.22670033780927445,0.2057288149549221,0.23255665208155682,0.23423591344453226,0.285689007608232,0.28955730686070874,0.23153592801473633,0.2748335106569294],\"y\":[0.09291024467134401,0.18213561733040792,0.1549382352236489,0.15842345768503058,0.19211246116071795,0.1711270122192306,0.18680308907427656,0.1008334890020818,0.1827444103775041,0.10563465363851307,0.09126366989832553,0.11609030707962997,0.12796271112836433,0.20710662037109895,0.21856735040887787,0.170927565211527,0.1962507941609199,0.1338487996941084,0.17422906896063725,0.2087097699592523,0.17321116319807217,0.17562242810153011,0.17952374243417374,0.13394183353473055,0.17673898261635995,0.15288317381807257,0.16334529859451646,0.14016782840866077,0.08502821976441766,0.21229848181121205,0.2426677134663264,0.17692037236484218,0.14546829995736513,0.18297079041309366,0.1736298476210386,0.14278981592870607,0.17924487845929188,0.1815584317764973,0.27547185838839794,0.20975976528126378,0.10113133738045614,0.15759207214343313,0.09372580906649002,0.10835417045818953,0.15615085493674585,0.25779543609312217,0.1323878636749461,0.18433331602956715,0.22250124807791405,0.22527347477132176,0.17669270541489002,0.1957586368995649,0.18512961157505262,0.1686285759196674,0.18747943194511102,0.14373770077772566,0.12576550997920574,0.16364880710575258,0.21346760689960892,0.1943548328060609,0.18443772392918098,0.19631198720977916,0.12077688699303679,0.15978724979310432,0.18911608325837465,0.16159350095969885,0.16616373613689375,0.12509305469320917,0.22180290275440495,0.1852678822418481,0.144283460850737,0.2231130843171661,0.16757626098247896,0.16932439912360425,0.11358293057083188,0.202046572822918,0.21099007591564897,0.16194703994485546,0.1953431805411841,0.13623555804865767,0.24466643038801145,0.22996326200885214,0.2266043091691383,0.23959275719931142,0.19042380633014724,0.11635025707757884,0.208360991740533,0.23342516270070404,0.14318457329298423,0.1397652743056118,0.08212500638863768,0.20132658626110544,0.2066771326087747,0.15414061049587202,0.1478908928445804,0.16164913520111365,0.25728503093712224,0.17513918617541105,0.1924782547807167,0.11693079472614351,0.2582176813487929,0.27697918890262435,0.13508191652854712,0.10042857677666957,0.2899328009224216,0.1594124727455521,0.16734897708507865,0.18194653894215385,0.19385639455568235,0.18512859301469797,0.26670524468195295,0.13610292940289567,0.19317527467765502,0.17538565116952168,0.19499493011266328,0.2349777214580063,0.14559774720295093,0.201424657591303,0.21892179262287154,0.18782295133328575,0.12780361539376797,0.1819451131112247,0.1841464375157989,0.08740898019124159,0.2249159849550045,0.15656044922744194,0.17026305921628754,0.11503678840374029,0.24731491713796866,0.11844346002506033,0.14515566656295098,0.2646403491549476,0.1401489718792503,0.12783880889933413,0.13744405135230953,0.15645889620510237,0.2084984189673862,0.15203250966108453,0.18736013915550728,0.162809513504582,0.20302223298055252,0.16206672043487408,0.0732425602341111,0.15784028734063826,0.15043166098433167,0.2148420141525297,0.16576198539472728,0.14084531470141956,0.09064111596273153,0.2357669717355974,0.15838648155981902,0.19661466255200322,0.2674968621572277,0.1192695936803393,0.17080241333865975,0.14132327209093254,0.15959034393173246,0.15387596758612493,0.17442359689287457,0.12697881810886313,0.1465448391151727,0.16154491571608404,0.19466392408055022,0.15344532240649278,0.20672885960026915,0.17041450646772505,0.16352026318347446,0.19011171191343856,0.2361411941275774,0.15558315524644026,0.18426609697180568,0.15540970504545967,0.28358006680871306,0.17783944380927602,0.14830178575370628,0.137732586347458,0.16774495136180345,0.22002018614845636,0.18157720560139576,0.24619749243356825,0.18748651416894482,0.1388823338299898,0.1849489418541533,0.12105262275835907,0.18243828383259109,0.20305830101192146,0.16619427303034778,0.1926340061050314,0.12889275273152564,0.1319124888579515,0.2202498338499006,0.1406459793163928,0.16020567605492683,0.1252279277257533,0.1832658697239147,0.13409555005345974,0.23718073486971883,0.15176183403555926,0.17932057756774797,0.1795306726931485,0.22161733518545598,0.1503474580879411,0.2097532356809848,0.21750474004791592,0.16409778836168137,0.1532957262392478,0.09605895039188556,0.17966333106959975,0.19008104802412193,0.19816727323855973,0.13677759298870792,0.12213931862892997,0.16958017083218538,0.20357184869132985,0.24332203972977737,0.14145157128092267,0.22158260730782184,0.1006411200471606,0.17306550672825083,0.17818778708812164,0.19938896806942688,0.18092557155096567,0.2481483588921083,0.24274263330289833,0.18838300751496614,0.1661989565411486,0.15931002861378196,0.22088058271448596,0.15944181303307572,0.16774820755707484,0.09985707791814546,0.17954989501124824,0.18198797878844686,0.24725091025547352,0.24999169136048416,0.17584122079184555,0.232369904364903],\"type\":\"scatter\"}],                        {\"template\":{\"data\":{\"barpolar\":[{\"marker\":{\"line\":{\"color\":\"white\",\"width\":0.5},\"pattern\":{\"fillmode\":\"overlay\",\"size\":10,\"solidity\":0.2}},\"type\":\"barpolar\"}],\"bar\":[{\"error_x\":{\"color\":\"#2a3f5f\"},\"error_y\":{\"color\":\"#2a3f5f\"},\"marker\":{\"line\":{\"color\":\"white\",\"width\":0.5},\"pattern\":{\"fillmode\":\"overlay\",\"size\":10,\"solidity\":0.2}},\"type\":\"bar\"}],\"carpet\":[{\"aaxis\":{\"endlinecolor\":\"#2a3f5f\",\"gridcolor\":\"#C8D4E3\",\"linecolor\":\"#C8D4E3\",\"minorgridcolor\":\"#C8D4E3\",\"startlinecolor\":\"#2a3f5f\"},\"baxis\":{\"endlinecolor\":\"#2a3f5f\",\"gridcolor\":\"#C8D4E3\",\"linecolor\":\"#C8D4E3\",\"minorgridcolor\":\"#C8D4E3\",\"startlinecolor\":\"#2a3f5f\"},\"type\":\"carpet\"}],\"choropleth\":[{\"colorbar\":{\"outlinewidth\":0,\"ticks\":\"\"},\"type\":\"choropleth\"}],\"contourcarpet\":[{\"colorbar\":{\"outlinewidth\":0,\"ticks\":\"\"},\"type\":\"contourcarpet\"}],\"contour\":[{\"colorbar\":{\"outlinewidth\":0,\"ticks\":\"\"},\"colorscale\":[[0.0,\"#0d0887\"],[0.1111111111111111,\"#46039f\"],[0.2222222222222222,\"#7201a8\"],[0.3333333333333333,\"#9c179e\"],[0.4444444444444444,\"#bd3786\"],[0.5555555555555556,\"#d8576b\"],[0.6666666666666666,\"#ed7953\"],[0.7777777777777778,\"#fb9f3a\"],[0.8888888888888888,\"#fdca26\"],[1.0,\"#f0f921\"]],\"type\":\"contour\"}],\"heatmapgl\":[{\"colorbar\":{\"outlinewidth\":0,\"ticks\":\"\"},\"colorscale\":[[0.0,\"#0d0887\"],[0.1111111111111111,\"#46039f\"],[0.2222222222222222,\"#7201a8\"],[0.3333333333333333,\"#9c179e\"],[0.4444444444444444,\"#bd3786\"],[0.5555555555555556,\"#d8576b\"],[0.6666666666666666,\"#ed7953\"],[0.7777777777777778,\"#fb9f3a\"],[0.8888888888888888,\"#fdca26\"],[1.0,\"#f0f921\"]],\"type\":\"heatmapgl\"}],\"heatmap\":[{\"colorbar\":{\"outlinewidth\":0,\"ticks\":\"\"},\"colorscale\":[[0.0,\"#0d0887\"],[0.1111111111111111,\"#46039f\"],[0.2222222222222222,\"#7201a8\"],[0.3333333333333333,\"#9c179e\"],[0.4444444444444444,\"#bd3786\"],[0.5555555555555556,\"#d8576b\"],[0.6666666666666666,\"#ed7953\"],[0.7777777777777778,\"#fb9f3a\"],[0.8888888888888888,\"#fdca26\"],[1.0,\"#f0f921\"]],\"type\":\"heatmap\"}],\"histogram2dcontour\":[{\"colorbar\":{\"outlinewidth\":0,\"ticks\":\"\"},\"colorscale\":[[0.0,\"#0d0887\"],[0.1111111111111111,\"#46039f\"],[0.2222222222222222,\"#7201a8\"],[0.3333333333333333,\"#9c179e\"],[0.4444444444444444,\"#bd3786\"],[0.5555555555555556,\"#d8576b\"],[0.6666666666666666,\"#ed7953\"],[0.7777777777777778,\"#fb9f3a\"],[0.8888888888888888,\"#fdca26\"],[1.0,\"#f0f921\"]],\"type\":\"histogram2dcontour\"}],\"histogram2d\":[{\"colorbar\":{\"outlinewidth\":0,\"ticks\":\"\"},\"colorscale\":[[0.0,\"#0d0887\"],[0.1111111111111111,\"#46039f\"],[0.2222222222222222,\"#7201a8\"],[0.3333333333333333,\"#9c179e\"],[0.4444444444444444,\"#bd3786\"],[0.5555555555555556,\"#d8576b\"],[0.6666666666666666,\"#ed7953\"],[0.7777777777777778,\"#fb9f3a\"],[0.8888888888888888,\"#fdca26\"],[1.0,\"#f0f921\"]],\"type\":\"histogram2d\"}],\"histogram\":[{\"marker\":{\"pattern\":{\"fillmode\":\"overlay\",\"size\":10,\"solidity\":0.2}},\"type\":\"histogram\"}],\"mesh3d\":[{\"colorbar\":{\"outlinewidth\":0,\"ticks\":\"\"},\"type\":\"mesh3d\"}],\"parcoords\":[{\"line\":{\"colorbar\":{\"outlinewidth\":0,\"ticks\":\"\"}},\"type\":\"parcoords\"}],\"pie\":[{\"automargin\":true,\"type\":\"pie\"}],\"scatter3d\":[{\"line\":{\"colorbar\":{\"outlinewidth\":0,\"ticks\":\"\"}},\"marker\":{\"colorbar\":{\"outlinewidth\":0,\"ticks\":\"\"}},\"type\":\"scatter3d\"}],\"scattercarpet\":[{\"marker\":{\"colorbar\":{\"outlinewidth\":0,\"ticks\":\"\"}},\"type\":\"scattercarpet\"}],\"scattergeo\":[{\"marker\":{\"colorbar\":{\"outlinewidth\":0,\"ticks\":\"\"}},\"type\":\"scattergeo\"}],\"scattergl\":[{\"marker\":{\"colorbar\":{\"outlinewidth\":0,\"ticks\":\"\"}},\"type\":\"scattergl\"}],\"scattermapbox\":[{\"marker\":{\"colorbar\":{\"outlinewidth\":0,\"ticks\":\"\"}},\"type\":\"scattermapbox\"}],\"scatterpolargl\":[{\"marker\":{\"colorbar\":{\"outlinewidth\":0,\"ticks\":\"\"}},\"type\":\"scatterpolargl\"}],\"scatterpolar\":[{\"marker\":{\"colorbar\":{\"outlinewidth\":0,\"ticks\":\"\"}},\"type\":\"scatterpolar\"}],\"scatter\":[{\"fillpattern\":{\"fillmode\":\"overlay\",\"size\":10,\"solidity\":0.2},\"type\":\"scatter\"}],\"scatterternary\":[{\"marker\":{\"colorbar\":{\"outlinewidth\":0,\"ticks\":\"\"}},\"type\":\"scatterternary\"}],\"surface\":[{\"colorbar\":{\"outlinewidth\":0,\"ticks\":\"\"},\"colorscale\":[[0.0,\"#0d0887\"],[0.1111111111111111,\"#46039f\"],[0.2222222222222222,\"#7201a8\"],[0.3333333333333333,\"#9c179e\"],[0.4444444444444444,\"#bd3786\"],[0.5555555555555556,\"#d8576b\"],[0.6666666666666666,\"#ed7953\"],[0.7777777777777778,\"#fb9f3a\"],[0.8888888888888888,\"#fdca26\"],[1.0,\"#f0f921\"]],\"type\":\"surface\"}],\"table\":[{\"cells\":{\"fill\":{\"color\":\"#EBF0F8\"},\"line\":{\"color\":\"white\"}},\"header\":{\"fill\":{\"color\":\"#C8D4E3\"},\"line\":{\"color\":\"white\"}},\"type\":\"table\"}]},\"layout\":{\"annotationdefaults\":{\"arrowcolor\":\"#2a3f5f\",\"arrowhead\":0,\"arrowwidth\":1},\"autotypenumbers\":\"strict\",\"coloraxis\":{\"colorbar\":{\"outlinewidth\":0,\"ticks\":\"\"}},\"colorscale\":{\"diverging\":[[0,\"#8e0152\"],[0.1,\"#c51b7d\"],[0.2,\"#de77ae\"],[0.3,\"#f1b6da\"],[0.4,\"#fde0ef\"],[0.5,\"#f7f7f7\"],[0.6,\"#e6f5d0\"],[0.7,\"#b8e186\"],[0.8,\"#7fbc41\"],[0.9,\"#4d9221\"],[1,\"#276419\"]],\"sequential\":[[0.0,\"#0d0887\"],[0.1111111111111111,\"#46039f\"],[0.2222222222222222,\"#7201a8\"],[0.3333333333333333,\"#9c179e\"],[0.4444444444444444,\"#bd3786\"],[0.5555555555555556,\"#d8576b\"],[0.6666666666666666,\"#ed7953\"],[0.7777777777777778,\"#fb9f3a\"],[0.8888888888888888,\"#fdca26\"],[1.0,\"#f0f921\"]],\"sequentialminus\":[[0.0,\"#0d0887\"],[0.1111111111111111,\"#46039f\"],[0.2222222222222222,\"#7201a8\"],[0.3333333333333333,\"#9c179e\"],[0.4444444444444444,\"#bd3786\"],[0.5555555555555556,\"#d8576b\"],[0.6666666666666666,\"#ed7953\"],[0.7777777777777778,\"#fb9f3a\"],[0.8888888888888888,\"#fdca26\"],[1.0,\"#f0f921\"]]},\"colorway\":[\"#636efa\",\"#EF553B\",\"#00cc96\",\"#ab63fa\",\"#FFA15A\",\"#19d3f3\",\"#FF6692\",\"#B6E880\",\"#FF97FF\",\"#FECB52\"],\"font\":{\"color\":\"#2a3f5f\"},\"geo\":{\"bgcolor\":\"white\",\"lakecolor\":\"white\",\"landcolor\":\"white\",\"showlakes\":true,\"showland\":true,\"subunitcolor\":\"#C8D4E3\"},\"hoverlabel\":{\"align\":\"left\"},\"hovermode\":\"closest\",\"mapbox\":{\"style\":\"light\"},\"paper_bgcolor\":\"white\",\"plot_bgcolor\":\"white\",\"polar\":{\"angularaxis\":{\"gridcolor\":\"#EBF0F8\",\"linecolor\":\"#EBF0F8\",\"ticks\":\"\"},\"bgcolor\":\"white\",\"radialaxis\":{\"gridcolor\":\"#EBF0F8\",\"linecolor\":\"#EBF0F8\",\"ticks\":\"\"}},\"scene\":{\"xaxis\":{\"backgroundcolor\":\"white\",\"gridcolor\":\"#DFE8F3\",\"gridwidth\":2,\"linecolor\":\"#EBF0F8\",\"showbackground\":true,\"ticks\":\"\",\"zerolinecolor\":\"#EBF0F8\"},\"yaxis\":{\"backgroundcolor\":\"white\",\"gridcolor\":\"#DFE8F3\",\"gridwidth\":2,\"linecolor\":\"#EBF0F8\",\"showbackground\":true,\"ticks\":\"\",\"zerolinecolor\":\"#EBF0F8\"},\"zaxis\":{\"backgroundcolor\":\"white\",\"gridcolor\":\"#DFE8F3\",\"gridwidth\":2,\"linecolor\":\"#EBF0F8\",\"showbackground\":true,\"ticks\":\"\",\"zerolinecolor\":\"#EBF0F8\"}},\"shapedefaults\":{\"line\":{\"color\":\"#2a3f5f\"}},\"ternary\":{\"aaxis\":{\"gridcolor\":\"#DFE8F3\",\"linecolor\":\"#A2B1C6\",\"ticks\":\"\"},\"baxis\":{\"gridcolor\":\"#DFE8F3\",\"linecolor\":\"#A2B1C6\",\"ticks\":\"\"},\"bgcolor\":\"white\",\"caxis\":{\"gridcolor\":\"#DFE8F3\",\"linecolor\":\"#A2B1C6\",\"ticks\":\"\"}},\"title\":{\"x\":0.05},\"xaxis\":{\"automargin\":true,\"gridcolor\":\"#EBF0F8\",\"linecolor\":\"#EBF0F8\",\"ticks\":\"\",\"title\":{\"standoff\":15},\"zerolinecolor\":\"#EBF0F8\",\"zerolinewidth\":2},\"yaxis\":{\"automargin\":true,\"gridcolor\":\"#EBF0F8\",\"linecolor\":\"#EBF0F8\",\"ticks\":\"\",\"title\":{\"standoff\":15},\"zerolinecolor\":\"#EBF0F8\",\"zerolinewidth\":2}}},\"xaxis\":{\"title\":{\"text\":\"Risque annuel (volatilit\\u00e9)\"},\"range\":[0.18,0.35]},\"yaxis\":{\"title\":{\"text\":\"Rendement annuel\"},\"range\":[0.05,0.29]},\"title\":{\"text\":\"Exemple de portefeuilles al\\u00e9atoires\"},\"width\":850,\"height\":500,\"coloraxis\":{\"colorbar\":{\"title\":{\"text\":\"Ratio de Sharpe\"}}}},                        {\"responsive\": true}                    ).then(function(){\n",
              "                            \n",
              "var gd = document.getElementById('c84b0da7-4ee9-4267-9e8c-6803b1a2cb3e');\n",
              "var x = new MutationObserver(function (mutations, observer) {{\n",
              "        var display = window.getComputedStyle(gd).display;\n",
              "        if (!display || display === 'none') {{\n",
              "            console.log([gd, 'removed!']);\n",
              "            Plotly.purge(gd);\n",
              "            observer.disconnect();\n",
              "        }}\n",
              "}});\n",
              "\n",
              "// Listen for the removal of the full notebook cells\n",
              "var notebookContainer = gd.closest('#notebook-container');\n",
              "if (notebookContainer) {{\n",
              "    x.observe(notebookContainer, {childList: true});\n",
              "}}\n",
              "\n",
              "// Listen for the clearing of the current output cell\n",
              "var outputEl = gd.closest('.output');\n",
              "if (outputEl) {{\n",
              "    x.observe(outputEl, {childList: true});\n",
              "}}\n",
              "\n",
              "                        })                };                            </script>        </div>\n",
              "</body>\n",
              "</html>"
            ]
          },
          "metadata": {}
        }
      ]
    },
    {
      "cell_type": "markdown",
      "source": [
        "Selon Markowitz :\n",
        "- Les points situés sous la frontière ne doivent pas intéresser les investisseurs\n",
        "- Les points situés sur la frontière sont les portefeuilles recherchés par les investisseurs"
      ],
      "metadata": {
        "id": "p7uTDmebPmvD"
      }
    },
    {
      "cell_type": "markdown",
      "source": [
        "En utilisant cette technique d'échantillonnage, nous échantillonnons très rapidement des portefeuilles le long de la frontière efficiente. Certains des premiers portefeuilles échantillonnés sont clairement visibles en dessous de la frontière efficiente ; cependant, cela peut être remédié très facilement en n'ajoutant des portefeuilles qu'après un certain nombre d'itérations."
      ],
      "metadata": {
        "id": "AtQxiy85Squ2"
      }
    },
    {
      "cell_type": "markdown",
      "source": [
        "**Construction d'un portfeuille optimal**\n",
        "\n",
        "Markowitz a introduit deux concepts pour évaluer l'efficacité d'un portefeuille. Le premier concept consiste à trouver le portefeuille qui offre le rendement le plus élevé pour un niveau de risque donné. Le deuxième concept consiste à trouver le portefeuille qui a le risque le plus faible pour un rendement attendu donné. Les portefeuilles efficients de l'ensemble des actifs considérés forment la frontière efficiente. Parmi ces portefeuilles, pour obtenir un rendement plus élevé, il est nécessaire d'accepter un risque plus élevé. Selon ces deux critères, tout autre investissement serait sous-optimal en termes de rendement et de volatilité. Il n'est pas possible de trouver un portefeuille \"meilleur\" que ceux situés sur la frontière efficiente. La forme de la frontière efficiente dépend de la présence ou de l'absence d'un actif sans risque."
      ],
      "metadata": {
        "id": "hd7zbf8-SzRq"
      }
    },
    {
      "cell_type": "markdown",
      "source": [
        "#**G. Application du modèle de Markowitz au portefeuille de crédits divisé par secteurs**"
      ],
      "metadata": {
        "id": "pAc3thaMWIG6"
      }
    },
    {
      "cell_type": "markdown",
      "source": [
        "Toutes les étapes précédentes concourent toutes entre elles à l’obtention des\n",
        "paramètres intervenant dans le modèle de Markowitz à savoir les poids initiaux des actifs dans le portefeuille, les rendements observés sur chaque\n",
        "secteur d’activité et aussi lecoût du risque sectoriel. Ces éléments étant tous\n",
        "réunis, l’algorithme du modèle de Markowitz permet d’obtenir les nouveaux\n",
        "poids en fonction des contraintes fixées. Les contraintes sont déterminées sur\n",
        "le rendement du portfeuille, en effet on cherche à atteindre un rendement cible\n",
        "($µ_P = 2.5%$). La\n",
        "contrainte sur le coût du risque n’est pas choisie par limite de coût de risque\n",
        "que l’on veut dépasser sur un secteur d’activité, mais elle est plus d’ordre global\n",
        "sur tous les secteurs d’activités. Le M est fixé à **onze millions**."
      ],
      "metadata": {
        "id": "CeGPg-fsWM7Z"
      }
    },
    {
      "cell_type": "markdown",
      "source": [
        "On essaie de générer une table de rendements des différents secteurs d'activités de notre portfeuille, puisque l'optimisation faite est **sectorielle**. La table à optimiser est la suivante:"
      ],
      "metadata": {
        "id": "JG4oEleSY6YJ"
      }
    },
    {
      "cell_type": "markdown",
      "source": [
        "![image.png](data:image/png;base64,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)"
      ],
      "metadata": {
        "id": "-XZYhyg_cJvK"
      }
    },
    {
      "cell_type": "markdown",
      "source": [
        "On va résoudre ce problème en l'implémentant sur python et en utilisant la bibliothèque **'cvxpy'** qui résoud les problèmes d'optimisation convexes."
      ],
      "metadata": {
        "id": "9TXX9u2LzuxU"
      }
    },
    {
      "cell_type": "code",
      "source": [
        "import numpy as np\n",
        "import cvxpy as cp\n",
        "\n",
        "# Données d'entrée\n",
        "w_table = np.array([0.67, 2.15, 0.89,0.70,14.42,19.09,6.24,10.54,0.15,0.01,18.54,0.11,3.43,2.77,0.08,1.00,8.58,10.63])  # Tableau des valeurs de w_i\n",
        "R_table = np.array([0.40, 2.20, 3.01,1.61,1.24,0.58,0.67,1.83,2.53,2.90,0.31,1.04,0.73,2.89,0.39,1.27,1.16,0.75])  # Tableau des rendements R_i\n",
        "mu = 2.5  # Rendement moyen cible\n",
        "M = 11000000  # Limite supérieure pour le risque\n",
        "\n",
        "# Variables d'optimisation\n",
        "n = len(w_table)\n",
        "w = cp.Variable(n)\n",
        "\n",
        "# Contraintes\n",
        "constraints = [w @ R_table <= M,\n",
        "               w @ np.ones(n) == 1,\n",
        "               w @ np.array([mu] * n) == cp.sum(w @ R_table),\n",
        "               w >= 0]\n",
        "\n",
        "# Fonction objectif\n",
        "objective = cp.Minimize(cp.quad_form(w, np.eye(n)))\n",
        "\n",
        "# Problème d'optimisation\n",
        "problem = cp.Problem(objective, constraints)\n",
        "\n",
        "# Résolution du problème\n",
        "problem.solve()\n",
        "\n",
        "# Récupérer les valeurs optimales de w_i\n",
        "optimal_w = w.value\n",
        "\n",
        "print(\"Les valeurs optimales de w_i:\")\n",
        "print(optimal_w)"
      ],
      "metadata": {
        "colab": {
          "base_uri": "https://localhost:8080/"
        },
        "id": "XOlnqY_x2uOR",
        "outputId": "32393adf-57dd-4ae1-a2ab-c62a6cf4644b"
      },
      "execution_count": null,
      "outputs": [
        {
          "output_type": "stream",
          "name": "stdout",
          "text": [
            "Les valeurs optimales de w_i:\n",
            "[ 9.08070811e-24  1.11619916e-01  1.84847478e-01  5.82813223e-02\n",
            "  2.48316956e-02  6.09473364e-24  9.48329150e-24  7.81702896e-02\n",
            "  1.41453367e-01  1.74902994e-01  1.91961358e-23  6.75081628e-03\n",
            "  1.09711441e-24  1.73998950e-01 -5.71633502e-25  2.75438275e-02\n",
            "  1.75993439e-02  5.67148944e-24]\n"
          ]
        }
      ]
    }
  ]
}